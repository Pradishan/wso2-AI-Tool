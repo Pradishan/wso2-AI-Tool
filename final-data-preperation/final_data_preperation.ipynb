{
 "cells": [
  {
   "cell_type": "markdown",
   "id": "06ee86fc",
   "metadata": {},
   "source": [
    "# final Data preperation "
   ]
  },
  {
   "cell_type": "code",
   "execution_count": 1,
   "id": "3ef42c9d",
   "metadata": {},
   "outputs": [],
   "source": [
    "import pandas as pd;\n",
    "import numpy as np;\n",
    "import sys;\n",
    "import os;"
   ]
  },
  {
   "cell_type": "code",
   "execution_count": 6,
   "id": "cb1fa577",
   "metadata": {},
   "outputs": [
    {
     "data": {
      "application/vnd.microsoft.datawrangler.viewer.v0+json": {
       "columns": [
        {
         "name": "index",
         "rawType": "int64",
         "type": "integer"
        },
        {
         "name": "pr_number",
         "rawType": "int64",
         "type": "integer"
        },
        {
         "name": "pr_link",
         "rawType": "object",
         "type": "string"
        },
        {
         "name": "pr_title",
         "rawType": "object",
         "type": "string"
        },
        {
         "name": "pr_body",
         "rawType": "object",
         "type": "string"
        },
        {
         "name": "issue_number",
         "rawType": "float64",
         "type": "float"
        },
        {
         "name": "issue_link",
         "rawType": "object",
         "type": "string"
        }
       ],
       "ref": "6894975f-1adf-4bb6-8091-3f931c4df04f",
       "rows": [
        [
         "2",
         "12762",
         "https://github.com/ballerina-platform/ballerina-lang/pull/12762",
         "Add examples for anonymous records and anonymous objects",
         "## Purpose\r\n> Fix #10825 ",
         "10825.0",
         "https://github.com/ballerina-platform/ballerina-lang/issues/10825"
        ],
        [
         "3",
         "29650",
         "https://github.com/ballerina-platform/ballerina-lang/pull/29650",
         "[LS] Fix invalid type cast being applied for nil types and unions with error members",
         "## Purpose\r\n$subject\r\n\r\nFixes #29573\r\nFixes #29428\r\n\r\n## Check List \r\n- [x] Read the [Contributing Guide](https://github.com/ballerina-platform/ballerina-lang/blob/master/CONTRIBUTING.md)\r\n- [ ] Updated Change Log\r\n- [ ] Checked Tooling Support (#<Issue Number>)\r\n- [x] Added necessary tests\r\n  - [x] Unit Tests\r\n  - [ ] Spec Conformance Tests\r\n  - [ ] Integration Tests\r\n  - [ ] Ballerina By Example Tests\r\n- [x] Increased Test Coverage   \r\n- [ ] Added necessary documentation  \r\n  - [ ] API documentation \r\n  - [ ] Module documentation in Module.md files\r\n  - [ ] Ballerina By Examples\r\n",
         "29428.0",
         "https://github.com/ballerina-platform/ballerina-lang/issues/29428"
        ],
        [
         "4",
         "29650",
         "https://github.com/ballerina-platform/ballerina-lang/pull/29650",
         "[LS] Fix invalid type cast being applied for nil types and unions with error members",
         "## Purpose\r\n$subject\r\n\r\nFixes #29573\r\nFixes #29428\r\n\r\n## Check List \r\n- [x] Read the [Contributing Guide](https://github.com/ballerina-platform/ballerina-lang/blob/master/CONTRIBUTING.md)\r\n- [ ] Updated Change Log\r\n- [ ] Checked Tooling Support (#<Issue Number>)\r\n- [x] Added necessary tests\r\n  - [x] Unit Tests\r\n  - [ ] Spec Conformance Tests\r\n  - [ ] Integration Tests\r\n  - [ ] Ballerina By Example Tests\r\n- [x] Increased Test Coverage   \r\n- [ ] Added necessary documentation  \r\n  - [ ] API documentation \r\n  - [ ] Module documentation in Module.md files\r\n  - [ ] Ballerina By Examples\r\n",
         "29573.0",
         "https://github.com/ballerina-platform/ballerina-lang/issues/29573"
        ],
        [
         "6",
         "31849",
         "https://github.com/ballerina-platform/ballerina-lang/pull/31849",
         "Fix xml equals check in TypeChecker",
         "## Purpose\r\n$subject\r\nFixes #25709 \r\n\r\n## Approach\r\nFix unchecked casting to `XmlValue`\r\n\r\n## Samples\r\n```ballerina \r\nanydata xmlValue = xml `<book>The Lost World</book>`;\r\nanydata xmlString = \"<book>The Lost World</book>\";\r\nif (xmlValue == xmlString) {\r\n   io:println(\"xmlValue\");\r\n}\r\n```\r\n\r\n## Check List \r\n- [x] Read the [Contributing Guide](https://github.com/ballerina-platform/ballerina-lang/blob/master/CONTRIBUTING.md)\r\n- [ ] Updated Change Log\r\n- [ ] Checked Tooling Support (#<Issue Number>)\r\n- [x] Added necessary tests\r\n  - [x] Unit Tests\r\n  - [ ] Spec Conformance Tests\r\n  - [ ] Integration Tests\r\n  - [ ] Ballerina By Example Tests\r\n- [ ] Increased Test Coverage   \r\n- [ ] Added necessary documentation  \r\n  - [ ] API documentation \r\n  - [ ] Module documentation in Module.md files\r\n  - [ ] Ballerina By Examples\r\n",
         "25709.0",
         "https://github.com/ballerina-platform/ballerina-lang/issues/25709"
        ],
        [
         "9",
         "29642",
         "https://github.com/ballerina-platform/ballerina-lang/pull/29642",
         "Fix type check for `ordered` types",
         "## Purpose\r\n$title\r\n\r\nFixes #29643\r\n\r\n## Approach\r\nUnions of different types are not ordered types. ex:int|float\r\n\r\n## Samples\r\n> Provide high-level details about the samples related to this feature.\r\n\r\n## Remarks\r\n> List any other known issues, related PRs, TODO items, or any other notes related to the PR.\r\n\r\n## Check List \r\n- [X] Read the [Contributing Guide](https://github.com/ballerina-platform/ballerina-lang/blob/master/CONTRIBUTING.md)\r\n- [ ] Updated Change Log\r\n- [ ] Checked Tooling Support (#<Issue Number>)\r\n- [X] Added necessary tests\r\n  - [x] Unit Tests\r\n  - [ ] Spec Conformance Tests\r\n  - [ ] Integration Tests\r\n  - [ ] Ballerina By Example Tests\r\n- [ ] Increased Test Coverage   \r\n- [ ] Added necessary documentation  \r\n  - [ ] API documentation \r\n  - [ ] Module documentation in Module.md files\r\n  - [ ] Ballerina By Examples\r\n",
         "29643.0",
         "https://github.com/ballerina-platform/ballerina-lang/issues/29643"
        ]
       ],
       "shape": {
        "columns": 6,
        "rows": 5
       }
      },
      "text/html": [
       "<div>\n",
       "<style scoped>\n",
       "    .dataframe tbody tr th:only-of-type {\n",
       "        vertical-align: middle;\n",
       "    }\n",
       "\n",
       "    .dataframe tbody tr th {\n",
       "        vertical-align: top;\n",
       "    }\n",
       "\n",
       "    .dataframe thead th {\n",
       "        text-align: right;\n",
       "    }\n",
       "</style>\n",
       "<table border=\"1\" class=\"dataframe\">\n",
       "  <thead>\n",
       "    <tr style=\"text-align: right;\">\n",
       "      <th></th>\n",
       "      <th>pr_number</th>\n",
       "      <th>pr_link</th>\n",
       "      <th>pr_title</th>\n",
       "      <th>pr_body</th>\n",
       "      <th>issue_number</th>\n",
       "      <th>issue_link</th>\n",
       "    </tr>\n",
       "  </thead>\n",
       "  <tbody>\n",
       "    <tr>\n",
       "      <th>2</th>\n",
       "      <td>12762</td>\n",
       "      <td>https://github.com/ballerina-platform/ballerin...</td>\n",
       "      <td>Add examples for anonymous records and anonymo...</td>\n",
       "      <td>## Purpose\\r\\n&gt; Fix #10825</td>\n",
       "      <td>10825.0</td>\n",
       "      <td>https://github.com/ballerina-platform/ballerin...</td>\n",
       "    </tr>\n",
       "    <tr>\n",
       "      <th>3</th>\n",
       "      <td>29650</td>\n",
       "      <td>https://github.com/ballerina-platform/ballerin...</td>\n",
       "      <td>[LS] Fix invalid type cast being applied for n...</td>\n",
       "      <td>## Purpose\\r\\n$subject\\r\\n\\r\\nFixes #29573\\r\\n...</td>\n",
       "      <td>29428.0</td>\n",
       "      <td>https://github.com/ballerina-platform/ballerin...</td>\n",
       "    </tr>\n",
       "    <tr>\n",
       "      <th>4</th>\n",
       "      <td>29650</td>\n",
       "      <td>https://github.com/ballerina-platform/ballerin...</td>\n",
       "      <td>[LS] Fix invalid type cast being applied for n...</td>\n",
       "      <td>## Purpose\\r\\n$subject\\r\\n\\r\\nFixes #29573\\r\\n...</td>\n",
       "      <td>29573.0</td>\n",
       "      <td>https://github.com/ballerina-platform/ballerin...</td>\n",
       "    </tr>\n",
       "    <tr>\n",
       "      <th>6</th>\n",
       "      <td>31849</td>\n",
       "      <td>https://github.com/ballerina-platform/ballerin...</td>\n",
       "      <td>Fix xml equals check in TypeChecker</td>\n",
       "      <td>## Purpose\\r\\n$subject\\r\\nFixes #25709 \\r\\n\\r\\...</td>\n",
       "      <td>25709.0</td>\n",
       "      <td>https://github.com/ballerina-platform/ballerin...</td>\n",
       "    </tr>\n",
       "    <tr>\n",
       "      <th>9</th>\n",
       "      <td>29642</td>\n",
       "      <td>https://github.com/ballerina-platform/ballerin...</td>\n",
       "      <td>Fix type check for `ordered` types</td>\n",
       "      <td>## Purpose\\r\\n$title\\r\\n\\r\\nFixes #29643\\r\\n\\r...</td>\n",
       "      <td>29643.0</td>\n",
       "      <td>https://github.com/ballerina-platform/ballerin...</td>\n",
       "    </tr>\n",
       "  </tbody>\n",
       "</table>\n",
       "</div>"
      ],
      "text/plain": [
       "   pr_number                                            pr_link  \\\n",
       "2      12762  https://github.com/ballerina-platform/ballerin...   \n",
       "3      29650  https://github.com/ballerina-platform/ballerin...   \n",
       "4      29650  https://github.com/ballerina-platform/ballerin...   \n",
       "6      31849  https://github.com/ballerina-platform/ballerin...   \n",
       "9      29642  https://github.com/ballerina-platform/ballerin...   \n",
       "\n",
       "                                            pr_title  \\\n",
       "2  Add examples for anonymous records and anonymo...   \n",
       "3  [LS] Fix invalid type cast being applied for n...   \n",
       "4  [LS] Fix invalid type cast being applied for n...   \n",
       "6                Fix xml equals check in TypeChecker   \n",
       "9                 Fix type check for `ordered` types   \n",
       "\n",
       "                                             pr_body  issue_number  \\\n",
       "2                        ## Purpose\\r\\n> Fix #10825        10825.0   \n",
       "3  ## Purpose\\r\\n$subject\\r\\n\\r\\nFixes #29573\\r\\n...       29428.0   \n",
       "4  ## Purpose\\r\\n$subject\\r\\n\\r\\nFixes #29573\\r\\n...       29573.0   \n",
       "6  ## Purpose\\r\\n$subject\\r\\nFixes #25709 \\r\\n\\r\\...       25709.0   \n",
       "9  ## Purpose\\r\\n$title\\r\\n\\r\\nFixes #29643\\r\\n\\r...       29643.0   \n",
       "\n",
       "                                          issue_link  \n",
       "2  https://github.com/ballerina-platform/ballerin...  \n",
       "3  https://github.com/ballerina-platform/ballerin...  \n",
       "4  https://github.com/ballerina-platform/ballerin...  \n",
       "6  https://github.com/ballerina-platform/ballerin...  \n",
       "9  https://github.com/ballerina-platform/ballerin...  "
      ]
     },
     "execution_count": 6,
     "metadata": {},
     "output_type": "execute_result"
    }
   ],
   "source": [
    "df_discription = pd.read_csv(\"../data/keyword-linking/pullrequestToIssue/closed_prs_summary_with_extracted_issues_from_body.csv\");\n",
    "df_discription = df_discription.dropna(subset=[\"extracted_issue_number_body\"]);\n",
    "df_discription = df_discription.drop(columns=[\"issue_link_source\",\"found_in_body\",\"original_row_index\"]);\n",
    "df_discription = df_discription.rename(columns={\"extracted_issue_number_body\": \"issue_number\",\"extracted_issue_link_body\": \"issue_link\"});\n",
    "df_discription = df_discription.drop_duplicates(subset=[\"pr_number\",\"pr_link\",\"issue_number\",\"issue_link\"]);\n",
    "df_discription.head()"
   ]
  },
  {
   "cell_type": "code",
   "execution_count": 7,
   "id": "9b255877",
   "metadata": {},
   "outputs": [
    {
     "data": {
      "application/vnd.microsoft.datawrangler.viewer.v0+json": {
       "columns": [
        {
         "name": "index",
         "rawType": "int64",
         "type": "integer"
        },
        {
         "name": "pr_number",
         "rawType": "int64",
         "type": "integer"
        },
        {
         "name": "pr_link",
         "rawType": "object",
         "type": "string"
        },
        {
         "name": "pr_title",
         "rawType": "object",
         "type": "string"
        },
        {
         "name": "pr_body",
         "rawType": "object",
         "type": "unknown"
        },
        {
         "name": "issue_number",
         "rawType": "float64",
         "type": "float"
        },
        {
         "name": "issue_link",
         "rawType": "object",
         "type": "string"
        }
       ],
       "ref": "67d8858f-2ddf-46c3-942b-947258cf9934",
       "rows": [
        [
         "141",
         "2853",
         "https://github.com/ballerina-platform/ballerina-lang/pull/2853",
         "Support expressions in constants issue #2847.",
         null,
         "2847.0",
         "https://github.com/ballerina-platform/ballerina-lang/issues/2847"
        ],
        [
         "174",
         "24179",
         "https://github.com/ballerina-platform/ballerina-lang/pull/24179",
         "Fix code suggestion for PR #23473",
         "## Purpose\r\n> Describe the problems, issues, or needs driving this feature/fix and include links to related issues.\r\n\r\nFixes #15533\r\nhttps://github.com/ballerina-platform/ballerina-lang/pull/23473#discussion_r439937146\r\n\r\n## Check List \r\n- [x] Read the [Contributing Guide](https://github.com/ballerina-platform/ballerina-lang/blob/master/CONTRIBUTING.md)\r\n- [ ] Updated Change Log\r\n- [ ] Checked Tooling Support (#<Issue Number>)\r\n- [x] Added necessary tests\r\n  - [x] Unit Tests\r\n  - [ ] Spec Conformance Tests\r\n  - [ ] Integration Tests\r\n  - [ ] Ballerina By Example Tests\r\n- [ ] Increased Test Coverage   \r\n- [ ] Added necessary documentation  \r\n  - [ ] API documentation \r\n  - [ ] Module documentation in Module.md files\r\n  - [ ] Ballerina By Examples\r\n",
         "23473.0",
         "https://github.com/ballerina-platform/ballerina-lang/issues/23473"
        ],
        [
         "211",
         "1454",
         "https://github.com/ballerina-platform/ballerina-lang/pull/1454",
         "fixing git issue[#1427] Icons should be of same width",
         null,
         "1427.0",
         "https://github.com/ballerina-platform/ballerina-lang/issues/1427"
        ],
        [
         "214",
         "9362",
         "https://github.com/ballerina-platform/ballerina-lang/pull/9362",
         "Fix #9321 Unknown error occurred",
         "Fix #9321",
         "9321.0",
         "https://github.com/ballerina-platform/ballerina-lang/issues/9321"
        ],
        [
         "290",
         "2101",
         "https://github.com/ballerina-platform/ballerina-lang/pull/2101",
         "#1923 fix concurrency issue",
         "Fixes #1923",
         "1923.0",
         "https://github.com/ballerina-platform/ballerina-lang/issues/1923"
        ]
       ],
       "shape": {
        "columns": 6,
        "rows": 5
       }
      },
      "text/html": [
       "<div>\n",
       "<style scoped>\n",
       "    .dataframe tbody tr th:only-of-type {\n",
       "        vertical-align: middle;\n",
       "    }\n",
       "\n",
       "    .dataframe tbody tr th {\n",
       "        vertical-align: top;\n",
       "    }\n",
       "\n",
       "    .dataframe thead th {\n",
       "        text-align: right;\n",
       "    }\n",
       "</style>\n",
       "<table border=\"1\" class=\"dataframe\">\n",
       "  <thead>\n",
       "    <tr style=\"text-align: right;\">\n",
       "      <th></th>\n",
       "      <th>pr_number</th>\n",
       "      <th>pr_link</th>\n",
       "      <th>pr_title</th>\n",
       "      <th>pr_body</th>\n",
       "      <th>issue_number</th>\n",
       "      <th>issue_link</th>\n",
       "    </tr>\n",
       "  </thead>\n",
       "  <tbody>\n",
       "    <tr>\n",
       "      <th>141</th>\n",
       "      <td>2853</td>\n",
       "      <td>https://github.com/ballerina-platform/ballerin...</td>\n",
       "      <td>Support expressions in constants issue #2847.</td>\n",
       "      <td>NaN</td>\n",
       "      <td>2847.0</td>\n",
       "      <td>https://github.com/ballerina-platform/ballerin...</td>\n",
       "    </tr>\n",
       "    <tr>\n",
       "      <th>174</th>\n",
       "      <td>24179</td>\n",
       "      <td>https://github.com/ballerina-platform/ballerin...</td>\n",
       "      <td>Fix code suggestion for PR #23473</td>\n",
       "      <td>## Purpose\\r\\n&gt; Describe the problems, issues,...</td>\n",
       "      <td>23473.0</td>\n",
       "      <td>https://github.com/ballerina-platform/ballerin...</td>\n",
       "    </tr>\n",
       "    <tr>\n",
       "      <th>211</th>\n",
       "      <td>1454</td>\n",
       "      <td>https://github.com/ballerina-platform/ballerin...</td>\n",
       "      <td>fixing git issue[#1427] Icons should be of sam...</td>\n",
       "      <td>NaN</td>\n",
       "      <td>1427.0</td>\n",
       "      <td>https://github.com/ballerina-platform/ballerin...</td>\n",
       "    </tr>\n",
       "    <tr>\n",
       "      <th>214</th>\n",
       "      <td>9362</td>\n",
       "      <td>https://github.com/ballerina-platform/ballerin...</td>\n",
       "      <td>Fix #9321 Unknown error occurred</td>\n",
       "      <td>Fix #9321</td>\n",
       "      <td>9321.0</td>\n",
       "      <td>https://github.com/ballerina-platform/ballerin...</td>\n",
       "    </tr>\n",
       "    <tr>\n",
       "      <th>290</th>\n",
       "      <td>2101</td>\n",
       "      <td>https://github.com/ballerina-platform/ballerin...</td>\n",
       "      <td>#1923 fix concurrency issue</td>\n",
       "      <td>Fixes #1923</td>\n",
       "      <td>1923.0</td>\n",
       "      <td>https://github.com/ballerina-platform/ballerin...</td>\n",
       "    </tr>\n",
       "  </tbody>\n",
       "</table>\n",
       "</div>"
      ],
      "text/plain": [
       "     pr_number                                            pr_link  \\\n",
       "141       2853  https://github.com/ballerina-platform/ballerin...   \n",
       "174      24179  https://github.com/ballerina-platform/ballerin...   \n",
       "211       1454  https://github.com/ballerina-platform/ballerin...   \n",
       "214       9362  https://github.com/ballerina-platform/ballerin...   \n",
       "290       2101  https://github.com/ballerina-platform/ballerin...   \n",
       "\n",
       "                                              pr_title  \\\n",
       "141      Support expressions in constants issue #2847.   \n",
       "174                  Fix code suggestion for PR #23473   \n",
       "211  fixing git issue[#1427] Icons should be of sam...   \n",
       "214                   Fix #9321 Unknown error occurred   \n",
       "290                        #1923 fix concurrency issue   \n",
       "\n",
       "                                               pr_body  issue_number  \\\n",
       "141                                                NaN        2847.0   \n",
       "174  ## Purpose\\r\\n> Describe the problems, issues,...       23473.0   \n",
       "211                                                NaN        1427.0   \n",
       "214                                          Fix #9321        9321.0   \n",
       "290                                        Fixes #1923        1923.0   \n",
       "\n",
       "                                            issue_link  \n",
       "141  https://github.com/ballerina-platform/ballerin...  \n",
       "174  https://github.com/ballerina-platform/ballerin...  \n",
       "211  https://github.com/ballerina-platform/ballerin...  \n",
       "214  https://github.com/ballerina-platform/ballerin...  \n",
       "290  https://github.com/ballerina-platform/ballerin...  "
      ]
     },
     "execution_count": 7,
     "metadata": {},
     "output_type": "execute_result"
    }
   ],
   "source": [
    "df_title = pd.read_csv(\"../data/keyword-linking/pullrequestToIssue/closed_prs_summary_with_extracted_issues.csv\");\n",
    "df_title = df_title.dropna(subset=[\"extracted_issue_number\"]);\n",
    "df_title = df_title.drop(columns=[\"found_in_title\",\"original_row_index\"]);\n",
    "df_title = df_title.rename(columns={\"extracted_issue_number\": \"issue_number\",\"extracted_issue_link\": \"issue_link\"});\n",
    "df_title = df_title.drop_duplicates(subset=[\"pr_number\",\"pr_link\",\"issue_number\",\"issue_link\"]);\n",
    "df_title.head()"
   ]
  },
  {
   "cell_type": "code",
   "execution_count": 8,
   "id": "d40d86b6",
   "metadata": {},
   "outputs": [
    {
     "data": {
      "text/plain": [
       "(15355, 6)"
      ]
     },
     "execution_count": 8,
     "metadata": {},
     "output_type": "execute_result"
    }
   ],
   "source": [
    "df_final = pd.concat([df_discription, df_title], ignore_index=True);\n",
    "df_final = df_final.drop_duplicates(subset=[\"pr_number\",\"pr_link\",\"issue_number\",\"issue_link\"]);\n",
    "df_final.shape"
   ]
  },
  {
   "cell_type": "code",
   "execution_count": 9,
   "id": "34891b85",
   "metadata": {},
   "outputs": [],
   "source": [
    "df_final.to_csv(\"../data/keyword-linking/pullrequestToIssue/final.csv\", index=False);"
   ]
  }
 ],
 "metadata": {
  "kernelspec": {
   "display_name": ".venv",
   "language": "python",
   "name": "python3"
  },
  "language_info": {
   "codemirror_mode": {
    "name": "ipython",
    "version": 3
   },
   "file_extension": ".py",
   "mimetype": "text/x-python",
   "name": "python",
   "nbconvert_exporter": "python",
   "pygments_lexer": "ipython3",
   "version": "3.9.0"
  }
 },
 "nbformat": 4,
 "nbformat_minor": 5
}
