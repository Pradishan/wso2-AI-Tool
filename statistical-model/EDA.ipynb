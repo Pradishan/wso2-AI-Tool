{
 "cells": [
  {
   "cell_type": "markdown",
   "id": "a571e5c1",
   "metadata": {},
   "source": [
    "# Exploratory Data Analysis (EDA)\n"
   ]
  },
  {
   "cell_type": "code",
   "execution_count": 3,
   "id": "f3e3b599",
   "metadata": {},
   "outputs": [],
   "source": [
    "import pandas as pd\n",
    "import seaborn as sns\n",
    "import matplotlib.pyplot as plt"
   ]
  },
  {
   "cell_type": "code",
   "execution_count": 4,
   "id": "d7a27445",
   "metadata": {},
   "outputs": [
    {
     "data": {
      "application/vnd.microsoft.datawrangler.viewer.v0+json": {
       "columns": [
        {
         "name": "index",
         "rawType": "int64",
         "type": "integer"
        },
        {
         "name": "commit_hash",
         "rawType": "object",
         "type": "string"
        },
        {
         "name": "author_email",
         "rawType": "object",
         "type": "string"
        },
        {
         "name": "commit_date",
         "rawType": "object",
         "type": "string"
        },
        {
         "name": "lines_added",
         "rawType": "int64",
         "type": "integer"
        },
        {
         "name": "lines_deleted",
         "rawType": "int64",
         "type": "integer"
        },
        {
         "name": "files_changed",
         "rawType": "int64",
         "type": "integer"
        },
        {
         "name": "num_modified_subsystems",
         "rawType": "int64",
         "type": "integer"
        },
        {
         "name": "num_modified_dirs",
         "rawType": "int64",
         "type": "integer"
        },
        {
         "name": "entropy",
         "rawType": "float64",
         "type": "float"
        },
        {
         "name": "previous_total_size",
         "rawType": "int64",
         "type": "integer"
        },
        {
         "name": "author_total_commits",
         "rawType": "int64",
         "type": "integer"
        },
        {
         "name": "time_since_last_commit",
         "rawType": "float64",
         "type": "float"
        },
        {
         "name": "recent_commits",
         "rawType": "int64",
         "type": "integer"
        },
        {
         "name": "prior_committers",
         "rawType": "int64",
         "type": "integer"
        },
        {
         "name": "number_of_highly_coupled_files",
         "rawType": "int64",
         "type": "integer"
        },
        {
         "name": "number_of_coupled_files_for all_degrees",
         "rawType": "int64",
         "type": "integer"
        },
        {
         "name": "number_of_non_modified_coupled_files",
         "rawType": "int64",
         "type": "integer"
        },
        {
         "name": "is_bug_introducing",
         "rawType": "int64",
         "type": "integer"
        }
       ],
       "ref": "fbd85928-c691-4c1f-9792-541f4c0e910b",
       "rows": [
        [
         "0",
         "cfa03556d2a50f5d3381bd12a97f25a1e9e8476b",
         "tharik.kanaka@gmail.com",
         "2025-06-14 08:32:25+05:30",
         "1",
         "1",
         "1",
         "1",
         "1",
         "0.0",
         "18750",
         "1714",
         "76501.0",
         "5",
         "20",
         "0",
         "0",
         "0",
         "0"
        ],
        [
         "1",
         "ecef3657b88330f2cae320f14ef30407dcb67b5a",
         "azinneera@gmail.com",
         "2025-06-13 15:11:12+05:30",
         "4655",
         "1983",
         "156",
         "5",
         "57",
         "5.454746677931985",
         "788109",
         "1079",
         "669696.0",
         "16",
         "199",
         "8",
         "19",
         "13",
         "0"
        ],
        [
         "2",
         "ac47d27abdb60e0b1a3146324183513aadb8fa27",
         "tharik.kanaka@gmail.com",
         "2025-06-13 11:17:24+05:30",
         "2",
         "2",
         "2",
         "2",
         "2",
         "1.0",
         "17327",
         "1713",
         "954112.0",
         "4",
         "166",
         "0",
         "0",
         "1",
         "0"
        ],
        [
         "3",
         "b2b3f93fba80d28c5b244baf3b6754b662eb872f",
         "azinneera@gmail.com",
         "2025-06-05 21:09:36+05:30",
         "1565",
         "999",
         "34",
         "3",
         "12",
         "3.406616641705556",
         "485212",
         "1078",
         "692500.0",
         "16",
         "120",
         "0",
         "2",
         "2",
         "0"
        ],
        [
         "4",
         "e965df23ea6af12075af0901c2ea13880bbfdede",
         "azinneera@gmail.com",
         "2025-05-28 20:47:56+05:30",
         "6",
         "6",
         "4",
         "2",
         "3",
         "1.6258145836939115",
         "129048",
         "1077",
         "89930.0",
         "7",
         "116",
         "0",
         "0",
         "2",
         "0"
        ]
       ],
       "shape": {
        "columns": 18,
        "rows": 5
       }
      },
      "text/html": [
       "<div>\n",
       "<style scoped>\n",
       "    .dataframe tbody tr th:only-of-type {\n",
       "        vertical-align: middle;\n",
       "    }\n",
       "\n",
       "    .dataframe tbody tr th {\n",
       "        vertical-align: top;\n",
       "    }\n",
       "\n",
       "    .dataframe thead th {\n",
       "        text-align: right;\n",
       "    }\n",
       "</style>\n",
       "<table border=\"1\" class=\"dataframe\">\n",
       "  <thead>\n",
       "    <tr style=\"text-align: right;\">\n",
       "      <th></th>\n",
       "      <th>commit_hash</th>\n",
       "      <th>author_email</th>\n",
       "      <th>commit_date</th>\n",
       "      <th>lines_added</th>\n",
       "      <th>lines_deleted</th>\n",
       "      <th>files_changed</th>\n",
       "      <th>num_modified_subsystems</th>\n",
       "      <th>num_modified_dirs</th>\n",
       "      <th>entropy</th>\n",
       "      <th>previous_total_size</th>\n",
       "      <th>author_total_commits</th>\n",
       "      <th>time_since_last_commit</th>\n",
       "      <th>recent_commits</th>\n",
       "      <th>prior_committers</th>\n",
       "      <th>number_of_highly_coupled_files</th>\n",
       "      <th>number_of_coupled_files_for all_degrees</th>\n",
       "      <th>number_of_non_modified_coupled_files</th>\n",
       "      <th>is_bug_introducing</th>\n",
       "    </tr>\n",
       "  </thead>\n",
       "  <tbody>\n",
       "    <tr>\n",
       "      <th>0</th>\n",
       "      <td>cfa03556d2a50f5d3381bd12a97f25a1e9e8476b</td>\n",
       "      <td>tharik.kanaka@gmail.com</td>\n",
       "      <td>2025-06-14 08:32:25+05:30</td>\n",
       "      <td>1</td>\n",
       "      <td>1</td>\n",
       "      <td>1</td>\n",
       "      <td>1</td>\n",
       "      <td>1</td>\n",
       "      <td>0.000000</td>\n",
       "      <td>18750</td>\n",
       "      <td>1714</td>\n",
       "      <td>76501.0</td>\n",
       "      <td>5</td>\n",
       "      <td>20</td>\n",
       "      <td>0</td>\n",
       "      <td>0</td>\n",
       "      <td>0</td>\n",
       "      <td>0</td>\n",
       "    </tr>\n",
       "    <tr>\n",
       "      <th>1</th>\n",
       "      <td>ecef3657b88330f2cae320f14ef30407dcb67b5a</td>\n",
       "      <td>azinneera@gmail.com</td>\n",
       "      <td>2025-06-13 15:11:12+05:30</td>\n",
       "      <td>4655</td>\n",
       "      <td>1983</td>\n",
       "      <td>156</td>\n",
       "      <td>5</td>\n",
       "      <td>57</td>\n",
       "      <td>5.454747</td>\n",
       "      <td>788109</td>\n",
       "      <td>1079</td>\n",
       "      <td>669696.0</td>\n",
       "      <td>16</td>\n",
       "      <td>199</td>\n",
       "      <td>8</td>\n",
       "      <td>19</td>\n",
       "      <td>13</td>\n",
       "      <td>0</td>\n",
       "    </tr>\n",
       "    <tr>\n",
       "      <th>2</th>\n",
       "      <td>ac47d27abdb60e0b1a3146324183513aadb8fa27</td>\n",
       "      <td>tharik.kanaka@gmail.com</td>\n",
       "      <td>2025-06-13 11:17:24+05:30</td>\n",
       "      <td>2</td>\n",
       "      <td>2</td>\n",
       "      <td>2</td>\n",
       "      <td>2</td>\n",
       "      <td>2</td>\n",
       "      <td>1.000000</td>\n",
       "      <td>17327</td>\n",
       "      <td>1713</td>\n",
       "      <td>954112.0</td>\n",
       "      <td>4</td>\n",
       "      <td>166</td>\n",
       "      <td>0</td>\n",
       "      <td>0</td>\n",
       "      <td>1</td>\n",
       "      <td>0</td>\n",
       "    </tr>\n",
       "    <tr>\n",
       "      <th>3</th>\n",
       "      <td>b2b3f93fba80d28c5b244baf3b6754b662eb872f</td>\n",
       "      <td>azinneera@gmail.com</td>\n",
       "      <td>2025-06-05 21:09:36+05:30</td>\n",
       "      <td>1565</td>\n",
       "      <td>999</td>\n",
       "      <td>34</td>\n",
       "      <td>3</td>\n",
       "      <td>12</td>\n",
       "      <td>3.406617</td>\n",
       "      <td>485212</td>\n",
       "      <td>1078</td>\n",
       "      <td>692500.0</td>\n",
       "      <td>16</td>\n",
       "      <td>120</td>\n",
       "      <td>0</td>\n",
       "      <td>2</td>\n",
       "      <td>2</td>\n",
       "      <td>0</td>\n",
       "    </tr>\n",
       "    <tr>\n",
       "      <th>4</th>\n",
       "      <td>e965df23ea6af12075af0901c2ea13880bbfdede</td>\n",
       "      <td>azinneera@gmail.com</td>\n",
       "      <td>2025-05-28 20:47:56+05:30</td>\n",
       "      <td>6</td>\n",
       "      <td>6</td>\n",
       "      <td>4</td>\n",
       "      <td>2</td>\n",
       "      <td>3</td>\n",
       "      <td>1.625815</td>\n",
       "      <td>129048</td>\n",
       "      <td>1077</td>\n",
       "      <td>89930.0</td>\n",
       "      <td>7</td>\n",
       "      <td>116</td>\n",
       "      <td>0</td>\n",
       "      <td>0</td>\n",
       "      <td>2</td>\n",
       "      <td>0</td>\n",
       "    </tr>\n",
       "  </tbody>\n",
       "</table>\n",
       "</div>"
      ],
      "text/plain": [
       "                                commit_hash             author_email  \\\n",
       "0  cfa03556d2a50f5d3381bd12a97f25a1e9e8476b  tharik.kanaka@gmail.com   \n",
       "1  ecef3657b88330f2cae320f14ef30407dcb67b5a      azinneera@gmail.com   \n",
       "2  ac47d27abdb60e0b1a3146324183513aadb8fa27  tharik.kanaka@gmail.com   \n",
       "3  b2b3f93fba80d28c5b244baf3b6754b662eb872f      azinneera@gmail.com   \n",
       "4  e965df23ea6af12075af0901c2ea13880bbfdede      azinneera@gmail.com   \n",
       "\n",
       "                 commit_date  lines_added  lines_deleted  files_changed  \\\n",
       "0  2025-06-14 08:32:25+05:30            1              1              1   \n",
       "1  2025-06-13 15:11:12+05:30         4655           1983            156   \n",
       "2  2025-06-13 11:17:24+05:30            2              2              2   \n",
       "3  2025-06-05 21:09:36+05:30         1565            999             34   \n",
       "4  2025-05-28 20:47:56+05:30            6              6              4   \n",
       "\n",
       "   num_modified_subsystems  num_modified_dirs   entropy  previous_total_size  \\\n",
       "0                        1                  1  0.000000                18750   \n",
       "1                        5                 57  5.454747               788109   \n",
       "2                        2                  2  1.000000                17327   \n",
       "3                        3                 12  3.406617               485212   \n",
       "4                        2                  3  1.625815               129048   \n",
       "\n",
       "   author_total_commits  time_since_last_commit  recent_commits  \\\n",
       "0                  1714                 76501.0               5   \n",
       "1                  1079                669696.0              16   \n",
       "2                  1713                954112.0               4   \n",
       "3                  1078                692500.0              16   \n",
       "4                  1077                 89930.0               7   \n",
       "\n",
       "   prior_committers  number_of_highly_coupled_files  \\\n",
       "0                20                               0   \n",
       "1               199                               8   \n",
       "2               166                               0   \n",
       "3               120                               0   \n",
       "4               116                               0   \n",
       "\n",
       "   number_of_coupled_files_for all_degrees  \\\n",
       "0                                        0   \n",
       "1                                       19   \n",
       "2                                        0   \n",
       "3                                        2   \n",
       "4                                        0   \n",
       "\n",
       "   number_of_non_modified_coupled_files  is_bug_introducing  \n",
       "0                                     0                   0  \n",
       "1                                    13                   0  \n",
       "2                                     1                   0  \n",
       "3                                     2                   0  \n",
       "4                                     2                   0  "
      ]
     },
     "execution_count": 4,
     "metadata": {},
     "output_type": "execute_result"
    }
   ],
   "source": [
    "df = pd.read_csv(\"../data/final/final_labeled_training_dataset.csv\")\n",
    "df.head()"
   ]
  },
  {
   "cell_type": "markdown",
   "id": "6d61b3ec",
   "metadata": {},
   "source": [
    "Dataset Information\n"
   ]
  },
  {
   "cell_type": "code",
   "execution_count": 5,
   "id": "d327ed4c",
   "metadata": {},
   "outputs": [
    {
     "name": "stdout",
     "output_type": "stream",
     "text": [
      "<class 'pandas.core.frame.DataFrame'>\n",
      "RangeIndex: 125825 entries, 0 to 125824\n",
      "Data columns (total 18 columns):\n",
      " #   Column                                   Non-Null Count   Dtype  \n",
      "---  ------                                   --------------   -----  \n",
      " 0   commit_hash                              125825 non-null  object \n",
      " 1   author_email                             125825 non-null  object \n",
      " 2   commit_date                              125825 non-null  object \n",
      " 3   lines_added                              125825 non-null  int64  \n",
      " 4   lines_deleted                            125825 non-null  int64  \n",
      " 5   files_changed                            125825 non-null  int64  \n",
      " 6   num_modified_subsystems                  125825 non-null  int64  \n",
      " 7   num_modified_dirs                        125825 non-null  int64  \n",
      " 8   entropy                                  125825 non-null  float64\n",
      " 9   previous_total_size                      125825 non-null  int64  \n",
      " 10  author_total_commits                     125825 non-null  int64  \n",
      " 11  time_since_last_commit                   125825 non-null  float64\n",
      " 12  recent_commits                           125825 non-null  int64  \n",
      " 13  prior_committers                         125825 non-null  int64  \n",
      " 14  number_of_highly_coupled_files           125825 non-null  int64  \n",
      " 15  number_of_coupled_files_for all_degrees  125825 non-null  int64  \n",
      " 16  number_of_non_modified_coupled_files     125825 non-null  int64  \n",
      " 17  is_bug_introducing                       125825 non-null  int64  \n",
      "dtypes: float64(2), int64(13), object(3)\n",
      "memory usage: 17.3+ MB\n"
     ]
    }
   ],
   "source": [
    "df.info()"
   ]
  },
  {
   "cell_type": "markdown",
   "id": "f499f825",
   "metadata": {},
   "source": [
    "Dataset Description\n"
   ]
  },
  {
   "cell_type": "code",
   "execution_count": 6,
   "id": "8369d44d",
   "metadata": {},
   "outputs": [
    {
     "data": {
      "application/vnd.microsoft.datawrangler.viewer.v0+json": {
       "columns": [
        {
         "name": "index",
         "rawType": "object",
         "type": "string"
        },
        {
         "name": "commit_hash",
         "rawType": "object",
         "type": "unknown"
        },
        {
         "name": "author_email",
         "rawType": "object",
         "type": "unknown"
        },
        {
         "name": "commit_date",
         "rawType": "object",
         "type": "unknown"
        },
        {
         "name": "lines_added",
         "rawType": "float64",
         "type": "float"
        },
        {
         "name": "lines_deleted",
         "rawType": "float64",
         "type": "float"
        },
        {
         "name": "files_changed",
         "rawType": "float64",
         "type": "float"
        },
        {
         "name": "num_modified_subsystems",
         "rawType": "float64",
         "type": "float"
        },
        {
         "name": "num_modified_dirs",
         "rawType": "float64",
         "type": "float"
        },
        {
         "name": "entropy",
         "rawType": "float64",
         "type": "float"
        },
        {
         "name": "previous_total_size",
         "rawType": "float64",
         "type": "float"
        },
        {
         "name": "author_total_commits",
         "rawType": "float64",
         "type": "float"
        },
        {
         "name": "time_since_last_commit",
         "rawType": "float64",
         "type": "float"
        },
        {
         "name": "recent_commits",
         "rawType": "float64",
         "type": "float"
        },
        {
         "name": "prior_committers",
         "rawType": "float64",
         "type": "float"
        },
        {
         "name": "number_of_highly_coupled_files",
         "rawType": "float64",
         "type": "float"
        },
        {
         "name": "number_of_coupled_files_for all_degrees",
         "rawType": "float64",
         "type": "float"
        },
        {
         "name": "number_of_non_modified_coupled_files",
         "rawType": "float64",
         "type": "float"
        },
        {
         "name": "is_bug_introducing",
         "rawType": "float64",
         "type": "float"
        }
       ],
       "ref": "fc342587-f122-4b30-81e6-777e7a4cef1a",
       "rows": [
        [
         "count",
         "125825",
         "125825",
         "125825",
         "125825.0",
         "125825.0",
         "125825.0",
         "125825.0",
         "125825.0",
         "125825.0",
         "125825.0",
         "125825.0",
         "125825.0",
         "125825.0",
         "125825.0",
         "125825.0",
         "125825.0",
         "125825.0",
         "125825.0"
        ],
        [
         "unique",
         "125825",
         "549",
         "121656",
         null,
         null,
         null,
         null,
         null,
         null,
         null,
         null,
         null,
         null,
         null,
         null,
         null,
         null,
         null
        ],
        [
         "top",
         "68fb0f1c766dcc581f18682e33257834ffdaac7a",
         "maryamziyadm@gmail.com",
         "2016-07-12 11:15:06+05:30",
         null,
         null,
         null,
         null,
         null,
         null,
         null,
         null,
         null,
         null,
         null,
         null,
         null,
         null,
         null
        ],
        [
         "freq",
         "1",
         "4320",
         "5",
         null,
         null,
         null,
         null,
         null,
         null,
         null,
         null,
         null,
         null,
         null,
         null,
         null,
         null,
         null
        ],
        [
         "mean",
         null,
         null,
         null,
         "2219.680453010133",
         "1891.4794516193126",
         "47.05184979137691",
         "1.9872918736340155",
         "16.65614941386847",
         "1.6635820094855465",
         "596441.2899026426",
         "722.4781164315517",
         "169267.75133717465",
         "100.1107252135903",
         "61.08429962249156",
         "3.368424398966819",
         "9.645181800119213",
         "5.672759785416253",
         "0.3341386846811047"
        ],
        [
         "std",
         null,
         null,
         null,
         "18441.07851255281",
         "19419.279413926208",
         "258.1378600082026",
         "2.516000866721937",
         "71.40850973869128",
         "1.9270656495740723",
         "3291699.1733198743",
         "784.952846470358",
         "1600868.8160337964",
         "91.5200663982368",
         "58.11787350302494",
         "16.05944595985755",
         "43.242465022956935",
         "21.331903542731343",
         "0.47169035642514856"
        ],
        [
         "min",
         null,
         null,
         null,
         "0.0",
         "0.0",
         "0.0",
         "0.0",
         "0.0",
         "0.0",
         "0.0",
         "0.0",
         "-50041141.0",
         "0.0",
         "0.0",
         "0.0",
         "0.0",
         "0.0",
         "0.0"
        ],
        [
         "25%",
         null,
         null,
         null,
         "4.0",
         "2.0",
         "1.0",
         "1.0",
         "1.0",
         "0.0",
         "9856.0",
         "147.0",
         "429.0",
         "35.0",
         "16.0",
         "0.0",
         "0.0",
         "0.0",
         "0.0"
        ],
        [
         "50%",
         null,
         null,
         null,
         "28.0",
         "10.0",
         "3.0",
         "1.0",
         "2.0",
         "1.0520440502629658",
         "38473.0",
         "440.0",
         "5413.0",
         "74.0",
         "44.0",
         "0.0",
         "0.0",
         "1.0",
         "0.0"
        ],
        [
         "75%",
         null,
         null,
         null,
         "176.0",
         "70.0",
         "9.0",
         "2.0",
         "5.0",
         "2.433998896439145",
         "177860.0",
         "1030.0",
         "60999.0",
         "136.0",
         "88.0",
         "0.0",
         "3.0",
         "2.0",
         "1.0"
        ],
        [
         "max",
         null,
         null,
         null,
         "2934238.0",
         "2812240.0",
         "21405.0",
         "30.0",
         "2691.0",
         "11.490538296815862",
         "246971795.0",
         "4376.0",
         "122421296.0",
         "702.0",
         "363.0",
         "744.0",
         "2030.0",
         "482.0",
         "1.0"
        ]
       ],
       "shape": {
        "columns": 18,
        "rows": 11
       }
      },
      "text/html": [
       "<div>\n",
       "<style scoped>\n",
       "    .dataframe tbody tr th:only-of-type {\n",
       "        vertical-align: middle;\n",
       "    }\n",
       "\n",
       "    .dataframe tbody tr th {\n",
       "        vertical-align: top;\n",
       "    }\n",
       "\n",
       "    .dataframe thead th {\n",
       "        text-align: right;\n",
       "    }\n",
       "</style>\n",
       "<table border=\"1\" class=\"dataframe\">\n",
       "  <thead>\n",
       "    <tr style=\"text-align: right;\">\n",
       "      <th></th>\n",
       "      <th>commit_hash</th>\n",
       "      <th>author_email</th>\n",
       "      <th>commit_date</th>\n",
       "      <th>lines_added</th>\n",
       "      <th>lines_deleted</th>\n",
       "      <th>files_changed</th>\n",
       "      <th>num_modified_subsystems</th>\n",
       "      <th>num_modified_dirs</th>\n",
       "      <th>entropy</th>\n",
       "      <th>previous_total_size</th>\n",
       "      <th>author_total_commits</th>\n",
       "      <th>time_since_last_commit</th>\n",
       "      <th>recent_commits</th>\n",
       "      <th>prior_committers</th>\n",
       "      <th>number_of_highly_coupled_files</th>\n",
       "      <th>number_of_coupled_files_for all_degrees</th>\n",
       "      <th>number_of_non_modified_coupled_files</th>\n",
       "      <th>is_bug_introducing</th>\n",
       "    </tr>\n",
       "  </thead>\n",
       "  <tbody>\n",
       "    <tr>\n",
       "      <th>count</th>\n",
       "      <td>125825</td>\n",
       "      <td>125825</td>\n",
       "      <td>125825</td>\n",
       "      <td>1.258250e+05</td>\n",
       "      <td>1.258250e+05</td>\n",
       "      <td>125825.00000</td>\n",
       "      <td>125825.000000</td>\n",
       "      <td>125825.000000</td>\n",
       "      <td>125825.000000</td>\n",
       "      <td>1.258250e+05</td>\n",
       "      <td>125825.000000</td>\n",
       "      <td>1.258250e+05</td>\n",
       "      <td>125825.000000</td>\n",
       "      <td>125825.000000</td>\n",
       "      <td>125825.000000</td>\n",
       "      <td>125825.000000</td>\n",
       "      <td>125825.000000</td>\n",
       "      <td>125825.000000</td>\n",
       "    </tr>\n",
       "    <tr>\n",
       "      <th>unique</th>\n",
       "      <td>125825</td>\n",
       "      <td>549</td>\n",
       "      <td>121656</td>\n",
       "      <td>NaN</td>\n",
       "      <td>NaN</td>\n",
       "      <td>NaN</td>\n",
       "      <td>NaN</td>\n",
       "      <td>NaN</td>\n",
       "      <td>NaN</td>\n",
       "      <td>NaN</td>\n",
       "      <td>NaN</td>\n",
       "      <td>NaN</td>\n",
       "      <td>NaN</td>\n",
       "      <td>NaN</td>\n",
       "      <td>NaN</td>\n",
       "      <td>NaN</td>\n",
       "      <td>NaN</td>\n",
       "      <td>NaN</td>\n",
       "    </tr>\n",
       "    <tr>\n",
       "      <th>top</th>\n",
       "      <td>68fb0f1c766dcc581f18682e33257834ffdaac7a</td>\n",
       "      <td>maryamziyadm@gmail.com</td>\n",
       "      <td>2016-07-12 11:15:06+05:30</td>\n",
       "      <td>NaN</td>\n",
       "      <td>NaN</td>\n",
       "      <td>NaN</td>\n",
       "      <td>NaN</td>\n",
       "      <td>NaN</td>\n",
       "      <td>NaN</td>\n",
       "      <td>NaN</td>\n",
       "      <td>NaN</td>\n",
       "      <td>NaN</td>\n",
       "      <td>NaN</td>\n",
       "      <td>NaN</td>\n",
       "      <td>NaN</td>\n",
       "      <td>NaN</td>\n",
       "      <td>NaN</td>\n",
       "      <td>NaN</td>\n",
       "    </tr>\n",
       "    <tr>\n",
       "      <th>freq</th>\n",
       "      <td>1</td>\n",
       "      <td>4320</td>\n",
       "      <td>5</td>\n",
       "      <td>NaN</td>\n",
       "      <td>NaN</td>\n",
       "      <td>NaN</td>\n",
       "      <td>NaN</td>\n",
       "      <td>NaN</td>\n",
       "      <td>NaN</td>\n",
       "      <td>NaN</td>\n",
       "      <td>NaN</td>\n",
       "      <td>NaN</td>\n",
       "      <td>NaN</td>\n",
       "      <td>NaN</td>\n",
       "      <td>NaN</td>\n",
       "      <td>NaN</td>\n",
       "      <td>NaN</td>\n",
       "      <td>NaN</td>\n",
       "    </tr>\n",
       "    <tr>\n",
       "      <th>mean</th>\n",
       "      <td>NaN</td>\n",
       "      <td>NaN</td>\n",
       "      <td>NaN</td>\n",
       "      <td>2.219680e+03</td>\n",
       "      <td>1.891479e+03</td>\n",
       "      <td>47.05185</td>\n",
       "      <td>1.987292</td>\n",
       "      <td>16.656149</td>\n",
       "      <td>1.663582</td>\n",
       "      <td>5.964413e+05</td>\n",
       "      <td>722.478116</td>\n",
       "      <td>1.692678e+05</td>\n",
       "      <td>100.110725</td>\n",
       "      <td>61.084300</td>\n",
       "      <td>3.368424</td>\n",
       "      <td>9.645182</td>\n",
       "      <td>5.672760</td>\n",
       "      <td>0.334139</td>\n",
       "    </tr>\n",
       "    <tr>\n",
       "      <th>std</th>\n",
       "      <td>NaN</td>\n",
       "      <td>NaN</td>\n",
       "      <td>NaN</td>\n",
       "      <td>1.844108e+04</td>\n",
       "      <td>1.941928e+04</td>\n",
       "      <td>258.13786</td>\n",
       "      <td>2.516001</td>\n",
       "      <td>71.408510</td>\n",
       "      <td>1.927066</td>\n",
       "      <td>3.291699e+06</td>\n",
       "      <td>784.952846</td>\n",
       "      <td>1.600869e+06</td>\n",
       "      <td>91.520066</td>\n",
       "      <td>58.117874</td>\n",
       "      <td>16.059446</td>\n",
       "      <td>43.242465</td>\n",
       "      <td>21.331904</td>\n",
       "      <td>0.471690</td>\n",
       "    </tr>\n",
       "    <tr>\n",
       "      <th>min</th>\n",
       "      <td>NaN</td>\n",
       "      <td>NaN</td>\n",
       "      <td>NaN</td>\n",
       "      <td>0.000000e+00</td>\n",
       "      <td>0.000000e+00</td>\n",
       "      <td>0.00000</td>\n",
       "      <td>0.000000</td>\n",
       "      <td>0.000000</td>\n",
       "      <td>0.000000</td>\n",
       "      <td>0.000000e+00</td>\n",
       "      <td>0.000000</td>\n",
       "      <td>-5.004114e+07</td>\n",
       "      <td>0.000000</td>\n",
       "      <td>0.000000</td>\n",
       "      <td>0.000000</td>\n",
       "      <td>0.000000</td>\n",
       "      <td>0.000000</td>\n",
       "      <td>0.000000</td>\n",
       "    </tr>\n",
       "    <tr>\n",
       "      <th>25%</th>\n",
       "      <td>NaN</td>\n",
       "      <td>NaN</td>\n",
       "      <td>NaN</td>\n",
       "      <td>4.000000e+00</td>\n",
       "      <td>2.000000e+00</td>\n",
       "      <td>1.00000</td>\n",
       "      <td>1.000000</td>\n",
       "      <td>1.000000</td>\n",
       "      <td>0.000000</td>\n",
       "      <td>9.856000e+03</td>\n",
       "      <td>147.000000</td>\n",
       "      <td>4.290000e+02</td>\n",
       "      <td>35.000000</td>\n",
       "      <td>16.000000</td>\n",
       "      <td>0.000000</td>\n",
       "      <td>0.000000</td>\n",
       "      <td>0.000000</td>\n",
       "      <td>0.000000</td>\n",
       "    </tr>\n",
       "    <tr>\n",
       "      <th>50%</th>\n",
       "      <td>NaN</td>\n",
       "      <td>NaN</td>\n",
       "      <td>NaN</td>\n",
       "      <td>2.800000e+01</td>\n",
       "      <td>1.000000e+01</td>\n",
       "      <td>3.00000</td>\n",
       "      <td>1.000000</td>\n",
       "      <td>2.000000</td>\n",
       "      <td>1.052044</td>\n",
       "      <td>3.847300e+04</td>\n",
       "      <td>440.000000</td>\n",
       "      <td>5.413000e+03</td>\n",
       "      <td>74.000000</td>\n",
       "      <td>44.000000</td>\n",
       "      <td>0.000000</td>\n",
       "      <td>0.000000</td>\n",
       "      <td>1.000000</td>\n",
       "      <td>0.000000</td>\n",
       "    </tr>\n",
       "    <tr>\n",
       "      <th>75%</th>\n",
       "      <td>NaN</td>\n",
       "      <td>NaN</td>\n",
       "      <td>NaN</td>\n",
       "      <td>1.760000e+02</td>\n",
       "      <td>7.000000e+01</td>\n",
       "      <td>9.00000</td>\n",
       "      <td>2.000000</td>\n",
       "      <td>5.000000</td>\n",
       "      <td>2.433999</td>\n",
       "      <td>1.778600e+05</td>\n",
       "      <td>1030.000000</td>\n",
       "      <td>6.099900e+04</td>\n",
       "      <td>136.000000</td>\n",
       "      <td>88.000000</td>\n",
       "      <td>0.000000</td>\n",
       "      <td>3.000000</td>\n",
       "      <td>2.000000</td>\n",
       "      <td>1.000000</td>\n",
       "    </tr>\n",
       "    <tr>\n",
       "      <th>max</th>\n",
       "      <td>NaN</td>\n",
       "      <td>NaN</td>\n",
       "      <td>NaN</td>\n",
       "      <td>2.934238e+06</td>\n",
       "      <td>2.812240e+06</td>\n",
       "      <td>21405.00000</td>\n",
       "      <td>30.000000</td>\n",
       "      <td>2691.000000</td>\n",
       "      <td>11.490538</td>\n",
       "      <td>2.469718e+08</td>\n",
       "      <td>4376.000000</td>\n",
       "      <td>1.224213e+08</td>\n",
       "      <td>702.000000</td>\n",
       "      <td>363.000000</td>\n",
       "      <td>744.000000</td>\n",
       "      <td>2030.000000</td>\n",
       "      <td>482.000000</td>\n",
       "      <td>1.000000</td>\n",
       "    </tr>\n",
       "  </tbody>\n",
       "</table>\n",
       "</div>"
      ],
      "text/plain": [
       "                                     commit_hash            author_email  \\\n",
       "count                                     125825                  125825   \n",
       "unique                                    125825                     549   \n",
       "top     68fb0f1c766dcc581f18682e33257834ffdaac7a  maryamziyadm@gmail.com   \n",
       "freq                                           1                    4320   \n",
       "mean                                         NaN                     NaN   \n",
       "std                                          NaN                     NaN   \n",
       "min                                          NaN                     NaN   \n",
       "25%                                          NaN                     NaN   \n",
       "50%                                          NaN                     NaN   \n",
       "75%                                          NaN                     NaN   \n",
       "max                                          NaN                     NaN   \n",
       "\n",
       "                      commit_date   lines_added  lines_deleted  files_changed  \\\n",
       "count                      125825  1.258250e+05   1.258250e+05   125825.00000   \n",
       "unique                     121656           NaN            NaN            NaN   \n",
       "top     2016-07-12 11:15:06+05:30           NaN            NaN            NaN   \n",
       "freq                            5           NaN            NaN            NaN   \n",
       "mean                          NaN  2.219680e+03   1.891479e+03       47.05185   \n",
       "std                           NaN  1.844108e+04   1.941928e+04      258.13786   \n",
       "min                           NaN  0.000000e+00   0.000000e+00        0.00000   \n",
       "25%                           NaN  4.000000e+00   2.000000e+00        1.00000   \n",
       "50%                           NaN  2.800000e+01   1.000000e+01        3.00000   \n",
       "75%                           NaN  1.760000e+02   7.000000e+01        9.00000   \n",
       "max                           NaN  2.934238e+06   2.812240e+06    21405.00000   \n",
       "\n",
       "        num_modified_subsystems  num_modified_dirs        entropy  \\\n",
       "count             125825.000000      125825.000000  125825.000000   \n",
       "unique                      NaN                NaN            NaN   \n",
       "top                         NaN                NaN            NaN   \n",
       "freq                        NaN                NaN            NaN   \n",
       "mean                   1.987292          16.656149       1.663582   \n",
       "std                    2.516001          71.408510       1.927066   \n",
       "min                    0.000000           0.000000       0.000000   \n",
       "25%                    1.000000           1.000000       0.000000   \n",
       "50%                    1.000000           2.000000       1.052044   \n",
       "75%                    2.000000           5.000000       2.433999   \n",
       "max                   30.000000        2691.000000      11.490538   \n",
       "\n",
       "        previous_total_size  author_total_commits  time_since_last_commit  \\\n",
       "count          1.258250e+05         125825.000000            1.258250e+05   \n",
       "unique                  NaN                   NaN                     NaN   \n",
       "top                     NaN                   NaN                     NaN   \n",
       "freq                    NaN                   NaN                     NaN   \n",
       "mean           5.964413e+05            722.478116            1.692678e+05   \n",
       "std            3.291699e+06            784.952846            1.600869e+06   \n",
       "min            0.000000e+00              0.000000           -5.004114e+07   \n",
       "25%            9.856000e+03            147.000000            4.290000e+02   \n",
       "50%            3.847300e+04            440.000000            5.413000e+03   \n",
       "75%            1.778600e+05           1030.000000            6.099900e+04   \n",
       "max            2.469718e+08           4376.000000            1.224213e+08   \n",
       "\n",
       "        recent_commits  prior_committers  number_of_highly_coupled_files  \\\n",
       "count    125825.000000     125825.000000                   125825.000000   \n",
       "unique             NaN               NaN                             NaN   \n",
       "top                NaN               NaN                             NaN   \n",
       "freq               NaN               NaN                             NaN   \n",
       "mean        100.110725         61.084300                        3.368424   \n",
       "std          91.520066         58.117874                       16.059446   \n",
       "min           0.000000          0.000000                        0.000000   \n",
       "25%          35.000000         16.000000                        0.000000   \n",
       "50%          74.000000         44.000000                        0.000000   \n",
       "75%         136.000000         88.000000                        0.000000   \n",
       "max         702.000000        363.000000                      744.000000   \n",
       "\n",
       "        number_of_coupled_files_for all_degrees  \\\n",
       "count                             125825.000000   \n",
       "unique                                      NaN   \n",
       "top                                         NaN   \n",
       "freq                                        NaN   \n",
       "mean                                   9.645182   \n",
       "std                                   43.242465   \n",
       "min                                    0.000000   \n",
       "25%                                    0.000000   \n",
       "50%                                    0.000000   \n",
       "75%                                    3.000000   \n",
       "max                                 2030.000000   \n",
       "\n",
       "        number_of_non_modified_coupled_files  is_bug_introducing  \n",
       "count                          125825.000000       125825.000000  \n",
       "unique                                   NaN                 NaN  \n",
       "top                                      NaN                 NaN  \n",
       "freq                                     NaN                 NaN  \n",
       "mean                                5.672760            0.334139  \n",
       "std                                21.331904            0.471690  \n",
       "min                                 0.000000            0.000000  \n",
       "25%                                 0.000000            0.000000  \n",
       "50%                                 1.000000            0.000000  \n",
       "75%                                 2.000000            1.000000  \n",
       "max                               482.000000            1.000000  "
      ]
     },
     "execution_count": 6,
     "metadata": {},
     "output_type": "execute_result"
    }
   ],
   "source": [
    "df.describe(include=\"all\")"
   ]
  },
  {
   "cell_type": "markdown",
   "id": "e1b3c89f",
   "metadata": {},
   "source": [
    "## Missing Values\n"
   ]
  },
  {
   "cell_type": "code",
   "execution_count": 7,
   "id": "5fc089f9",
   "metadata": {},
   "outputs": [
    {
     "data": {
      "application/vnd.microsoft.datawrangler.viewer.v0+json": {
       "columns": [
        {
         "name": "index",
         "rawType": "object",
         "type": "string"
        },
        {
         "name": "0",
         "rawType": "int64",
         "type": "integer"
        }
       ],
       "ref": "5bdec23f-9fd7-4bbd-a3a1-c612637f45b6",
       "rows": [
        [
         "commit_hash",
         "0"
        ],
        [
         "author_email",
         "0"
        ],
        [
         "commit_date",
         "0"
        ],
        [
         "lines_added",
         "0"
        ],
        [
         "lines_deleted",
         "0"
        ],
        [
         "files_changed",
         "0"
        ],
        [
         "num_modified_subsystems",
         "0"
        ],
        [
         "num_modified_dirs",
         "0"
        ],
        [
         "entropy",
         "0"
        ],
        [
         "previous_total_size",
         "0"
        ],
        [
         "author_total_commits",
         "0"
        ],
        [
         "time_since_last_commit",
         "0"
        ],
        [
         "recent_commits",
         "0"
        ],
        [
         "prior_committers",
         "0"
        ],
        [
         "number_of_highly_coupled_files",
         "0"
        ],
        [
         "number_of_coupled_files_for all_degrees",
         "0"
        ],
        [
         "number_of_non_modified_coupled_files",
         "0"
        ],
        [
         "is_bug_introducing",
         "0"
        ]
       ],
       "shape": {
        "columns": 1,
        "rows": 18
       }
      },
      "text/plain": [
       "commit_hash                                0\n",
       "author_email                               0\n",
       "commit_date                                0\n",
       "lines_added                                0\n",
       "lines_deleted                              0\n",
       "files_changed                              0\n",
       "num_modified_subsystems                    0\n",
       "num_modified_dirs                          0\n",
       "entropy                                    0\n",
       "previous_total_size                        0\n",
       "author_total_commits                       0\n",
       "time_since_last_commit                     0\n",
       "recent_commits                             0\n",
       "prior_committers                           0\n",
       "number_of_highly_coupled_files             0\n",
       "number_of_coupled_files_for all_degrees    0\n",
       "number_of_non_modified_coupled_files       0\n",
       "is_bug_introducing                         0\n",
       "dtype: int64"
      ]
     },
     "execution_count": 7,
     "metadata": {},
     "output_type": "execute_result"
    }
   ],
   "source": [
    "df.isna().sum()"
   ]
  },
  {
   "cell_type": "code",
   "execution_count": 8,
   "id": "e152d5a4",
   "metadata": {},
   "outputs": [
    {
     "data": {
      "text/plain": [
       "<Axes: >"
      ]
     },
     "execution_count": 8,
     "metadata": {},
     "output_type": "execute_result"
    },
    {
     "data": {
      "image/png": "[encoded data removed]",
      "text/plain": [
       "<Figure size 640x480 with 2 Axes>"
      ]
     },
     "metadata": {},
     "output_type": "display_data"
    }
   ],
   "source": [
    "sns.heatmap(df.isnull())"
   ]
  },
  {
   "cell_type": "markdown",
   "id": "f052a3e9",
   "metadata": {},
   "source": [
    "zero values"
   ]
  },
  {
   "cell_type": "code",
   "execution_count": 9,
   "id": "5762f6a6",
   "metadata": {},
   "outputs": [
    {
     "data": {
      "application/vnd.microsoft.datawrangler.viewer.v0+json": {
       "columns": [
        {
         "name": "index",
         "rawType": "object",
         "type": "string"
        },
        {
         "name": "Zero Count",
         "rawType": "int64",
         "type": "integer"
        },
        {
         "name": "Zero %",
         "rawType": "float64",
         "type": "float"
        }
       ],
       "ref": "ce8d1bd2-4f1e-43df-b526-ddba8af80811",
       "rows": [
        [
         "commit_hash",
         "0",
         "0.0"
        ],
        [
         "author_email",
         "0",
         "0.0"
        ],
        [
         "commit_date",
         "0",
         "0.0"
        ],
        [
         "lines_added",
         "4884",
         "3.88"
        ],
        [
         "lines_deleted",
         "12136",
         "9.65"
        ],
        [
         "files_changed",
         "461",
         "0.37"
        ],
        [
         "num_modified_subsystems",
         "461",
         "0.37"
        ],
        [
         "num_modified_dirs",
         "461",
         "0.37"
        ],
        [
         "entropy",
         "39591",
         "31.47"
        ],
        [
         "previous_total_size",
         "1175",
         "0.93"
        ],
        [
         "author_total_commits",
         "545",
         "0.43"
        ],
        [
         "time_since_last_commit",
         "3140",
         "2.5"
        ],
        [
         "recent_commits",
         "1113",
         "0.88"
        ],
        [
         "prior_committers",
         "2636",
         "2.09"
        ],
        [
         "number_of_highly_coupled_files",
         "100030",
         "79.5"
        ],
        [
         "number_of_coupled_files_for all_degrees",
         "73544",
         "58.45"
        ],
        [
         "number_of_non_modified_coupled_files",
         "49308",
         "39.19"
        ],
        [
         "is_bug_introducing",
         "83782",
         "66.59"
        ]
       ],
       "shape": {
        "columns": 2,
        "rows": 18
       }
      },
      "text/html": [
       "<div>\n",
       "<style scoped>\n",
       "    .dataframe tbody tr th:only-of-type {\n",
       "        vertical-align: middle;\n",
       "    }\n",
       "\n",
       "    .dataframe tbody tr th {\n",
       "        vertical-align: top;\n",
       "    }\n",
       "\n",
       "    .dataframe thead th {\n",
       "        text-align: right;\n",
       "    }\n",
       "</style>\n",
       "<table border=\"1\" class=\"dataframe\">\n",
       "  <thead>\n",
       "    <tr style=\"text-align: right;\">\n",
       "      <th></th>\n",
       "      <th>Zero Count</th>\n",
       "      <th>Zero %</th>\n",
       "    </tr>\n",
       "  </thead>\n",
       "  <tbody>\n",
       "    <tr>\n",
       "      <th>commit_hash</th>\n",
       "      <td>0</td>\n",
       "      <td>0.00</td>\n",
       "    </tr>\n",
       "    <tr>\n",
       "      <th>author_email</th>\n",
       "      <td>0</td>\n",
       "      <td>0.00</td>\n",
       "    </tr>\n",
       "    <tr>\n",
       "      <th>commit_date</th>\n",
       "      <td>0</td>\n",
       "      <td>0.00</td>\n",
       "    </tr>\n",
       "    <tr>\n",
       "      <th>lines_added</th>\n",
       "      <td>4884</td>\n",
       "      <td>3.88</td>\n",
       "    </tr>\n",
       "    <tr>\n",
       "      <th>lines_deleted</th>\n",
       "      <td>12136</td>\n",
       "      <td>9.65</td>\n",
       "    </tr>\n",
       "    <tr>\n",
       "      <th>files_changed</th>\n",
       "      <td>461</td>\n",
       "      <td>0.37</td>\n",
       "    </tr>\n",
       "    <tr>\n",
       "      <th>num_modified_subsystems</th>\n",
       "      <td>461</td>\n",
       "      <td>0.37</td>\n",
       "    </tr>\n",
       "    <tr>\n",
       "      <th>num_modified_dirs</th>\n",
       "      <td>461</td>\n",
       "      <td>0.37</td>\n",
       "    </tr>\n",
       "    <tr>\n",
       "      <th>entropy</th>\n",
       "      <td>39591</td>\n",
       "      <td>31.47</td>\n",
       "    </tr>\n",
       "    <tr>\n",
       "      <th>previous_total_size</th>\n",
       "      <td>1175</td>\n",
       "      <td>0.93</td>\n",
       "    </tr>\n",
       "    <tr>\n",
       "      <th>author_total_commits</th>\n",
       "      <td>545</td>\n",
       "      <td>0.43</td>\n",
       "    </tr>\n",
       "    <tr>\n",
       "      <th>time_since_last_commit</th>\n",
       "      <td>3140</td>\n",
       "      <td>2.50</td>\n",
       "    </tr>\n",
       "    <tr>\n",
       "      <th>recent_commits</th>\n",
       "      <td>1113</td>\n",
       "      <td>0.88</td>\n",
       "    </tr>\n",
       "    <tr>\n",
       "      <th>prior_committers</th>\n",
       "      <td>2636</td>\n",
       "      <td>2.09</td>\n",
       "    </tr>\n",
       "    <tr>\n",
       "      <th>number_of_highly_coupled_files</th>\n",
       "      <td>100030</td>\n",
       "      <td>79.50</td>\n",
       "    </tr>\n",
       "    <tr>\n",
       "      <th>number_of_coupled_files_for all_degrees</th>\n",
       "      <td>73544</td>\n",
       "      <td>58.45</td>\n",
       "    </tr>\n",
       "    <tr>\n",
       "      <th>number_of_non_modified_coupled_files</th>\n",
       "      <td>49308</td>\n",
       "      <td>39.19</td>\n",
       "    </tr>\n",
       "    <tr>\n",
       "      <th>is_bug_introducing</th>\n",
       "      <td>83782</td>\n",
       "      <td>66.59</td>\n",
       "    </tr>\n",
       "  </tbody>\n",
       "</table>\n",
       "</div>"
      ],
      "text/plain": [
       "                                         Zero Count  Zero %\n",
       "commit_hash                                       0    0.00\n",
       "author_email                                      0    0.00\n",
       "commit_date                                       0    0.00\n",
       "lines_added                                    4884    3.88\n",
       "lines_deleted                                 12136    9.65\n",
       "files_changed                                   461    0.37\n",
       "num_modified_subsystems                         461    0.37\n",
       "num_modified_dirs                               461    0.37\n",
       "entropy                                       39591   31.47\n",
       "previous_total_size                            1175    0.93\n",
       "author_total_commits                            545    0.43\n",
       "time_since_last_commit                         3140    2.50\n",
       "recent_commits                                 1113    0.88\n",
       "prior_committers                               2636    2.09\n",
       "number_of_highly_coupled_files               100030   79.50\n",
       "number_of_coupled_files_for all_degrees       73544   58.45\n",
       "number_of_non_modified_coupled_files          49308   39.19\n",
       "is_bug_introducing                            83782   66.59"
      ]
     },
     "execution_count": 9,
     "metadata": {},
     "output_type": "execute_result"
    }
   ],
   "source": [
    "zero_count = (df == 0).sum()\n",
    "zero_percent = (df == 0).sum() / len(df) * 100\n",
    "\n",
    "zero_summary = pd.DataFrame({\n",
    "    'Zero Count': zero_count,\n",
    "    'Zero %': zero_percent.round(2)\n",
    "})\n",
    "\n",
    "zero_summary"
   ]
  },
  {
   "cell_type": "markdown",
   "id": "85655853",
   "metadata": {},
   "source": [
    "## Univariate Analysis\n"
   ]
  },
  {
   "cell_type": "code",
   "execution_count": 12,
   "id": "a90c8244",
   "metadata": {},
   "outputs": [
    {
     "data": {
      "image/png": "[encoded data removed]",
      "text/plain": [
       "<Figure size 1200x1000 with 16 Axes>"
      ]
     },
     "metadata": {},
     "output_type": "display_data"
    }
   ],
   "source": [
    "df.hist(figsize=(12, 10), bins=30, color=\"skyblue\", edgecolor=\"black\")\n",
    "plt.suptitle(\"Histograms for All Numerical Columns\", fontsize=16)\n",
    "plt.tight_layout()\n",
    "plt.show()\n"
   ]
  },
  {
   "cell_type": "code",
   "execution_count": 22,
   "id": "2d6c7467",
   "metadata": {},
   "outputs": [
    {
     "data": {
      "text/plain": [
       "<Axes: >"
      ]
     },
     "execution_count": 22,
     "metadata": {},
     "output_type": "execute_result"
    },
    {
     "data": {
      "image/png": "[encoded data removed]",
      "text/plain": [
       "<Figure size 1200x600 with 1 Axes>"
      ]
     },
     "metadata": {},
     "output_type": "display_data"
    }
   ],
   "source": [
    "df.boxplot(figsize=(12, 6),rot=90, fontsize=10)"
   ]
  }
 ],
 "metadata": {
  "kernelspec": {
   "display_name": ".venv",
   "language": "python",
   "name": "python3"
  },
  "language_info": {
   "codemirror_mode": {
    "name": "ipython",
    "version": 3
   },
   "file_extension": ".py",
   "mimetype": "text/x-python",
   "name": "python",
   "nbconvert_exporter": "python",
   "pygments_lexer": "ipython3",
   "version": "3.9.0"
  }
 },
 "nbformat": 4,
 "nbformat_minor": 5
}
