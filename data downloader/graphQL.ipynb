{
 "cells": [
  {
   "cell_type": "code",
   "execution_count": 1,
   "id": "810a9308",
   "metadata": {},
   "outputs": [
    {
     "data": {
      "text/plain": [
       "True"
      ]
     },
     "execution_count": 1,
     "metadata": {},
     "output_type": "execute_result"
    }
   ],
   "source": [
    "import sys\n",
    "import os\n",
    "\n",
    "# Add 'src' folder to the system path\n",
    "sys.path.append(os.path.abspath(\"src\"))\n",
    "\n",
    "# Import necessary libraries\n",
    "import requests\n",
    "import pandas as pd\n",
    "from tqdm import tqdm\n",
    "import time\n",
    "import utils\n",
    "\n",
    "from dotenv import load_dotenv\n",
    "load_dotenv()\n"
   ]
  },
  {
   "cell_type": "code",
   "execution_count": 2,
   "id": "d0a7fac2",
   "metadata": {},
   "outputs": [],
   "source": [
    "# GitHub repository details\n",
    "OWNER = \"wso2\"  \n",
    "REPO = \"product-apim\"  \n",
    "\n",
    "# GitHub API token (Required for Events API to avoid rate limiting)\n",
    "GITHUB_TOKEN = os.getenv(\"GITHUB_TOKEN\")\n",
    "if not GITHUB_TOKEN:\n",
    "    raise ValueError(\"GITHUB_TOKEN environment variable is not set.\")\n",
    "\n",
    "HEADERS = {\n",
    "    \"Authorization\": f\"Bearer {GITHUB_TOKEN}\"\n",
    "}"
   ]
  },
  {
   "cell_type": "code",
   "execution_count": 4,
   "id": "125a8fa9",
   "metadata": {},
   "outputs": [
    {
     "name": "stdout",
     "output_type": "stream",
     "text": [
      "{'errors': [{'path': ['query', 'search', 'edges', 'node', '... on PullRequest', 'linkedIssues'], 'extensions': {'code': 'undefinedField', 'typeName': 'PullRequest', 'fieldName': 'linkedIssues'}, 'locations': [{'line': 15, 'column': 11}], 'message': \"Field 'linkedIssues' doesn't exist on type 'PullRequest'\"}]}\n"
     ]
    },
    {
     "ename": "KeyError",
     "evalue": "'data'",
     "output_type": "error",
     "traceback": [
      "\u001b[1;31m---------------------------------------------------------------------------\u001b[0m",
      "\u001b[1;31mKeyError\u001b[0m                                  Traceback (most recent call last)",
      "Cell \u001b[1;32mIn[4], line 66\u001b[0m\n\u001b[0;32m     61\u001b[0m         time\u001b[38;5;241m.\u001b[39msleep(\u001b[38;5;241m0.5\u001b[39m)  \u001b[38;5;66;03m# Be polite to GitHub's API\u001b[39;00m\n\u001b[0;32m     63\u001b[0m     \u001b[38;5;28;01mreturn\u001b[39;00m all_prs\n\u001b[1;32m---> 66\u001b[0m all_linked_prs \u001b[38;5;241m=\u001b[39m \u001b[43mfetch_all_linked_prs\u001b[49m\u001b[43m(\u001b[49m\u001b[43mREPO\u001b[49m\u001b[43m)\u001b[49m\n\u001b[0;32m     67\u001b[0m \u001b[38;5;28mprint\u001b[39m(\u001b[38;5;124mf\u001b[39m\u001b[38;5;124m\"\u001b[39m\u001b[38;5;124mFetched \u001b[39m\u001b[38;5;132;01m{\u001b[39;00m\u001b[38;5;28mlen\u001b[39m(all_linked_prs)\u001b[38;5;132;01m}\u001b[39;00m\u001b[38;5;124m linked PRs.\u001b[39m\u001b[38;5;124m\"\u001b[39m)\n\u001b[0;32m     69\u001b[0m \u001b[38;5;66;03m# Example: print PR numbers\u001b[39;00m\n",
      "Cell \u001b[1;32mIn[4], line 50\u001b[0m, in \u001b[0;36mfetch_all_linked_prs\u001b[1;34m(repo)\u001b[0m\n\u001b[0;32m     48\u001b[0m result \u001b[38;5;241m=\u001b[39m run_query(GRAPHQL_QUERY, variables)\n\u001b[0;32m     49\u001b[0m \u001b[38;5;28mprint\u001b[39m(result);\n\u001b[1;32m---> 50\u001b[0m search_data \u001b[38;5;241m=\u001b[39m \u001b[43mresult\u001b[49m\u001b[43m[\u001b[49m\u001b[38;5;124;43m'\u001b[39;49m\u001b[38;5;124;43mdata\u001b[39;49m\u001b[38;5;124;43m'\u001b[39;49m\u001b[43m]\u001b[49m[\u001b[38;5;124m'\u001b[39m\u001b[38;5;124msearch\u001b[39m\u001b[38;5;124m'\u001b[39m]\n\u001b[0;32m     52\u001b[0m \u001b[38;5;28;01mfor\u001b[39;00m edge \u001b[38;5;129;01min\u001b[39;00m search_data[\u001b[38;5;124m'\u001b[39m\u001b[38;5;124medges\u001b[39m\u001b[38;5;124m'\u001b[39m]:\n\u001b[0;32m     53\u001b[0m     node \u001b[38;5;241m=\u001b[39m edge[\u001b[38;5;124m'\u001b[39m\u001b[38;5;124mnode\u001b[39m\u001b[38;5;124m'\u001b[39m]\n",
      "\u001b[1;31mKeyError\u001b[0m: 'data'"
     ]
    }
   ],
   "source": [
    "def run_query(query, variables):\n",
    "    response = requests.post(\n",
    "        'https://api.github.com/graphql',\n",
    "        json={'query': query, 'variables': variables},\n",
    "        headers=HEADERS\n",
    "    )\n",
    "    if response.status_code != 200:\n",
    "        raise Exception(f\"Query failed: {response.text}\")\n",
    "    return response.json()\n",
    "\n",
    "GRAPHQL_QUERY = \"\"\"\n",
    "query ($queryString: String!, $cursor: String) {\n",
    "  search(query: $queryString, type: ISSUE, first: 100, after: $cursor) {\n",
    "    pageInfo {\n",
    "      endCursor\n",
    "      hasNextPage\n",
    "    }\n",
    "    edges {\n",
    "      node {\n",
    "        ... on PullRequest {\n",
    "          number\n",
    "          title\n",
    "          body\n",
    "          url\n",
    "          linkedIssues(first: 10) {\n",
    "            nodes {\n",
    "              number\n",
    "              title\n",
    "            }\n",
    "          }\n",
    "        }\n",
    "      }\n",
    "    }\n",
    "  }\n",
    "}\n",
    "\"\"\"\n",
    "\n",
    "def fetch_all_linked_prs(repo):\n",
    "    query_string = f'is:pr linked:issue repo:{repo}'\n",
    "    cursor = None\n",
    "    all_prs = []\n",
    "\n",
    "    while True:\n",
    "        variables = {\n",
    "            \"queryString\": query_string,\n",
    "            \"cursor\": cursor\n",
    "        }\n",
    "        result = run_query(GRAPHQL_QUERY, variables)\n",
    "        print(result);\n",
    "        search_data = result['data']['search']\n",
    "\n",
    "        for edge in search_data['edges']:\n",
    "            node = edge['node']\n",
    "            if node:\n",
    "                all_prs.append(node)\n",
    "\n",
    "        if not search_data['pageInfo']['hasNextPage']:\n",
    "            break\n",
    "\n",
    "        cursor = search_data['pageInfo']['endCursor']\n",
    "        time.sleep(0.5)  # Be polite to GitHub's API\n",
    "\n",
    "    return all_prs\n",
    "\n",
    "\n",
    "all_linked_prs = fetch_all_linked_prs(REPO)\n",
    "print(f\"Fetched {len(all_linked_prs)} linked PRs.\")\n",
    "\n",
    "# Example: print PR numbers\n",
    "for pr in all_linked_prs:\n",
    "    print(f\"PR #{pr['number']} - {pr['title']}\")\n"
   ]
  }
 ],
 "metadata": {
  "kernelspec": {
   "display_name": ".venv",
   "language": "python",
   "name": "python3"
  },
  "language_info": {
   "codemirror_mode": {
    "name": "ipython",
    "version": 3
   },
   "file_extension": ".py",
   "mimetype": "text/x-python",
   "name": "python",
   "nbconvert_exporter": "python",
   "pygments_lexer": "ipython3",
   "version": "3.9.0"
  }
 },
 "nbformat": 4,
 "nbformat_minor": 5
}
