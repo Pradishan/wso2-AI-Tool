{
 "cells": [
  {
   "cell_type": "code",
   "execution_count": 10,
   "id": "ccafa00c",
   "metadata": {},
   "outputs": [
    {
     "name": "stdout",
     "output_type": "stream",
     "text": [
      "Loading and preparing base data...\n",
      "Sorting data chronologically by commit_date...\n"
     ]
    },
    {
     "name": "stderr",
     "output_type": "stream",
     "text": [
      "C:\\Users\\pradishan\\AppData\\Local\\Temp\\ipykernel_10820\\2120650468.py:19: FutureWarning: In a future version of pandas, parsing datetimes with mixed time zones will raise an error unless `utc=True`. Please specify `utc=True` to opt in to the new behaviour and silence this warning. To create a `Series` with mixed offsets and `object` dtype, please use `apply` and `datetime.datetime.strptime`\n",
      "  df[\"commit_date\"] = pd.to_datetime(df[\"commit_date\"])\n"
     ]
    },
    {
     "name": "stdout",
     "output_type": "stream",
     "text": [
      "Data sorted successfully.\n",
      "\n",
      "Normalizing embedding vectors...\n",
      "Vectors normalized.\n",
      "\n",
      "Performing PCA to reduce dimensions to 51...\n",
      "PCA complete. New feature shape: (12595, 177)\n",
      "\n",
      "Splitting data chronologically (80% train, 20% test)...\n",
      "Training set size: 10076\n",
      "Test set size: 2519\n",
      "\n",
      "Training XGBoost classifier...\n"
     ]
    },
    {
     "name": "stderr",
     "output_type": "stream",
     "text": [
      "c:\\Users\\pradishan\\code\\wso2-AI-Tool\\.venv\\lib\\site-packages\\xgboost\\core.py:158: UserWarning: [14:07:03] WARNING: C:\\buildkite-agent\\builds\\buildkite-windows-cpu-autoscaling-group-i-08cbc0333d8d4aae1-1\\xgboost\\xgboost-ci-windows\\src\\learner.cc:740: \n",
      "Parameters: { \"use_label_encoder\" } are not used.\n",
      "\n",
      "  warnings.warn(smsg, UserWarning)\n"
     ]
    },
    {
     "name": "stdout",
     "output_type": "stream",
     "text": [
      "Training complete.\n",
      "\n",
      "Evaluating the model on the chronological test set...\n",
      "Accuracy: 0.3855\n",
      "\n",
      "Classification Report:\n",
      "              precision    recall  f1-score   support\n",
      "\n",
      "   Not a Bug       0.93      0.31      0.47      2188\n",
      "         Bug       0.16      0.85      0.27       331\n",
      "\n",
      "    accuracy                           0.39      2519\n",
      "   macro avg       0.55      0.58      0.37      2519\n",
      "weighted avg       0.83      0.39      0.44      2519\n",
      "\n",
      "\n",
      "Generating confusion matrix...\n"
     ]
    },
    {
     "data": {
      "image/png": "[encoded data removed]",
      "text/plain": [
       "<Figure size 800x600 with 2 Axes>"
      ]
     },
     "metadata": {},
     "output_type": "display_data"
    },
    {
     "name": "stdout",
     "output_type": "stream",
     "text": [
      "\n",
      "Chronological split validation process is complete.\n"
     ]
    }
   ],
   "source": [
    "import pandas as pd\n",
    "import numpy as np\n",
    "import xgboost as xgb\n",
    "from sklearn.model_selection import train_test_split\n",
    "from sklearn.metrics import classification_report, confusion_matrix, accuracy_score\n",
    "import seaborn as sns\n",
    "import matplotlib.pyplot as plt\n",
    "from sklearn.preprocessing import Normalizer\n",
    "from sklearn.decomposition import PCA\n",
    "\n",
    "# --- 1. Load and Prepare Data Chronologically ---\n",
    "print(\"Loading and preparing base data...\")\n",
    "# Load the original dataset\n",
    "df = pd.read_csv(\"data/final_dataset_with_embeddings.csv\")\n",
    "df.dropna(subset=['commit_hash', 'is_bug_introducing'], inplace=True)\n",
    "\n",
    "# Sort the entire DataFrame by date BEFORE feature extraction\n",
    "print(\"Sorting data chronologically by commit_date...\")\n",
    "df[\"commit_date\"] = pd.to_datetime(df[\"commit_date\"])\n",
    "df.sort_values(by=\"commit_date\", inplace=True)\n",
    "df.reset_index(drop=True, inplace=True)\n",
    "print(\"Data sorted successfully.\")\n",
    "\n",
    "# Separate the data into features (X), labels (y), and metadata\n",
    "embedding_cols = [col for col in df.columns if col.startswith('emb_')]\n",
    "X = df[embedding_cols].values\n",
    "y = df['is_bug_introducing'].values\n",
    "\n",
    "# --- 2. Normalize and Apply PCA (as before) ---\n",
    "print(\"\\nNormalizing embedding vectors...\")\n",
    "normalizer = Normalizer(norm='l2')\n",
    "X_normalized = normalizer.fit_transform(X)\n",
    "print(\"Vectors normalized.\")\n",
    "\n",
    "print(\"\\nPerforming PCA to reduce dimensions to 51...\")\n",
    "pca = PCA(n_components=177, random_state=42)\n",
    "X_pca = pca.fit_transform(X_normalized)\n",
    "print(f\"PCA complete. New feature shape: {X_pca.shape}\")\n",
    "\n",
    "\n",
    "# --- 3. Split Data Chronologically ---\n",
    "print(\"\\nSplitting data chronologically (80% train, 20% test)...\")\n",
    "split_point = int(len(X_pca) * 0.80)\n",
    "X_train, X_test = X_pca[:split_point], X_pca[split_point:]\n",
    "y_train, y_test = y[:split_point], y[split_point:]\n",
    "\n",
    "print(f\"Training set size: {X_train.shape[0]}\")\n",
    "print(f\"Test set size: {X_test.shape[0]}\")\n",
    "\n",
    "# --- 4. Train and Evaluate XGBoost Classifier (as before) ---\n",
    "print(\"\\nTraining XGBoost classifier...\")\n",
    "xgb_classifier = xgb.XGBClassifier(\n",
    "    objective='binary:logistic',\n",
    "    eval_metric='logloss',\n",
    "    use_label_encoder=False,\n",
    "    random_state=42\n",
    ")\n",
    "xgb_classifier.fit(X_train, y_train)\n",
    "print(\"Training complete.\")\n",
    "\n",
    "print(\"\\nEvaluating the model on the chronological test set...\")\n",
    "y_pred = xgb_classifier.predict(X_test)\n",
    "accuracy = accuracy_score(y_test, y_pred)\n",
    "print(f\"Accuracy: {accuracy:.4f}\")\n",
    "\n",
    "print(\"\\nClassification Report:\")\n",
    "print(classification_report(y_test, y_pred, target_names=['Not a Bug', 'Bug']))\n",
    "\n",
    "print(\"\\nGenerating confusion matrix...\")\n",
    "cm = confusion_matrix(y_test, y_pred)\n",
    "plt.figure(figsize=(8, 6))\n",
    "sns.heatmap(cm, annot=True, fmt='d', cmap='Blues',\n",
    "            xticklabels=['Not a Bug', 'Bug'],\n",
    "            yticklabels=['Not a Bug', 'Bug'])\n",
    "plt.title('Confusion Matrix (Chronological Split)')\n",
    "plt.ylabel('Actual Label')\n",
    "plt.xlabel('Predicted Label')\n",
    "plt.show()\n",
    "\n",
    "print(\"\\nChronological split validation process is complete.\")"
   ]
  }
 ],
 "metadata": {
  "kernelspec": {
   "display_name": ".venv",
   "language": "python",
   "name": "python3"
  },
  "language_info": {
   "codemirror_mode": {
    "name": "ipython",
    "version": 3
   },
   "file_extension": ".py",
   "mimetype": "text/x-python",
   "name": "python",
   "nbconvert_exporter": "python",
   "pygments_lexer": "ipython3",
   "version": "3.9.0"
  }
 },
 "nbformat": 4,
 "nbformat_minor": 5
}
