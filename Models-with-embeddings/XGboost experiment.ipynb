{
 "cells": [
  {
   "cell_type": "markdown",
   "id": "7e060c08",
   "metadata": {},
   "source": [
    "# XGBoost\n"
   ]
  },
  {
   "cell_type": "code",
   "execution_count": 20,
   "id": "0e347a75",
   "metadata": {},
   "outputs": [],
   "source": [
    "import warnings\n",
    "import os\n",
    "import pandas as pd\n",
    "import time\n",
    "import matplotlib.pyplot as plt\n",
    "from sklearn.model_selection import ParameterGrid, train_test_split\n",
    "from sklearn.preprocessing import Normalizer\n",
    "from sklearn.decomposition import PCA\n",
    "from sklearn.metrics import f1_score, roc_auc_score, precision_score, recall_score, accuracy_score\n",
    "import xgboost as xgb\n",
    "import mlflow\n",
    "from mlflow.models.signature import infer_signature\n",
    "from tqdm import tqdm\n",
    "import joblib\n",
    "import json\n",
    "warnings.filterwarnings('ignore')"
   ]
  },
  {
   "cell_type": "code",
   "execution_count": 21,
   "id": "80646d54",
   "metadata": {},
   "outputs": [],
   "source": [
    "# --- File Paths ---\n",
    "SOURCE_DATASET_PATH = \"data/final_dataset_with_embeddings.csv\" # Your final dataset with embeddings\n",
    "BASE_LOG_DIR = \"logs\" # A parent directory to store all results\n",
    "\n",
    "# --- Feature Configuration ---\n",
    "METADATA_COLS = [\"commit_hash\", \"author_email\", \"commit_date\"]\n",
    "LABEL_COL = \"is_bug_introducing\"\n",
    "N_PCA_COMPONENTS = 177 # The optimal number you found\n",
    "\n",
    "# --- Model Configuration ---\n",
    "PARAM_GRID = {\n",
    "    \"n_estimators\": [100, 200, 300],\n",
    "    \"max_depth\": [10, 20],\n",
    "    \"learning_rate\": [0.05, 0.1],\n",
    "    \"subsample\": [0.7, 1.0],\n",
    "}"
   ]
  },
  {
   "cell_type": "markdown",
   "id": "f1b8047d",
   "metadata": {},
   "source": [
    "Generic Data Loading and Preparation Functions"
   ]
  },
  {
   "cell_type": "code",
   "execution_count": 22,
   "id": "52a56168",
   "metadata": {},
   "outputs": [],
   "source": [
    "def load_base_data(path):\n",
    "    \"\"\"Loads the source CSV, cleans it, and sorts by date.\"\"\"\n",
    "    print(f\"Loading and preparing base data from '{path}'...\")\n",
    "    df = pd.read_csv(path)\n",
    "    df.dropna(subset=['commit_hash', LABEL_COL], inplace=True)\n",
    "    df[\"commit_date\"] = pd.to_datetime(df[\"commit_date\"])\n",
    "    df.sort_values(by=\"commit_date\", inplace=True)\n",
    "    df.reset_index(drop=True, inplace=True)\n",
    "    print(\"Base data loaded successfully.\")\n",
    "    return df\n",
    "\n",
    "def prepare_feature_sets(df):\n",
    "    \"\"\"Creates all the different feature combinations for our experiments.\"\"\"\n",
    "    print(\"Preparing all feature sets...\")\n",
    "    \n",
    "    embedding_cols = [col for col in df.columns if col.startswith('emb_')]\n",
    "    stats_cols = [col for col in df.columns if col not in embedding_cols + METADATA_COLS + [LABEL_COL]]\n",
    "    \n",
    "    # Normalize and apply PCA to embeddings\n",
    "    X_embed = df[embedding_cols].values\n",
    "    X_normalized = Normalizer(norm='l2').fit_transform(X_embed)\n",
    "    pca = PCA(n_components=N_PCA_COMPONENTS, random_state=42)\n",
    "    X_pca = pca.fit_transform(X_normalized)\n",
    "    \n",
    "    pca_cols = [f'pca_{i+1}' for i in range(N_PCA_COMPONENTS)]\n",
    "    df_pca = pd.DataFrame(X_pca, columns=pca_cols)\n",
    "\n",
    "    feature_sets = {\n",
    "        \"stats_only\": df[stats_cols],\n",
    "        \"embeddings_only\": df[embedding_cols],\n",
    "        \"pca_only\": df_pca,\n",
    "        \"stats_and_embeddings\": pd.concat([df[stats_cols], df[embedding_cols]], axis=1),\n",
    "        \"stats_and_pca\": pd.concat([df[stats_cols], df_pca], axis=1)\n",
    "    }\n",
    "    \n",
    "    print(\"All feature sets are ready.\")\n",
    "    return feature_sets, df[LABEL_COL]"
   ]
  },
  {
   "cell_type": "markdown",
   "id": "fabb0149",
   "metadata": {},
   "source": [
    "Generic Modeling and Logging Functions"
   ]
  },
  {
   "cell_type": "code",
   "execution_count": 23,
   "id": "05b7d599",
   "metadata": {},
   "outputs": [],
   "source": [
    "def train_and_evaluate(params, X_train, y_train, X_test, y_test):\n",
    "    \"\"\"Trains an XGBoost model and returns the model and its performance metrics.\"\"\"\n",
    "    model = xgb.XGBClassifier(random_state=42, eval_metric=\"logloss\", n_jobs=-1, **params)\n",
    "    \n",
    "    start_time = time.time()\n",
    "    model.fit(X_train, y_train)\n",
    "    training_duration = time.time() - start_time\n",
    "\n",
    "    y_pred = model.predict(X_test)\n",
    "    y_pred_proba = model.predict_proba(X_test)[:, 1]\n",
    "\n",
    "    metrics = {\n",
    "        \"accuracy\": accuracy_score(y_test, y_pred),\n",
    "        \"precision\": precision_score(y_test, y_pred, zero_division=0),\n",
    "        \"recall\": recall_score(y_test, y_pred, zero_division=0),\n",
    "        \"f1\": f1_score(y_test, y_pred, zero_division=0),\n",
    "        \"roc_auc\": roc_auc_score(y_test, y_pred_proba),\n",
    "        \"training_duration\": training_duration,\n",
    "    }\n",
    "    return model, metrics\n",
    "\n",
    "def run_experiment(experiment_name, X_data, y_data, param_grid):\n",
    "    \"\"\"\n",
    "    Runs a full hyperparameter search and logs metrics for all runs,\n",
    "    but only logs the model artifact for the single best run.\n",
    "    \"\"\"\n",
    "    print(f\"\\n--- Running Experiment: {experiment_name} ---\")\n",
    "    \n",
    "    # 1. Create dedicated directories for this experiment\n",
    "    results_dir = os.path.join(BASE_LOG_DIR, experiment_name)\n",
    "    os.makedirs(results_dir, exist_ok=True)\n",
    "\n",
    "    # 2. Split data chronologically\n",
    "    split_point = int(len(X_data) * 0.80)\n",
    "    X_train, X_test = X_data.iloc[:split_point], X_data.iloc[split_point:]\n",
    "    y_train, y_test = y_data.iloc[:split_point], y_data.iloc[split_point:]\n",
    "    \n",
    "    # 3. Set up MLflow experiment\n",
    "    mlflow.set_tracking_uri(\"file:./mlruns\")\n",
    "    mlflow.set_experiment(experiment_name)\n",
    "    \n",
    "    # 4. Run hyperparameter search\n",
    "    best_f1_score = -1\n",
    "    best_model, best_params, best_run_id = None, None, None\n",
    "    results_list = []\n",
    "\n",
    "    grid = list(ParameterGrid(param_grid))\n",
    "    for i, params in enumerate(tqdm(grid, desc=f\"Training models for {experiment_name}\")):\n",
    "        with mlflow.start_run(run_name=f\"run_{i:03d}\") as run:\n",
    "            current_run_id = run.info.run_id\n",
    "            model, metrics = train_and_evaluate(params, X_train, y_train, X_test, y_test)\n",
    "            \n",
    "            # Log only params and metrics for every run\n",
    "            mlflow.log_params(params)\n",
    "            mlflow.log_metrics(metrics)\n",
    "            mlflow.set_tag(\"model_type\", \"XGBoost\")\n",
    "\n",
    "            # Track the best model in memory\n",
    "            if metrics[\"f1\"] > best_f1_score:\n",
    "                best_f1_score = metrics[\"f1\"]\n",
    "                best_model, best_params, best_run_id = model, params, current_run_id\n",
    "                mlflow.set_tag(\"best_model\", \"True\") # Tag the best run as it happens\n",
    "\n",
    "            results_list.append({\"run_name\": f\"run_{i:03d}\", **params, **metrics})\n",
    "\n",
    "    # --- After the search, log the single best model artifact ---\n",
    "    if best_run_id:\n",
    "        print(f\"Logging the best model artifact to run ID: {best_run_id}\")\n",
    "        with mlflow.start_run(run_id=best_run_id):\n",
    "            signature = infer_signature(X_train.head(), best_model.predict(X_train.head()))\n",
    "            mlflow.xgboost.log_model(\n",
    "                xgb_model=best_model,\n",
    "                artifact_path=\"model\",\n",
    "                signature=signature,\n",
    "                input_example=X_train.head()\n",
    "            )\n",
    "        print(\"Best model artifact logged successfully.\")\n",
    "\n",
    "    # 5. Save local artifacts and summary\n",
    "    results_df = pd.DataFrame(results_list).sort_values(by=\"f1\", ascending=False)\n",
    "    results_df.to_csv(os.path.join(results_dir, \"results_summary.csv\"), index=False)\n",
    "    joblib.dump(best_model, os.path.join(results_dir, \"best_model.pkl\"))\n",
    "\n",
    "    print(f\"--- Experiment '{experiment_name}' Complete ---\")\n",
    "    print(f\"Best F1 Score: {best_f1_score:.4f}\")\n",
    "    print(f\"Best Parameters: {best_params}\")\n",
    "    print(f\"Results and artifacts saved to: '{results_dir}'\")\n",
    "    \"\"\"Runs a full hyperparameter search for a given feature set and logs to MLflow.\"\"\"\n",
    "    print(f\"\\n--- Running Experiment: {experiment_name} ---\")\n",
    "    "
   ]
  },
  {
   "cell_type": "code",
   "execution_count": 24,
   "id": "809a8467",
   "metadata": {},
   "outputs": [
    {
     "name": "stdout",
     "output_type": "stream",
     "text": [
      "Loading and preparing base data from 'data/final_dataset_with_embeddings.csv'...\n",
      "Base data loaded successfully.\n",
      "Preparing all feature sets...\n"
     ]
    },
    {
     "name": "stderr",
     "output_type": "stream",
     "text": [
      "2025/09/22 14:00:25 INFO mlflow.tracking.fluent: Experiment with name 'XGBoost_Stats_Only' does not exist. Creating a new experiment.\n"
     ]
    },
    {
     "name": "stdout",
     "output_type": "stream",
     "text": [
      "All feature sets are ready.\n",
      "\n",
      "--- Running Experiment: XGBoost_Stats_Only ---\n"
     ]
    },
    {
     "name": "stderr",
     "output_type": "stream",
     "text": [
      "Training models for XGBoost_Stats_Only: 100%|██████████| 24/24 [01:52<00:00,  4.67s/it]\n",
      "2025/09/22 14:02:17 WARNING mlflow.models.model: `artifact_path` is deprecated. Please use `name` instead.\n"
     ]
    },
    {
     "name": "stdout",
     "output_type": "stream",
     "text": [
      "Logging the best model artifact to run ID: 897591c954f34a8ea0ee1cf3d76d8ac7\n"
     ]
    },
    {
     "data": {
      "application/vnd.jupyter.widget-view+json": {
       "model_id": "03f28b9bc8804a1a9b2b0abfd5cbd08b",
       "version_major": 2,
       "version_minor": 0
      },
      "text/plain": [
       "Downloading artifacts:   0%|          | 0/7 [00:00<?, ?it/s]"
      ]
     },
     "metadata": {},
     "output_type": "display_data"
    },
    {
     "name": "stdout",
     "output_type": "stream",
     "text": [
      "Best model artifact logged successfully.\n",
      "--- Experiment 'XGBoost_Stats_Only' Complete ---\n",
      "Best F1 Score: 0.2961\n",
      "Best Parameters: {'learning_rate': 0.05, 'max_depth': 20, 'n_estimators': 200, 'subsample': 1.0}\n",
      "Results and artifacts saved to: 'logs\\XGBoost_Stats_Only'\n",
      "\n",
      "--- Running Experiment: XGBoost_Stats_Only ---\n"
     ]
    }
   ],
   "source": [
    "# --- Load data and create all feature sets once ---\n",
    "base_df = load_base_data(SOURCE_DATASET_PATH)\n",
    "all_feature_sets, y_data = prepare_feature_sets(base_df)\n",
    "\n",
    "# --- Experiment 1: Statistical Features Only ---\n",
    "run_experiment(\n",
    "    experiment_name=\"XGBoost_Stats_Only\",\n",
    "    X_data=all_feature_sets[\"stats_only\"],\n",
    "    y_data=y_data,\n",
    "    param_grid=PARAM_GRID\n",
    ")"
   ]
  },
  {
   "cell_type": "code",
   "execution_count": 25,
   "id": "eaea2f8b",
   "metadata": {},
   "outputs": [
    {
     "name": "stderr",
     "output_type": "stream",
     "text": [
      "2025/09/22 14:02:25 INFO mlflow.tracking.fluent: Experiment with name 'XGBoost_Embeddings_Only' does not exist. Creating a new experiment.\n"
     ]
    },
    {
     "name": "stdout",
     "output_type": "stream",
     "text": [
      "\n",
      "--- Running Experiment: XGBoost_Embeddings_Only ---\n"
     ]
    },
    {
     "name": "stderr",
     "output_type": "stream",
     "text": [
      "Training models for XGBoost_Embeddings_Only: 100%|██████████| 24/24 [1:09:18<00:00, 173.28s/it]\n"
     ]
    },
    {
     "name": "stdout",
     "output_type": "stream",
     "text": [
      "Logging the best model artifact to run ID: dac4445ce7f544d59be546f47e8c338a\n"
     ]
    },
    {
     "name": "stderr",
     "output_type": "stream",
     "text": [
      "2025/09/22 15:11:44 WARNING mlflow.models.model: `artifact_path` is deprecated. Please use `name` instead.\n"
     ]
    },
    {
     "data": {
      "application/vnd.jupyter.widget-view+json": {
       "model_id": "3079b119fd3a4f79a53c70fd2cf4ce3f",
       "version_major": 2,
       "version_minor": 0
      },
      "text/plain": [
       "Downloading artifacts:   0%|          | 0/7 [00:00<?, ?it/s]"
      ]
     },
     "metadata": {},
     "output_type": "display_data"
    },
    {
     "name": "stdout",
     "output_type": "stream",
     "text": [
      "Best model artifact logged successfully.\n",
      "--- Experiment 'XGBoost_Embeddings_Only' Complete ---\n",
      "Best F1 Score: 0.2850\n",
      "Best Parameters: {'learning_rate': 0.1, 'max_depth': 10, 'n_estimators': 200, 'subsample': 0.7}\n",
      "Results and artifacts saved to: 'logs\\XGBoost_Embeddings_Only'\n",
      "\n",
      "--- Running Experiment: XGBoost_Embeddings_Only ---\n"
     ]
    }
   ],
   "source": [
    "# --- Experiment 2: Embeddings Only ---\n",
    "run_experiment(\n",
    "    experiment_name=\"XGBoost_Embeddings_Only\",\n",
    "    X_data=all_feature_sets[\"embeddings_only\"],\n",
    "    y_data=y_data,\n",
    "    param_grid=PARAM_GRID\n",
    ")"
   ]
  },
  {
   "cell_type": "code",
   "execution_count": 26,
   "id": "86bba035",
   "metadata": {},
   "outputs": [
    {
     "name": "stderr",
     "output_type": "stream",
     "text": [
      "2025/09/22 15:12:01 INFO mlflow.tracking.fluent: Experiment with name 'XGBoost_PCA_Only' does not exist. Creating a new experiment.\n"
     ]
    },
    {
     "name": "stdout",
     "output_type": "stream",
     "text": [
      "\n",
      "--- Running Experiment: XGBoost_PCA_Only ---\n"
     ]
    },
    {
     "name": "stderr",
     "output_type": "stream",
     "text": [
      "Training models for XGBoost_PCA_Only: 100%|██████████| 24/24 [18:33<00:00, 46.38s/it]\n"
     ]
    },
    {
     "name": "stdout",
     "output_type": "stream",
     "text": [
      "Logging the best model artifact to run ID: 562ae067496141fb8a4f4feb8782a5dd\n"
     ]
    },
    {
     "name": "stderr",
     "output_type": "stream",
     "text": [
      "2025/09/22 15:30:35 WARNING mlflow.models.model: `artifact_path` is deprecated. Please use `name` instead.\n"
     ]
    },
    {
     "data": {
      "application/vnd.jupyter.widget-view+json": {
       "model_id": "d3827bb4e2bb4a799227317828e9f662",
       "version_major": 2,
       "version_minor": 0
      },
      "text/plain": [
       "Downloading artifacts:   0%|          | 0/7 [00:00<?, ?it/s]"
      ]
     },
     "metadata": {},
     "output_type": "display_data"
    },
    {
     "name": "stdout",
     "output_type": "stream",
     "text": [
      "Best model artifact logged successfully.\n",
      "--- Experiment 'XGBoost_PCA_Only' Complete ---\n",
      "Best F1 Score: 0.2790\n",
      "Best Parameters: {'learning_rate': 0.1, 'max_depth': 10, 'n_estimators': 300, 'subsample': 0.7}\n",
      "Results and artifacts saved to: 'logs\\XGBoost_PCA_Only'\n",
      "\n",
      "--- Running Experiment: XGBoost_PCA_Only ---\n"
     ]
    }
   ],
   "source": [
    "# --- Experiment 3: PCA-Reduced Embeddings Only ---\n",
    "run_experiment(\n",
    "    experiment_name=\"XGBoost_PCA_Only\",\n",
    "    X_data=all_feature_sets[\"pca_only\"],\n",
    "    y_data=y_data,\n",
    "    param_grid=PARAM_GRID\n",
    ")"
   ]
  },
  {
   "cell_type": "code",
   "execution_count": 27,
   "id": "e42fca4c",
   "metadata": {},
   "outputs": [
    {
     "name": "stderr",
     "output_type": "stream",
     "text": [
      "2025/09/22 15:30:46 INFO mlflow.tracking.fluent: Experiment with name 'XGBoost_Stats_and_Embeddings' does not exist. Creating a new experiment.\n"
     ]
    },
    {
     "name": "stdout",
     "output_type": "stream",
     "text": [
      "\n",
      "--- Running Experiment: XGBoost_Stats_and_Embeddings ---\n"
     ]
    },
    {
     "name": "stderr",
     "output_type": "stream",
     "text": [
      "Training models for XGBoost_Stats_and_Embeddings: 100%|██████████| 24/24 [59:44<00:00, 149.36s/it]\n"
     ]
    },
    {
     "name": "stdout",
     "output_type": "stream",
     "text": [
      "Logging the best model artifact to run ID: c5598c13cc0c42d091b774d8c4108bf6\n"
     ]
    },
    {
     "name": "stderr",
     "output_type": "stream",
     "text": [
      "2025/09/22 16:30:32 WARNING mlflow.models.model: `artifact_path` is deprecated. Please use `name` instead.\n"
     ]
    },
    {
     "data": {
      "application/vnd.jupyter.widget-view+json": {
       "model_id": "9bfd528b1069492796303fed46538ce2",
       "version_major": 2,
       "version_minor": 0
      },
      "text/plain": [
       "Downloading artifacts:   0%|          | 0/7 [00:00<?, ?it/s]"
      ]
     },
     "metadata": {},
     "output_type": "display_data"
    },
    {
     "name": "stdout",
     "output_type": "stream",
     "text": [
      "Best model artifact logged successfully.\n",
      "--- Experiment 'XGBoost_Stats_and_Embeddings' Complete ---\n",
      "Best F1 Score: 0.3169\n",
      "Best Parameters: {'learning_rate': 0.1, 'max_depth': 20, 'n_estimators': 300, 'subsample': 0.7}\n",
      "Results and artifacts saved to: 'logs\\XGBoost_Stats_and_Embeddings'\n",
      "\n",
      "--- Running Experiment: XGBoost_Stats_and_Embeddings ---\n"
     ]
    }
   ],
   "source": [
    "# --- Experiment 4: Stats + Full Embeddings ---\n",
    "run_experiment(\n",
    "    experiment_name=\"XGBoost_Stats_and_Embeddings\",\n",
    "    X_data=all_feature_sets[\"stats_and_embeddings\"],\n",
    "    y_data=y_data,\n",
    "    param_grid=PARAM_GRID\n",
    ")"
   ]
  },
  {
   "cell_type": "code",
   "execution_count": 28,
   "id": "1dbfb7cb",
   "metadata": {},
   "outputs": [
    {
     "name": "stdout",
     "output_type": "stream",
     "text": [
      "\n",
      "--- Running Experiment: XGBoost_Stats_and_PCA ---\n"
     ]
    },
    {
     "name": "stderr",
     "output_type": "stream",
     "text": [
      "2025/09/22 16:30:45 INFO mlflow.tracking.fluent: Experiment with name 'XGBoost_Stats_and_PCA' does not exist. Creating a new experiment.\n"
     ]
    },
    {
     "name": "stderr",
     "output_type": "stream",
     "text": [
      "Training models for XGBoost_Stats_and_PCA: 100%|██████████| 24/24 [15:32<00:00, 38.87s/it]\n",
      "2025/09/22 16:46:18 WARNING mlflow.models.model: `artifact_path` is deprecated. Please use `name` instead.\n"
     ]
    },
    {
     "name": "stdout",
     "output_type": "stream",
     "text": [
      "Logging the best model artifact to run ID: 94688ec27f9f4828a4baed6da22fbfb4\n"
     ]
    },
    {
     "data": {
      "application/vnd.jupyter.widget-view+json": {
       "model_id": "8041ee97f14141718e45b2e19c92131f",
       "version_major": 2,
       "version_minor": 0
      },
      "text/plain": [
       "Downloading artifacts:   0%|          | 0/7 [00:00<?, ?it/s]"
      ]
     },
     "metadata": {},
     "output_type": "display_data"
    },
    {
     "name": "stdout",
     "output_type": "stream",
     "text": [
      "Best model artifact logged successfully.\n",
      "--- Experiment 'XGBoost_Stats_and_PCA' Complete ---\n",
      "Best F1 Score: 0.3040\n",
      "Best Parameters: {'learning_rate': 0.1, 'max_depth': 10, 'n_estimators': 100, 'subsample': 0.7}\n",
      "Results and artifacts saved to: 'logs\\XGBoost_Stats_and_PCA'\n",
      "\n",
      "--- Running Experiment: XGBoost_Stats_and_PCA ---\n"
     ]
    }
   ],
   "source": [
    "# --- Experiment 5: Stats + PCA-Reduced Embeddings ---\n",
    "run_experiment(\n",
    "    experiment_name=\"XGBoost_Stats_and_PCA\",\n",
    "    X_data=all_feature_sets[\"stats_and_pca\"],\n",
    "    y_data=y_data,\n",
    "    param_grid=PARAM_GRID\n",
    ")\n"
   ]
  }
 ],
 "metadata": {
  "kernelspec": {
   "display_name": ".venv",
   "language": "python",
   "name": "python3"
  },
  "language_info": {
   "codemirror_mode": {
    "name": "ipython",
    "version": 3
   },
   "file_extension": ".py",
   "mimetype": "text/x-python",
   "name": "python",
   "nbconvert_exporter": "python",
   "pygments_lexer": "ipython3",
   "version": "3.9.0"
  }
 },
 "nbformat": 4,
 "nbformat_minor": 5
}
