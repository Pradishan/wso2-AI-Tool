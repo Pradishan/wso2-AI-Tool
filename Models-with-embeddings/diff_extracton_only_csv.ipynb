{
 "cells": [
  {
   "cell_type": "code",
   "execution_count": 1,
   "id": "c8bacfbf",
   "metadata": {},
   "outputs": [],
   "source": [
    "import pandas as pd\n",
    "import git\n",
    "import os\n",
    "import csv\n",
    "from tqdm.notebook import tqdm"
   ]
  },
  {
   "cell_type": "code",
   "execution_count": null,
   "id": "cffc8bd4",
   "metadata": {},
   "outputs": [],
   "source": [
    "# --- Configuration ---\n",
    "FINAL_DATASET_PATH = \"../data/final/final_labeled_training_dataset.csv\"\n",
    "REPO_PATH = \"../../ballerina-lang/\"\n",
    "FINAL_CSV_WITH_DIFFS_PATH = \"final_dataset_with_diffs2.csv\"\n",
    "ERROR_LOG_PATH = \"log/diff_errors.log\"\n",
    "\n",
    "os.environ['GIT_TERMINAL_PROMPT'] = '0' "
   ]
  },
  {
   "cell_type": "code",
   "execution_count": null,
   "id": "f5e90ae4",
   "metadata": {},
   "outputs": [
    {
     "name": "stdout",
     "output_type": "stream",
     "text": [
      "Resuming from checkpoint file: 'final_dataset_with_diffs2.csv'\n",
      "Found 57338 commits already processed.\n",
      "New commits to process: 68487.\n"
     ]
    }
   ],
   "source": [
    "# --- Checkpointing: Find commits already processed ---\n",
    "processed_hashes = set()\n",
    "header = []\n",
    "if os.path.exists(FINAL_CSV_WITH_DIFFS_PATH):\n",
    "    print(f\"Resuming from checkpoint file: '{FINAL_CSV_WITH_DIFFS_PATH}'\")\n",
    "    # Read only the commit_hash column to save memory\n",
    "    processed_df = pd.read_csv(FINAL_CSV_WITH_DIFFS_PATH, usecols=['commit_hash'])\n",
    "    processed_hashes = set(processed_df['commit_hash'])\n",
    "    print(f\"Found {len(processed_hashes)} commits already processed.\")\n",
    "\n",
    "# --- Load the full dataset and filter ---\n",
    "df = pd.read_csv(FINAL_DATASET_PATH)\n",
    "df_to_process = df[~df['commit_hash'].isin(processed_hashes)]\n",
    "print(f\"New commits to process: {len(df_to_process)}.\")"
   ]
  },
  {
   "cell_type": "code",
   "execution_count": 4,
   "id": "5bffe0e4",
   "metadata": {},
   "outputs": [
    {
     "data": {
      "application/vnd.jupyter.widget-view+json": {
       "model_id": "3273337d01e946f4853abdb94e2d2db1",
       "version_major": 2,
       "version_minor": 0
      },
      "text/plain": [
       "Processing Commits:   0%|          | 0/68487 [00:00<?, ?it/s]"
      ]
     },
     "metadata": {},
     "output_type": "display_data"
    },
    {
     "ename": "UnicodeEncodeError",
     "evalue": "'utf-8' codec can't encode characters in position 1374-1376: surrogates not allowed",
     "output_type": "error",
     "traceback": [
      "\u001b[1;31m---------------------------------------------------------------------------\u001b[0m",
      "\u001b[1;31mUnicodeEncodeError\u001b[0m                        Traceback (most recent call last)",
      "Cell \u001b[1;32mIn[4], line 28\u001b[0m\n\u001b[0;32m     26\u001b[0m         record \u001b[38;5;241m=\u001b[39m row\u001b[38;5;241m.\u001b[39mto_dict()\n\u001b[0;32m     27\u001b[0m         record[\u001b[38;5;124m'\u001b[39m\u001b[38;5;124mdiff\u001b[39m\u001b[38;5;124m'\u001b[39m] \u001b[38;5;241m=\u001b[39m diff_text\n\u001b[1;32m---> 28\u001b[0m         \u001b[43mwriter\u001b[49m\u001b[38;5;241;43m.\u001b[39;49m\u001b[43mwriterow\u001b[49m\u001b[43m(\u001b[49m\u001b[43mrecord\u001b[49m\u001b[43m)\u001b[49m\n\u001b[0;32m     30\u001b[0m \u001b[38;5;28mprint\u001b[39m(\u001b[38;5;124m\"\u001b[39m\u001b[38;5;130;01m\\n\u001b[39;00m\u001b[38;5;124m--- Process Complete ---\u001b[39m\u001b[38;5;124m\"\u001b[39m)\n",
      "File \u001b[1;32m~\\AppData\\Local\\Programs\\Python\\Python39\\lib\\csv.py:154\u001b[0m, in \u001b[0;36mDictWriter.writerow\u001b[1;34m(self, rowdict)\u001b[0m\n\u001b[0;32m    153\u001b[0m \u001b[38;5;28;01mdef\u001b[39;00m\u001b[38;5;250m \u001b[39m\u001b[38;5;21mwriterow\u001b[39m(\u001b[38;5;28mself\u001b[39m, rowdict):\n\u001b[1;32m--> 154\u001b[0m     \u001b[38;5;28;01mreturn\u001b[39;00m \u001b[38;5;28;43mself\u001b[39;49m\u001b[38;5;241;43m.\u001b[39;49m\u001b[43mwriter\u001b[49m\u001b[38;5;241;43m.\u001b[39;49m\u001b[43mwriterow\u001b[49m\u001b[43m(\u001b[49m\u001b[38;5;28;43mself\u001b[39;49m\u001b[38;5;241;43m.\u001b[39;49m\u001b[43m_dict_to_list\u001b[49m\u001b[43m(\u001b[49m\u001b[43mrowdict\u001b[49m\u001b[43m)\u001b[49m\u001b[43m)\u001b[49m\n",
      "\u001b[1;31mUnicodeEncodeError\u001b[0m: 'utf-8' codec can't encode characters in position 1374-1376: surrogates not allowed"
     ]
    }
   ],
   "source": [
    "# --- Main Sequential Loop ---\n",
    "repo = git.Repo(REPO_PATH)\n",
    "\n",
    "# Open the output file once and write to it line by line\n",
    "with open(FINAL_CSV_WITH_DIFFS_PATH, 'a', newline='', encoding='utf-8') as outfile, \\\n",
    "     open(ERROR_LOG_PATH, 'a', encoding='utf-8') as error_file:\n",
    "    \n",
    "    writer = csv.DictWriter(outfile, fieldnames=df.columns.tolist() + ['diff'])\n",
    "    # Write header only if the file is new\n",
    "    if not processed_hashes and os.path.getsize(FINAL_CSV_WITH_DIFFS_PATH) == 0:\n",
    "        writer.writeheader()\n",
    "\n",
    "    for _, row in tqdm(df_to_process.iterrows(), total=len(df_to_process), desc=\"Processing Commits\"):\n",
    "        commit_hash = row['commit_hash']\n",
    "        diff_text = \"\"\n",
    "        try:\n",
    "            commit = repo.commit(commit_hash)\n",
    "            if commit.parents:\n",
    "                parent = commit.parents[0]\n",
    "                diff_text = repo.git.diff(parent, commit, '--no-color', '--unified=0')\n",
    "        except Exception as e :\n",
    "            error_file.write(f\"Commit: {commit_hash}\\nError: {str(e)}\\n---\\n\")\n",
    "        \n",
    "        \n",
    "        # Prepare the full record and write it to the CSV\n",
    "        record = row.to_dict()\n",
    "        record['diff'] = diff_text\n",
    "        writer.writerow(record)\n",
    "\n",
    "print(\"\\n--- Process Complete ---\")"
   ]
  },
  {
   "cell_type": "code",
   "execution_count": null,
   "id": "578ba2d4",
   "metadata": {},
   "outputs": [
    {
     "data": {
      "application/vnd.jupyter.widget-view+json": {
       "model_id": "afc3264e74e24b6ea734b378e5679a63",
       "version_major": 2,
       "version_minor": 0
      },
      "text/plain": [
       "Processing Commits:   0%|          | 0/68487 [00:00<?, ?it/s]"
      ]
     },
     "metadata": {},
     "output_type": "display_data"
    },
    {
     "name": "stdout",
     "output_type": "stream",
     "text": [
      "\n",
      "--- Process Complete ---\n"
     ]
    }
   ],
   "source": [
    "# --- Main Sequential Loop (Corrected for Unicode Errors) ---\n",
    "repo = git.Repo(REPO_PATH)\n",
    "\n",
    "with open(FINAL_CSV_WITH_DIFFS_PATH, 'a', newline='', encoding='utf-8') as outfile, \\\n",
    "     open(ERROR_LOG_PATH, 'a', encoding='utf-8') as error_file:\n",
    "    \n",
    "    writer = csv.DictWriter(outfile, fieldnames=df.columns.tolist() + ['diff'])\n",
    "    if not processed_hashes and os.path.getsize(FINAL_CSV_WITH_DIFFS_PATH) == 0:\n",
    "        writer.writeheader()\n",
    "\n",
    "    for _, row in tqdm(df_to_process.iterrows(), total=len(df_to_process), desc=\"Processing Commits\"):\n",
    "        commit_hash = row['commit_hash']\n",
    "        diff_text = \"\"\n",
    "        try :\n",
    "            commit = repo.commit(commit_hash)\n",
    "            if commit.parents:\n",
    "                parent = commit.parents[0]\n",
    "                diff_text = repo.git.diff(parent, commit, '--no-color', '--unified=0')\n",
    "        except Exception as e :\n",
    "            error_file.write(f\"Commit: {commit_hash}\\nError: {str(e)}\\n---\\n\")\n",
    "        \n",
    "        # Clean the diff_text to replace any invalid unicode characters.\n",
    "        cleaned_diff = diff_text.encode('utf-8', 'replace').decode('utf-8')\n",
    "        \n",
    "        # Prepare the full record and write it to the CSV\n",
    "        record = row.to_dict()\n",
    "        record['diff'] = cleaned_diff # Use the cleaned version\n",
    "        writer.writerow(record)\n",
    "\n",
    "print(\"\\n--- Process Complete ---\")"
   ]
  }
 ],
 "metadata": {
  "kernelspec": {
   "display_name": ".venv",
   "language": "python",
   "name": "python3"
  },
  "language_info": {
   "codemirror_mode": {
    "name": "ipython",
    "version": 3
   },
   "file_extension": ".py",
   "mimetype": "text/x-python",
   "name": "python",
   "nbconvert_exporter": "python",
   "pygments_lexer": "ipython3",
   "version": "3.9.0"
  }
 },
 "nbformat": 4,
 "nbformat_minor": 5
}
