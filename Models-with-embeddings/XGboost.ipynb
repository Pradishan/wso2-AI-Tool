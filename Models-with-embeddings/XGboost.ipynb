{
 "cells": [
  {
   "cell_type": "code",
   "execution_count": 1,
   "id": "930af297",
   "metadata": {},
   "outputs": [],
   "source": [
    "import warnings\n",
    "warnings.filterwarnings('ignore')"
   ]
  },
  {
   "cell_type": "markdown",
   "id": "7e060c08",
   "metadata": {},
   "source": [
    "# XGBoost\n"
   ]
  },
  {
   "cell_type": "code",
   "execution_count": 2,
   "id": "c97bc8f4",
   "metadata": {},
   "outputs": [
    {
     "name": "stdout",
     "output_type": "stream",
     "text": [
      "Libraries imported successfully.\n"
     ]
    }
   ],
   "source": [
    "import os\n",
    "import pandas as pd\n",
    "import time\n",
    "import matplotlib.pyplot as plt\n",
    "from sklearn.model_selection import ParameterGrid\n",
    "from sklearn.metrics import (\n",
    "    precision_score,\n",
    "    recall_score,\n",
    "    f1_score,\n",
    "    accuracy_score,\n",
    "    roc_auc_score,\n",
    ")\n",
    "import mlflow\n",
    "import mlflow.xgboost\n",
    "import mlflow.sklearn\n",
    "from tqdm import tqdm\n",
    "\n",
    "print(\"Libraries imported successfully.\")"
   ]
  },
  {
   "cell_type": "markdown",
   "id": "c63c62c8",
   "metadata": {},
   "source": [
    "configuration\n"
   ]
  },
  {
   "cell_type": "code",
   "execution_count": 3,
   "id": "57caded2",
   "metadata": {},
   "outputs": [
    {
     "name": "stdout",
     "output_type": "stream",
     "text": [
      "Created a grid with 48 hyperparameter combinations to test.\n"
     ]
    }
   ],
   "source": [
    "param_grid = {\n",
    "    \"n_estimators\": [50, 100, 200, 300],\n",
    "    \"max_depth\": [None, 10, 20],\n",
    "    \"learning_rate\": [0.05, 0.1],\n",
    "    \"subsample\": [0.7, 1.0],\n",
    "}\n",
    "\n",
    "# Create a list of all possible combinations\n",
    "grid = list(ParameterGrid(param_grid))\n",
    "\n",
    "print(f\"Created a grid with {len(grid)} hyperparameter combinations to test.\")"
   ]
  },
  {
   "cell_type": "markdown",
   "id": "7616b3ba",
   "metadata": {},
   "source": [
    "Load and Split Data\n"
   ]
  },
  {
   "cell_type": "code",
   "execution_count": 4,
   "id": "36f7a004",
   "metadata": {},
   "outputs": [],
   "source": [
    "FINAL_DATASET_PATH = \"data/final_dataset_with_embeddings.csv\"\n",
    "df = pd.read_csv(FINAL_DATASET_PATH)\n",
    "\n",
    "df.drop(index=df[df[\"commit_hash\"].isnull()].index, inplace=True)\n",
    "\n",
    "df[\"commit_date\"] = pd.to_datetime(df[\"commit_date\"])\n",
    "df.sort_values(by=\"commit_date\", inplace=True)\n",
    "\n",
    "X = df.drop(\n",
    "    columns=[\"commit_hash\", \"author_email\", \"commit_date\", \"is_bug_introducing\"]\n",
    ")\n",
    "y = df[\"is_bug_introducing\"]\n",
    "\n",
    "split_point = int(len(df) * 0.80)\n",
    "X_train, X_test = X.iloc[:split_point], X.iloc[split_point:]\n",
    "y_train, y_test = y.iloc[:split_point], y.iloc[split_point:]"
   ]
  },
  {
   "cell_type": "code",
   "execution_count": 5,
   "id": "465b4a0d",
   "metadata": {},
   "outputs": [
    {
     "data": {
      "text/plain": [
       "(12595, 786)"
      ]
     },
     "execution_count": 5,
     "metadata": {},
     "output_type": "execute_result"
    }
   ],
   "source": [
    "df.shape"
   ]
  },
  {
   "cell_type": "code",
   "execution_count": 6,
   "id": "d0f7912b",
   "metadata": {},
   "outputs": [
    {
     "data": {
      "application/vnd.microsoft.datawrangler.viewer.v0+json": {
       "columns": [
        {
         "name": "index",
         "rawType": "object",
         "type": "string"
        },
        {
         "name": "0",
         "rawType": "int64",
         "type": "integer"
        }
       ],
       "ref": "1fb66ed2-84c1-448b-bfaf-0af38a42e81b",
       "rows": [
        [
         "commit_hash",
         "0"
        ],
        [
         "author_email",
         "0"
        ],
        [
         "commit_date",
         "0"
        ],
        [
         "lines_added",
         "0"
        ],
        [
         "lines_deleted",
         "0"
        ],
        [
         "files_changed",
         "0"
        ],
        [
         "num_modified_subsystems",
         "0"
        ],
        [
         "num_modified_dirs",
         "0"
        ],
        [
         "entropy",
         "0"
        ],
        [
         "previous_total_size",
         "0"
        ],
        [
         "author_total_commits",
         "0"
        ],
        [
         "time_since_last_commit",
         "0"
        ],
        [
         "recent_commits",
         "0"
        ],
        [
         "prior_committers",
         "0"
        ],
        [
         "number_of_highly_coupled_files",
         "0"
        ],
        [
         "number_of_coupled_files_for all_degrees",
         "0"
        ],
        [
         "number_of_non_modified_coupled_files",
         "0"
        ],
        [
         "is_bug_introducing",
         "0"
        ],
        [
         "emb_0",
         "0"
        ],
        [
         "emb_1",
         "0"
        ],
        [
         "emb_2",
         "0"
        ],
        [
         "emb_3",
         "0"
        ],
        [
         "emb_4",
         "0"
        ],
        [
         "emb_5",
         "0"
        ],
        [
         "emb_6",
         "0"
        ],
        [
         "emb_7",
         "0"
        ],
        [
         "emb_8",
         "0"
        ],
        [
         "emb_9",
         "0"
        ],
        [
         "emb_10",
         "0"
        ],
        [
         "emb_11",
         "0"
        ],
        [
         "emb_12",
         "0"
        ],
        [
         "emb_13",
         "0"
        ],
        [
         "emb_14",
         "0"
        ],
        [
         "emb_15",
         "0"
        ],
        [
         "emb_16",
         "0"
        ],
        [
         "emb_17",
         "0"
        ],
        [
         "emb_18",
         "0"
        ],
        [
         "emb_19",
         "0"
        ],
        [
         "emb_20",
         "0"
        ],
        [
         "emb_21",
         "0"
        ],
        [
         "emb_22",
         "0"
        ],
        [
         "emb_23",
         "0"
        ],
        [
         "emb_24",
         "0"
        ],
        [
         "emb_25",
         "0"
        ],
        [
         "emb_26",
         "0"
        ],
        [
         "emb_27",
         "0"
        ],
        [
         "emb_28",
         "0"
        ],
        [
         "emb_29",
         "0"
        ],
        [
         "emb_30",
         "0"
        ],
        [
         "emb_31",
         "0"
        ]
       ],
       "shape": {
        "columns": 1,
        "rows": 786
       }
      },
      "text/plain": [
       "commit_hash      0\n",
       "author_email     0\n",
       "commit_date      0\n",
       "lines_added      0\n",
       "lines_deleted    0\n",
       "                ..\n",
       "emb_763          0\n",
       "emb_764          0\n",
       "emb_765          0\n",
       "emb_766          0\n",
       "emb_767          0\n",
       "Length: 786, dtype: int64"
      ]
     },
     "execution_count": 6,
     "metadata": {},
     "output_type": "execute_result"
    }
   ],
   "source": [
    "df.isna().sum()"
   ]
  },
  {
   "cell_type": "code",
   "execution_count": 7,
   "id": "35e8e747",
   "metadata": {},
   "outputs": [
    {
     "data": {
      "application/vnd.microsoft.datawrangler.viewer.v0+json": {
       "columns": [
        {
         "name": "index",
         "rawType": "object",
         "type": "string"
        },
        {
         "name": "0",
         "rawType": "int64",
         "type": "integer"
        }
       ],
       "ref": "6c1c697b-8400-4aef-b96d-a96e4257157e",
       "rows": [
        [
         "commit_hash",
         "0"
        ],
        [
         "author_email",
         "0"
        ],
        [
         "commit_date",
         "0"
        ],
        [
         "lines_added",
         "0"
        ],
        [
         "lines_deleted",
         "0"
        ],
        [
         "files_changed",
         "0"
        ],
        [
         "num_modified_subsystems",
         "0"
        ],
        [
         "num_modified_dirs",
         "0"
        ],
        [
         "entropy",
         "0"
        ],
        [
         "previous_total_size",
         "0"
        ],
        [
         "author_total_commits",
         "0"
        ],
        [
         "time_since_last_commit",
         "0"
        ],
        [
         "recent_commits",
         "0"
        ],
        [
         "prior_committers",
         "0"
        ],
        [
         "number_of_highly_coupled_files",
         "0"
        ],
        [
         "number_of_coupled_files_for all_degrees",
         "0"
        ],
        [
         "number_of_non_modified_coupled_files",
         "0"
        ],
        [
         "is_bug_introducing",
         "0"
        ],
        [
         "emb_0",
         "0"
        ],
        [
         "emb_1",
         "0"
        ],
        [
         "emb_2",
         "0"
        ],
        [
         "emb_3",
         "0"
        ],
        [
         "emb_4",
         "0"
        ],
        [
         "emb_5",
         "0"
        ],
        [
         "emb_6",
         "0"
        ],
        [
         "emb_7",
         "0"
        ],
        [
         "emb_8",
         "0"
        ],
        [
         "emb_9",
         "0"
        ],
        [
         "emb_10",
         "0"
        ],
        [
         "emb_11",
         "0"
        ],
        [
         "emb_12",
         "0"
        ],
        [
         "emb_13",
         "0"
        ],
        [
         "emb_14",
         "0"
        ],
        [
         "emb_15",
         "0"
        ],
        [
         "emb_16",
         "0"
        ],
        [
         "emb_17",
         "0"
        ],
        [
         "emb_18",
         "0"
        ],
        [
         "emb_19",
         "0"
        ],
        [
         "emb_20",
         "0"
        ],
        [
         "emb_21",
         "0"
        ],
        [
         "emb_22",
         "0"
        ],
        [
         "emb_23",
         "0"
        ],
        [
         "emb_24",
         "0"
        ],
        [
         "emb_25",
         "0"
        ],
        [
         "emb_26",
         "0"
        ],
        [
         "emb_27",
         "0"
        ],
        [
         "emb_28",
         "0"
        ],
        [
         "emb_29",
         "0"
        ],
        [
         "emb_30",
         "0"
        ],
        [
         "emb_31",
         "0"
        ]
       ],
       "shape": {
        "columns": 1,
        "rows": 786
       }
      },
      "text/plain": [
       "commit_hash      0\n",
       "author_email     0\n",
       "commit_date      0\n",
       "lines_added      0\n",
       "lines_deleted    0\n",
       "                ..\n",
       "emb_763          0\n",
       "emb_764          0\n",
       "emb_765          0\n",
       "emb_766          0\n",
       "emb_767          0\n",
       "Length: 786, dtype: int64"
      ]
     },
     "execution_count": 7,
     "metadata": {},
     "output_type": "execute_result"
    }
   ],
   "source": [
    "df.isnull().sum()"
   ]
  },
  {
   "cell_type": "code",
   "execution_count": 8,
   "id": "86af2e68",
   "metadata": {},
   "outputs": [
    {
     "data": {
      "text/plain": [
       "(12595, 786)"
      ]
     },
     "execution_count": 8,
     "metadata": {},
     "output_type": "execute_result"
    }
   ],
   "source": [
    "df = df.dropna(subset=[\"commit_hash\", \"author_email\", \"commit_date\"])\n",
    "df.shape"
   ]
  },
  {
   "cell_type": "code",
   "execution_count": 9,
   "id": "a277810b",
   "metadata": {},
   "outputs": [
    {
     "data": {
      "application/vnd.microsoft.datawrangler.viewer.v0+json": {
       "columns": [
        {
         "name": "index",
         "rawType": "object",
         "type": "string"
        },
        {
         "name": "0",
         "rawType": "int64",
         "type": "integer"
        }
       ],
       "ref": "3ab5cf72-cf94-45f6-b16f-4b9b9470b322",
       "rows": [
        [
         "commit_hash",
         "0"
        ],
        [
         "author_email",
         "0"
        ],
        [
         "commit_date",
         "0"
        ],
        [
         "lines_added",
         "0"
        ],
        [
         "lines_deleted",
         "0"
        ],
        [
         "files_changed",
         "0"
        ],
        [
         "num_modified_subsystems",
         "0"
        ],
        [
         "num_modified_dirs",
         "0"
        ],
        [
         "entropy",
         "0"
        ],
        [
         "previous_total_size",
         "0"
        ],
        [
         "author_total_commits",
         "0"
        ],
        [
         "time_since_last_commit",
         "0"
        ],
        [
         "recent_commits",
         "0"
        ],
        [
         "prior_committers",
         "0"
        ],
        [
         "number_of_highly_coupled_files",
         "0"
        ],
        [
         "number_of_coupled_files_for all_degrees",
         "0"
        ],
        [
         "number_of_non_modified_coupled_files",
         "0"
        ],
        [
         "is_bug_introducing",
         "0"
        ],
        [
         "emb_0",
         "0"
        ],
        [
         "emb_1",
         "0"
        ],
        [
         "emb_2",
         "0"
        ],
        [
         "emb_3",
         "0"
        ],
        [
         "emb_4",
         "0"
        ],
        [
         "emb_5",
         "0"
        ],
        [
         "emb_6",
         "0"
        ],
        [
         "emb_7",
         "0"
        ],
        [
         "emb_8",
         "0"
        ],
        [
         "emb_9",
         "0"
        ],
        [
         "emb_10",
         "0"
        ],
        [
         "emb_11",
         "0"
        ],
        [
         "emb_12",
         "0"
        ],
        [
         "emb_13",
         "0"
        ],
        [
         "emb_14",
         "0"
        ],
        [
         "emb_15",
         "0"
        ],
        [
         "emb_16",
         "0"
        ],
        [
         "emb_17",
         "0"
        ],
        [
         "emb_18",
         "0"
        ],
        [
         "emb_19",
         "0"
        ],
        [
         "emb_20",
         "0"
        ],
        [
         "emb_21",
         "0"
        ],
        [
         "emb_22",
         "0"
        ],
        [
         "emb_23",
         "0"
        ],
        [
         "emb_24",
         "0"
        ],
        [
         "emb_25",
         "0"
        ],
        [
         "emb_26",
         "0"
        ],
        [
         "emb_27",
         "0"
        ],
        [
         "emb_28",
         "0"
        ],
        [
         "emb_29",
         "0"
        ],
        [
         "emb_30",
         "0"
        ],
        [
         "emb_31",
         "0"
        ]
       ],
       "shape": {
        "columns": 1,
        "rows": 786
       }
      },
      "text/plain": [
       "commit_hash      0\n",
       "author_email     0\n",
       "commit_date      0\n",
       "lines_added      0\n",
       "lines_deleted    0\n",
       "                ..\n",
       "emb_763          0\n",
       "emb_764          0\n",
       "emb_765          0\n",
       "emb_766          0\n",
       "emb_767          0\n",
       "Length: 786, dtype: int64"
      ]
     },
     "execution_count": 9,
     "metadata": {},
     "output_type": "execute_result"
    }
   ],
   "source": [
    "df.isnull().sum()"
   ]
  },
  {
   "cell_type": "markdown",
   "id": "4b086825",
   "metadata": {},
   "source": [
    "## functions\n"
   ]
  },
  {
   "cell_type": "code",
   "execution_count": 10,
   "id": "02b243ed",
   "metadata": {},
   "outputs": [
    {
     "name": "stdout",
     "output_type": "stream",
     "text": [
      "Helper functions defined successfully.\n"
     ]
    }
   ],
   "source": [
    "import xgboost as xgb\n",
    "from mlflow.models.signature import infer_signature\n",
    "\n",
    "\n",
    "def train_and_evaluate_xgb(params, X_train, y_train, X_test, y_test):\n",
    "    \"\"\"Trains an XGBoost model and returns the model and its performance metrics.\"\"\"\n",
    "    # Use 'use_label_encoder=False' and 'eval_metric' to avoid common warnings\n",
    "    xgb_model = xgb.XGBClassifier(\n",
    "        random_state=42, eval_metric=\"logloss\", n_jobs=-1, **params\n",
    "    )\n",
    "\n",
    "    start_time = time.time()\n",
    "    xgb_model.fit(X_train, y_train)\n",
    "    end_time = time.time()\n",
    "\n",
    "    y_pred = xgb_model.predict(X_test)\n",
    "    y_pred_proba = xgb_model.predict_proba(X_test)[:, 1]\n",
    "\n",
    "    metrics = {\n",
    "        \"accuracy\": accuracy_score(y_test, y_pred),\n",
    "        \"precision\": precision_score(y_test, y_pred, zero_division=0),\n",
    "        \"recall\": recall_score(y_test, y_pred, zero_division=0),\n",
    "        \"f1\": f1_score(y_test, y_pred, zero_division=0),\n",
    "        \"roc_auc\": roc_auc_score(y_test, y_pred_proba),\n",
    "        \"training_duration\": end_time - start_time,\n",
    "    }\n",
    "    return xgb_model, metrics\n",
    "\n",
    "\n",
    "def plot_feature_importance(model, feature_names):\n",
    "    \"\"\"Creates and returns a matplotlib figure of feature importances.\"\"\"\n",
    "    importances = model.feature_importances_\n",
    "    df = pd.DataFrame({\"feature\": feature_names, \"importance\": importances})\n",
    "    df = df.sort_values(by=\"importance\", ascending=True)\n",
    "\n",
    "    fig, ax = plt.subplots(figsize=(10, 8))\n",
    "    ax.barh(df[\"feature\"], df[\"importance\"], color=\"skyblue\")\n",
    "    ax.set_title(\"Feature Importance\", fontsize=16)\n",
    "    ax.set_xlabel(\"Importance\")\n",
    "    plt.tight_layout()\n",
    "    return fig\n",
    "\n",
    "\n",
    "def log_to_mlflow(run_name, params, metrics, model, X_train_sample):\n",
    "    \"\"\"Logs all experiment data for a single run to MLflow.\"\"\"\n",
    "    with mlflow.start_run(run_name=run_name) as run:\n",
    "        # Log hyperparameters\n",
    "        mlflow.log_params(params)\n",
    "\n",
    "        # Log metrics\n",
    "        mlflow.log_metrics(metrics)\n",
    "\n",
    "        # Infer model signature\n",
    "        signature = infer_signature(X_train_sample, model.predict(X_train_sample))\n",
    "\n",
    "        # Log the XGBoost model with signature\n",
    "        mlflow.xgboost.log_model(\n",
    "            xgb_model=model,\n",
    "            artifact_path=\"model\",\n",
    "            signature=signature,\n",
    "            input_example=X_train_sample,\n",
    "            model_format=\"json\",  # Specify the model format to avoid warnings\n",
    "        )\n",
    "\n",
    "        # Create and log feature importance plot\n",
    "        fig = plot_feature_importance(model, X_train.columns)\n",
    "        mlflow.log_figure(fig, \"feature_importance.png\")\n",
    "        plt.close(fig)  # Prevent inline display\n",
    "\n",
    "        # Create feature importance DataFrame and save as CSV\n",
    "        feature_importance_df = pd.DataFrame(\n",
    "            {\"feature\": X_train.columns, \"importance\": model.feature_importances_}\n",
    "        ).sort_values(by=\"importance\", ascending=False)\n",
    "\n",
    "        # Save and log feature importance as CSV\n",
    "        importance_path = \"feature_importance.csv\"\n",
    "        feature_importance_df.to_csv(importance_path, index=False)\n",
    "        mlflow.log_artifact(importance_path)\n",
    "        os.remove(importance_path)  # Clean up temporary file\n",
    "\n",
    "        # Log model parameters as tags for easy filtering\n",
    "        mlflow.set_tag(\"model_type\", \"XGBoost\")\n",
    "        mlflow.set_tag(\"data_type\", \"embeddings\")\n",
    "\n",
    "        return run.info.run_id\n",
    "\n",
    "\n",
    "print(\"Helper functions defined successfully.\")\n"
   ]
  },
  {
   "cell_type": "markdown",
   "id": "7390fde9",
   "metadata": {},
   "source": [
    "## Model training\n"
   ]
  },
  {
   "cell_type": "code",
   "execution_count": 11,
   "id": "5f70d344",
   "metadata": {},
   "outputs": [
    {
     "name": "stdout",
     "output_type": "stream",
     "text": [
      "MLflow experiment set: XGBoost with embeddings 2\n",
      "Tracking URI: file:./mlruns\n"
     ]
    }
   ],
   "source": [
    "# MLflow setup\n",
    "mlflow.set_tracking_uri(\"file:./mlruns\")\n",
    "experiment_name = \"XGBoost with embeddings 2\"\n",
    "\n",
    "# Set or create experiment\n",
    "try:\n",
    "    experiment_id = mlflow.create_experiment(experiment_name)\n",
    "except mlflow.exceptions.MlflowException:\n",
    "    experiment_id = mlflow.get_experiment_by_name(experiment_name).experiment_id\n",
    "\n",
    "mlflow.set_experiment(experiment_name)\n",
    "print(f\"MLflow experiment set: {experiment_name}\")\n",
    "print(f\"Tracking URI: {mlflow.get_tracking_uri()}\")"
   ]
  },
  {
   "cell_type": "code",
   "execution_count": 12,
   "id": "5cefc9fd",
   "metadata": {},
   "outputs": [
    {
     "name": "stdout",
     "output_type": "stream",
     "text": [
      "\n",
      "--- Starting XGBoost Hyperparameter Search ---\n"
     ]
    },
    {
     "name": "stderr",
     "output_type": "stream",
     "text": [
      "Training XGBoost Models:   0%|          | 0/48 [00:00<?, ?it/s]2025/09/18 14:22:35 WARNING mlflow.models.model: `artifact_path` is deprecated. Please use `name` instead.\n"
     ]
    },
    {
     "data": {
      "application/vnd.jupyter.widget-view+json": {
       "model_id": "c4d84be98a2e4ef199b69df74f56f353",
       "version_major": 2,
       "version_minor": 0
      },
      "text/plain": [
       "Downloading artifacts:   0%|          | 0/7 [00:00<?, ?it/s]"
      ]
     },
     "metadata": {},
     "output_type": "display_data"
    },
    {
     "name": "stderr",
     "output_type": "stream",
     "text": [
      "2025/09/18 14:22:46 INFO mlflow.models.model: Found the following environment variables used during model inference: [OPENAI_API_KEY]. Please check if you need to set them when deploying the model. To disable this message, set environment variable `MLFLOW_RECORD_ENV_VARS_IN_MODEL_LOGGING` to `false`.\n",
      "Training XGBoost Models:   2%|▏         | 1/48 [00:35<27:30, 35.12s/it]"
     ]
    },
    {
     "name": "stdout",
     "output_type": "stream",
     "text": [
      "New best model found! F1 Score: 0.2948\n"
     ]
    },
    {
     "name": "stderr",
     "output_type": "stream",
     "text": [
      "2025/09/18 14:23:02 WARNING mlflow.models.model: `artifact_path` is deprecated. Please use `name` instead.\n"
     ]
    },
    {
     "data": {
      "application/vnd.jupyter.widget-view+json": {
       "model_id": "41d3d5d555a14900801f5a546b632672",
       "version_major": 2,
       "version_minor": 0
      },
      "text/plain": [
       "Downloading artifacts:   0%|          | 0/7 [00:00<?, ?it/s]"
      ]
     },
     "metadata": {},
     "output_type": "display_data"
    },
    {
     "name": "stderr",
     "output_type": "stream",
     "text": [
      "Training XGBoost Models:   4%|▍         | 2/48 [01:00<22:32, 29.40s/it]2025/09/18 14:23:35 WARNING mlflow.models.model: `artifact_path` is deprecated. Please use `name` instead.\n"
     ]
    },
    {
     "data": {
      "application/vnd.jupyter.widget-view+json": {
       "model_id": "cb1d8fabe483497bbc53a590eee6e44e",
       "version_major": 2,
       "version_minor": 0
      },
      "text/plain": [
       "Downloading artifacts:   0%|          | 0/7 [00:00<?, ?it/s]"
      ]
     },
     "metadata": {},
     "output_type": "display_data"
    },
    {
     "name": "stderr",
     "output_type": "stream",
     "text": [
      "Training XGBoost Models:   6%|▋         | 3/48 [01:32<22:45, 30.35s/it]"
     ]
    },
    {
     "name": "stdout",
     "output_type": "stream",
     "text": [
      "New best model found! F1 Score: 0.3092\n"
     ]
    },
    {
     "name": "stderr",
     "output_type": "stream",
     "text": [
      "2025/09/18 14:24:06 WARNING mlflow.models.model: `artifact_path` is deprecated. Please use `name` instead.\n"
     ]
    },
    {
     "data": {
      "application/vnd.jupyter.widget-view+json": {
       "model_id": "e66f064f13a942d2a0df200ea6dafc47",
       "version_major": 2,
       "version_minor": 0
      },
      "text/plain": [
       "Downloading artifacts:   0%|          | 0/7 [00:00<?, ?it/s]"
      ]
     },
     "metadata": {},
     "output_type": "display_data"
    },
    {
     "name": "stderr",
     "output_type": "stream",
     "text": [
      "Training XGBoost Models:   8%|▊         | 4/48 [02:02<22:17, 30.39s/it]2025/09/18 14:24:53 WARNING mlflow.models.model: `artifact_path` is deprecated. Please use `name` instead.\n"
     ]
    },
    {
     "data": {
      "application/vnd.jupyter.widget-view+json": {
       "model_id": "dca6d087024e4c75820ccb2b44e7bc48",
       "version_major": 2,
       "version_minor": 0
      },
      "text/plain": [
       "Downloading artifacts:   0%|          | 0/7 [00:00<?, ?it/s]"
      ]
     },
     "metadata": {},
     "output_type": "display_data"
    },
    {
     "name": "stderr",
     "output_type": "stream",
     "text": [
      "Training XGBoost Models:  10%|█         | 5/48 [02:50<26:21, 36.79s/it]"
     ]
    },
    {
     "name": "stdout",
     "output_type": "stream",
     "text": [
      "New best model found! F1 Score: 0.3109\n"
     ]
    },
    {
     "name": "stderr",
     "output_type": "stream",
     "text": [
      "2025/09/18 14:25:42 WARNING mlflow.models.model: `artifact_path` is deprecated. Please use `name` instead.\n"
     ]
    },
    {
     "data": {
      "application/vnd.jupyter.widget-view+json": {
       "model_id": "9d08f7608a03496d806f951744de28bc",
       "version_major": 2,
       "version_minor": 0
      },
      "text/plain": [
       "Downloading artifacts:   0%|          | 0/7 [00:00<?, ?it/s]"
      ]
     },
     "metadata": {},
     "output_type": "display_data"
    },
    {
     "name": "stderr",
     "output_type": "stream",
     "text": [
      "Training XGBoost Models:  12%|█▎        | 6/48 [03:41<29:00, 41.43s/it]2025/09/18 14:27:00 WARNING mlflow.models.model: `artifact_path` is deprecated. Please use `name` instead.\n"
     ]
    },
    {
     "data": {
      "application/vnd.jupyter.widget-view+json": {
       "model_id": "916ca7e21d7f46cc96eaeb729ee198f8",
       "version_major": 2,
       "version_minor": 0
      },
      "text/plain": [
       "Downloading artifacts:   0%|          | 0/7 [00:00<?, ?it/s]"
      ]
     },
     "metadata": {},
     "output_type": "display_data"
    },
    {
     "name": "stderr",
     "output_type": "stream",
     "text": [
      "Training XGBoost Models:  15%|█▍        | 7/48 [05:03<37:31, 54.91s/it]"
     ]
    },
    {
     "name": "stdout",
     "output_type": "stream",
     "text": [
      "New best model found! F1 Score: 0.3130\n"
     ]
    },
    {
     "name": "stderr",
     "output_type": "stream",
     "text": [
      "2025/09/18 14:28:25 WARNING mlflow.models.model: `artifact_path` is deprecated. Please use `name` instead.\n"
     ]
    },
    {
     "data": {
      "application/vnd.jupyter.widget-view+json": {
       "model_id": "f5c5c0ffcf154139ba70413f88b312fb",
       "version_major": 2,
       "version_minor": 0
      },
      "text/plain": [
       "Downloading artifacts:   0%|          | 0/7 [00:00<?, ?it/s]"
      ]
     },
     "metadata": {},
     "output_type": "display_data"
    },
    {
     "name": "stderr",
     "output_type": "stream",
     "text": [
      "Training XGBoost Models:  17%|█▋        | 8/48 [06:26<42:30, 63.76s/it]2025/09/18 14:29:21 WARNING mlflow.models.model: `artifact_path` is deprecated. Please use `name` instead.\n"
     ]
    },
    {
     "data": {
      "application/vnd.jupyter.widget-view+json": {
       "model_id": "0e4068c7149a4cbfa8468b8013f1cfa8",
       "version_major": 2,
       "version_minor": 0
      },
      "text/plain": [
       "Downloading artifacts:   0%|          | 0/7 [00:00<?, ?it/s]"
      ]
     },
     "metadata": {},
     "output_type": "display_data"
    },
    {
     "name": "stderr",
     "output_type": "stream",
     "text": [
      "Training XGBoost Models:  19%|█▉        | 9/48 [07:19<39:20, 60.54s/it]2025/09/18 14:30:17 WARNING mlflow.models.model: `artifact_path` is deprecated. Please use `name` instead.\n"
     ]
    },
    {
     "data": {
      "application/vnd.jupyter.widget-view+json": {
       "model_id": "6a47055c34684f18bcb3b1633b3ebe18",
       "version_major": 2,
       "version_minor": 0
      },
      "text/plain": [
       "Downloading artifacts:   0%|          | 0/7 [00:00<?, ?it/s]"
      ]
     },
     "metadata": {},
     "output_type": "display_data"
    },
    {
     "name": "stderr",
     "output_type": "stream",
     "text": [
      "Training XGBoost Models:  21%|██        | 10/48 [08:17<37:45, 59.62s/it]2025/09/18 14:31:34 WARNING mlflow.models.model: `artifact_path` is deprecated. Please use `name` instead.\n"
     ]
    },
    {
     "data": {
      "application/vnd.jupyter.widget-view+json": {
       "model_id": "388eb2d6c9b2452aac0a9033c884153d",
       "version_major": 2,
       "version_minor": 0
      },
      "text/plain": [
       "Downloading artifacts:   0%|          | 0/7 [00:00<?, ?it/s]"
      ]
     },
     "metadata": {},
     "output_type": "display_data"
    },
    {
     "name": "stderr",
     "output_type": "stream",
     "text": [
      "Training XGBoost Models:  23%|██▎       | 11/48 [09:35<40:12, 65.21s/it]2025/09/18 14:33:03 WARNING mlflow.models.model: `artifact_path` is deprecated. Please use `name` instead.\n"
     ]
    },
    {
     "data": {
      "application/vnd.jupyter.widget-view+json": {
       "model_id": "432f24b7542c4cf69c4a5cbff66a450b",
       "version_major": 2,
       "version_minor": 0
      },
      "text/plain": [
       "Downloading artifacts:   0%|          | 0/7 [00:00<?, ?it/s]"
      ]
     },
     "metadata": {},
     "output_type": "display_data"
    },
    {
     "name": "stderr",
     "output_type": "stream",
     "text": [
      "Training XGBoost Models:  25%|██▌       | 12/48 [11:05<43:38, 72.73s/it]2025/09/18 14:35:12 WARNING mlflow.models.model: `artifact_path` is deprecated. Please use `name` instead.\n"
     ]
    },
    {
     "data": {
      "application/vnd.jupyter.widget-view+json": {
       "model_id": "39fd205077ab40f8ba9cc2bb87fc203c",
       "version_major": 2,
       "version_minor": 0
      },
      "text/plain": [
       "Downloading artifacts:   0%|          | 0/7 [00:00<?, ?it/s]"
      ]
     },
     "metadata": {},
     "output_type": "display_data"
    },
    {
     "name": "stderr",
     "output_type": "stream",
     "text": [
      "Training XGBoost Models:  27%|██▋       | 13/48 [13:13<52:11, 89.48s/it]2025/09/18 14:37:34 WARNING mlflow.models.model: `artifact_path` is deprecated. Please use `name` instead.\n"
     ]
    },
    {
     "data": {
      "application/vnd.jupyter.widget-view+json": {
       "model_id": "42b650d1ce4a432b8eabbe4766ac9aa1",
       "version_major": 2,
       "version_minor": 0
      },
      "text/plain": [
       "Downloading artifacts:   0%|          | 0/7 [00:00<?, ?it/s]"
      ]
     },
     "metadata": {},
     "output_type": "display_data"
    },
    {
     "name": "stderr",
     "output_type": "stream",
     "text": [
      "Training XGBoost Models:  29%|██▉       | 14/48 [15:36<59:53, 105.68s/it]2025/09/18 14:40:37 WARNING mlflow.models.model: `artifact_path` is deprecated. Please use `name` instead.\n"
     ]
    },
    {
     "data": {
      "application/vnd.jupyter.widget-view+json": {
       "model_id": "8f39e2974dbf450886408cd4daf62ef3",
       "version_major": 2,
       "version_minor": 0
      },
      "text/plain": [
       "Downloading artifacts:   0%|          | 0/7 [00:00<?, ?it/s]"
      ]
     },
     "metadata": {},
     "output_type": "display_data"
    },
    {
     "name": "stderr",
     "output_type": "stream",
     "text": [
      "Training XGBoost Models:  31%|███▏      | 15/48 [18:39<1:11:00, 129.12s/it]"
     ]
    },
    {
     "name": "stdout",
     "output_type": "stream",
     "text": [
      "New best model found! F1 Score: 0.3146\n"
     ]
    },
    {
     "name": "stderr",
     "output_type": "stream",
     "text": [
      "2025/09/18 14:43:44 WARNING mlflow.models.model: `artifact_path` is deprecated. Please use `name` instead.\n"
     ]
    },
    {
     "data": {
      "application/vnd.jupyter.widget-view+json": {
       "model_id": "4bf4bc152cec44e5934c337ec20ca1b3",
       "version_major": 2,
       "version_minor": 0
      },
      "text/plain": [
       "Downloading artifacts:   0%|          | 0/7 [00:00<?, ?it/s]"
      ]
     },
     "metadata": {},
     "output_type": "display_data"
    },
    {
     "name": "stderr",
     "output_type": "stream",
     "text": [
      "Training XGBoost Models:  33%|███▎      | 16/48 [21:44<1:17:46, 145.84s/it]2025/09/18 14:45:45 WARNING mlflow.models.model: `artifact_path` is deprecated. Please use `name` instead.\n"
     ]
    },
    {
     "data": {
      "application/vnd.jupyter.widget-view+json": {
       "model_id": "e37d3e930c2a40edbddbef3da22b3c92",
       "version_major": 2,
       "version_minor": 0
      },
      "text/plain": [
       "Downloading artifacts:   0%|          | 0/7 [00:00<?, ?it/s]"
      ]
     },
     "metadata": {},
     "output_type": "display_data"
    },
    {
     "name": "stderr",
     "output_type": "stream",
     "text": [
      "Training XGBoost Models:  35%|███▌      | 17/48 [23:49<1:12:03, 139.46s/it]2025/09/18 14:48:08 WARNING mlflow.models.model: `artifact_path` is deprecated. Please use `name` instead.\n"
     ]
    },
    {
     "data": {
      "application/vnd.jupyter.widget-view+json": {
       "model_id": "edea71034a3d43dfb6d93359a3e15966",
       "version_major": 2,
       "version_minor": 0
      },
      "text/plain": [
       "Downloading artifacts:   0%|          | 0/7 [00:00<?, ?it/s]"
      ]
     },
     "metadata": {},
     "output_type": "display_data"
    },
    {
     "name": "stderr",
     "output_type": "stream",
     "text": [
      "Training XGBoost Models:  38%|███▊      | 18/48 [26:10<1:10:00, 140.03s/it]2025/09/18 14:50:49 WARNING mlflow.models.model: `artifact_path` is deprecated. Please use `name` instead.\n"
     ]
    },
    {
     "data": {
      "application/vnd.jupyter.widget-view+json": {
       "model_id": "09f5c9d409a4468588cbbd5de594296c",
       "version_major": 2,
       "version_minor": 0
      },
      "text/plain": [
       "Downloading artifacts:   0%|          | 0/7 [00:00<?, ?it/s]"
      ]
     },
     "metadata": {},
     "output_type": "display_data"
    },
    {
     "name": "stderr",
     "output_type": "stream",
     "text": [
      "Training XGBoost Models:  40%|███▉      | 19/48 [29:01<1:12:06, 149.20s/it]2025/09/18 14:54:05 WARNING mlflow.models.model: `artifact_path` is deprecated. Please use `name` instead.\n"
     ]
    },
    {
     "data": {
      "application/vnd.jupyter.widget-view+json": {
       "model_id": "79c3249b056446729e31ab9e2c0086dd",
       "version_major": 2,
       "version_minor": 0
      },
      "text/plain": [
       "Downloading artifacts:   0%|          | 0/7 [00:00<?, ?it/s]"
      ]
     },
     "metadata": {},
     "output_type": "display_data"
    },
    {
     "name": "stderr",
     "output_type": "stream",
     "text": [
      "Training XGBoost Models:  42%|████▏     | 20/48 [32:08<1:15:00, 160.72s/it]2025/09/18 14:57:51 WARNING mlflow.models.model: `artifact_path` is deprecated. Please use `name` instead.\n"
     ]
    },
    {
     "data": {
      "application/vnd.jupyter.widget-view+json": {
       "model_id": "7ed82bab7903478e998dfc57038295f0",
       "version_major": 2,
       "version_minor": 0
      },
      "text/plain": [
       "Downloading artifacts:   0%|          | 0/7 [00:00<?, ?it/s]"
      ]
     },
     "metadata": {},
     "output_type": "display_data"
    },
    {
     "name": "stderr",
     "output_type": "stream",
     "text": [
      "Training XGBoost Models:  44%|████▍     | 21/48 [35:56<1:21:23, 180.88s/it]2025/09/18 15:02:02 WARNING mlflow.models.model: `artifact_path` is deprecated. Please use `name` instead.\n"
     ]
    },
    {
     "data": {
      "application/vnd.jupyter.widget-view+json": {
       "model_id": "1b8081fd19a7491b9943c801f460d2cb",
       "version_major": 2,
       "version_minor": 0
      },
      "text/plain": [
       "Downloading artifacts:   0%|          | 0/7 [00:00<?, ?it/s]"
      ]
     },
     "metadata": {},
     "output_type": "display_data"
    },
    {
     "name": "stderr",
     "output_type": "stream",
     "text": [
      "Training XGBoost Models:  46%|████▌     | 22/48 [40:04<1:27:02, 200.88s/it]2025/09/18 15:06:27 WARNING mlflow.models.model: `artifact_path` is deprecated. Please use `name` instead.\n"
     ]
    },
    {
     "data": {
      "application/vnd.jupyter.widget-view+json": {
       "model_id": "a271ea35ef6944949d7c4a46ae673eb8",
       "version_major": 2,
       "version_minor": 0
      },
      "text/plain": [
       "Downloading artifacts:   0%|          | 0/7 [00:00<?, ?it/s]"
      ]
     },
     "metadata": {},
     "output_type": "display_data"
    },
    {
     "name": "stderr",
     "output_type": "stream",
     "text": [
      "Training XGBoost Models:  48%|████▊     | 23/48 [44:29<1:31:49, 220.39s/it]2025/09/18 15:11:24 WARNING mlflow.models.model: `artifact_path` is deprecated. Please use `name` instead.\n"
     ]
    },
    {
     "data": {
      "application/vnd.jupyter.widget-view+json": {
       "model_id": "d63ed9e5995548ac80cc8b934ab1911f",
       "version_major": 2,
       "version_minor": 0
      },
      "text/plain": [
       "Downloading artifacts:   0%|          | 0/7 [00:00<?, ?it/s]"
      ]
     },
     "metadata": {},
     "output_type": "display_data"
    },
    {
     "name": "stderr",
     "output_type": "stream",
     "text": [
      "Training XGBoost Models:  50%|█████     | 24/48 [49:36<1:38:30, 246.28s/it]2025/09/18 15:12:06 WARNING mlflow.models.model: `artifact_path` is deprecated. Please use `name` instead.\n"
     ]
    },
    {
     "data": {
      "application/vnd.jupyter.widget-view+json": {
       "model_id": "728a2732b0284891a1b64c47981d2ab5",
       "version_major": 2,
       "version_minor": 0
      },
      "text/plain": [
       "Downloading artifacts:   0%|          | 0/7 [00:00<?, ?it/s]"
      ]
     },
     "metadata": {},
     "output_type": "display_data"
    },
    {
     "name": "stderr",
     "output_type": "stream",
     "text": [
      "Training XGBoost Models:  52%|█████▏    | 25/48 [50:10<1:09:57, 182.51s/it]2025/09/18 15:12:38 WARNING mlflow.models.model: `artifact_path` is deprecated. Please use `name` instead.\n"
     ]
    },
    {
     "data": {
      "application/vnd.jupyter.widget-view+json": {
       "model_id": "301a4a36ba014d31a284b209bef1e4bf",
       "version_major": 2,
       "version_minor": 0
      },
      "text/plain": [
       "Downloading artifacts:   0%|          | 0/7 [00:00<?, ?it/s]"
      ]
     },
     "metadata": {},
     "output_type": "display_data"
    },
    {
     "name": "stderr",
     "output_type": "stream",
     "text": [
      "Training XGBoost Models:  54%|█████▍    | 26/48 [50:40<50:11, 136.89s/it]  2025/09/18 15:13:19 WARNING mlflow.models.model: `artifact_path` is deprecated. Please use `name` instead.\n"
     ]
    },
    {
     "data": {
      "application/vnd.jupyter.widget-view+json": {
       "model_id": "ec1739e501184d2786386b72779b238c",
       "version_major": 2,
       "version_minor": 0
      },
      "text/plain": [
       "Downloading artifacts:   0%|          | 0/7 [00:00<?, ?it/s]"
      ]
     },
     "metadata": {},
     "output_type": "display_data"
    },
    {
     "name": "stderr",
     "output_type": "stream",
     "text": [
      "Training XGBoost Models:  56%|█████▋    | 27/48 [51:19<37:36, 107.47s/it]2025/09/18 15:13:57 WARNING mlflow.models.model: `artifact_path` is deprecated. Please use `name` instead.\n"
     ]
    },
    {
     "data": {
      "application/vnd.jupyter.widget-view+json": {
       "model_id": "01fecb877a6c4393b951b7c4fbbd0e3d",
       "version_major": 2,
       "version_minor": 0
      },
      "text/plain": [
       "Downloading artifacts:   0%|          | 0/7 [00:00<?, ?it/s]"
      ]
     },
     "metadata": {},
     "output_type": "display_data"
    },
    {
     "name": "stderr",
     "output_type": "stream",
     "text": [
      "Training XGBoost Models:  58%|█████▊    | 28/48 [51:56<28:45, 86.26s/it] 2025/09/18 15:14:54 WARNING mlflow.models.model: `artifact_path` is deprecated. Please use `name` instead.\n"
     ]
    },
    {
     "data": {
      "application/vnd.jupyter.widget-view+json": {
       "model_id": "5a1991ec50754c3fad64d8f03fdf1df0",
       "version_major": 2,
       "version_minor": 0
      },
      "text/plain": [
       "Downloading artifacts:   0%|          | 0/7 [00:00<?, ?it/s]"
      ]
     },
     "metadata": {},
     "output_type": "display_data"
    },
    {
     "name": "stderr",
     "output_type": "stream",
     "text": [
      "Training XGBoost Models:  60%|██████    | 29/48 [52:54<24:40, 77.90s/it]2025/09/18 15:15:47 WARNING mlflow.models.model: `artifact_path` is deprecated. Please use `name` instead.\n"
     ]
    },
    {
     "data": {
      "application/vnd.jupyter.widget-view+json": {
       "model_id": "852b2346a0d04546a59069b03f694375",
       "version_major": 2,
       "version_minor": 0
      },
      "text/plain": [
       "Downloading artifacts:   0%|          | 0/7 [00:00<?, ?it/s]"
      ]
     },
     "metadata": {},
     "output_type": "display_data"
    },
    {
     "name": "stderr",
     "output_type": "stream",
     "text": [
      "Training XGBoost Models:  62%|██████▎   | 30/48 [53:48<21:13, 70.76s/it]2025/09/18 15:17:02 WARNING mlflow.models.model: `artifact_path` is deprecated. Please use `name` instead.\n"
     ]
    },
    {
     "data": {
      "application/vnd.jupyter.widget-view+json": {
       "model_id": "2cc2fec7f55c4522933d57841db120b9",
       "version_major": 2,
       "version_minor": 0
      },
      "text/plain": [
       "Downloading artifacts:   0%|          | 0/7 [00:00<?, ?it/s]"
      ]
     },
     "metadata": {},
     "output_type": "display_data"
    },
    {
     "name": "stderr",
     "output_type": "stream",
     "text": [
      "Training XGBoost Models:  65%|██████▍   | 31/48 [55:02<20:16, 71.56s/it]2025/09/18 15:18:13 WARNING mlflow.models.model: `artifact_path` is deprecated. Please use `name` instead.\n"
     ]
    },
    {
     "data": {
      "application/vnd.jupyter.widget-view+json": {
       "model_id": "b36012ecb9084a7e902fcdbfd9239820",
       "version_major": 2,
       "version_minor": 0
      },
      "text/plain": [
       "Downloading artifacts:   0%|          | 0/7 [00:00<?, ?it/s]"
      ]
     },
     "metadata": {},
     "output_type": "display_data"
    },
    {
     "name": "stderr",
     "output_type": "stream",
     "text": [
      "Training XGBoost Models:  67%|██████▋   | 32/48 [56:16<19:15, 72.25s/it]2025/09/18 15:19:06 WARNING mlflow.models.model: `artifact_path` is deprecated. Please use `name` instead.\n"
     ]
    },
    {
     "data": {
      "application/vnd.jupyter.widget-view+json": {
       "model_id": "6e707743d83d4834a8a97f929efdb225",
       "version_major": 2,
       "version_minor": 0
      },
      "text/plain": [
       "Downloading artifacts:   0%|          | 0/7 [00:00<?, ?it/s]"
      ]
     },
     "metadata": {},
     "output_type": "display_data"
    },
    {
     "name": "stderr",
     "output_type": "stream",
     "text": [
      "Training XGBoost Models:  69%|██████▉   | 33/48 [57:05<16:20, 65.37s/it]2025/09/18 15:19:58 WARNING mlflow.models.model: `artifact_path` is deprecated. Please use `name` instead.\n"
     ]
    },
    {
     "data": {
      "application/vnd.jupyter.widget-view+json": {
       "model_id": "1f1e3958c9d849e48ca4401e516745b1",
       "version_major": 2,
       "version_minor": 0
      },
      "text/plain": [
       "Downloading artifacts:   0%|          | 0/7 [00:00<?, ?it/s]"
      ]
     },
     "metadata": {},
     "output_type": "display_data"
    },
    {
     "name": "stderr",
     "output_type": "stream",
     "text": [
      "Training XGBoost Models:  71%|███████   | 34/48 [57:58<14:21, 61.54s/it]2025/09/18 15:21:11 WARNING mlflow.models.model: `artifact_path` is deprecated. Please use `name` instead.\n"
     ]
    },
    {
     "data": {
      "application/vnd.jupyter.widget-view+json": {
       "model_id": "bd6f160d12c94da6a262e51a185c3b74",
       "version_major": 2,
       "version_minor": 0
      },
      "text/plain": [
       "Downloading artifacts:   0%|          | 0/7 [00:00<?, ?it/s]"
      ]
     },
     "metadata": {},
     "output_type": "display_data"
    },
    {
     "name": "stderr",
     "output_type": "stream",
     "text": [
      "Training XGBoost Models:  73%|███████▎  | 35/48 [59:13<14:12, 65.59s/it]2025/09/18 15:22:27 WARNING mlflow.models.model: `artifact_path` is deprecated. Please use `name` instead.\n"
     ]
    },
    {
     "data": {
      "application/vnd.jupyter.widget-view+json": {
       "model_id": "264067cb7b1c48b390af99d13de7d751",
       "version_major": 2,
       "version_minor": 0
      },
      "text/plain": [
       "Downloading artifacts:   0%|          | 0/7 [00:00<?, ?it/s]"
      ]
     },
     "metadata": {},
     "output_type": "display_data"
    },
    {
     "name": "stderr",
     "output_type": "stream",
     "text": [
      "Training XGBoost Models:  75%|███████▌  | 36/48 [1:00:29<13:47, 68.96s/it]2025/09/18 15:24:24 WARNING mlflow.models.model: `artifact_path` is deprecated. Please use `name` instead.\n"
     ]
    },
    {
     "data": {
      "application/vnd.jupyter.widget-view+json": {
       "model_id": "91fb5b0606734ad092ecd4c3e031a796",
       "version_major": 2,
       "version_minor": 0
      },
      "text/plain": [
       "Downloading artifacts:   0%|          | 0/7 [00:00<?, ?it/s]"
      ]
     },
     "metadata": {},
     "output_type": "display_data"
    },
    {
     "name": "stderr",
     "output_type": "stream",
     "text": [
      "Training XGBoost Models:  77%|███████▋  | 37/48 [1:02:25<15:10, 82.81s/it]2025/09/18 15:26:16 WARNING mlflow.models.model: `artifact_path` is deprecated. Please use `name` instead.\n"
     ]
    },
    {
     "data": {
      "application/vnd.jupyter.widget-view+json": {
       "model_id": "0c70fde33a684afabe60d8a74c982db7",
       "version_major": 2,
       "version_minor": 0
      },
      "text/plain": [
       "Downloading artifacts:   0%|          | 0/7 [00:00<?, ?it/s]"
      ]
     },
     "metadata": {},
     "output_type": "display_data"
    },
    {
     "name": "stderr",
     "output_type": "stream",
     "text": [
      "Training XGBoost Models:  79%|███████▉  | 38/48 [1:04:17<15:15, 91.56s/it]2025/09/18 15:28:41 WARNING mlflow.models.model: `artifact_path` is deprecated. Please use `name` instead.\n"
     ]
    },
    {
     "data": {
      "application/vnd.jupyter.widget-view+json": {
       "model_id": "2b4557c7fc7c41628233b666f7c81ab7",
       "version_major": 2,
       "version_minor": 0
      },
      "text/plain": [
       "Downloading artifacts:   0%|          | 0/7 [00:00<?, ?it/s]"
      ]
     },
     "metadata": {},
     "output_type": "display_data"
    },
    {
     "name": "stderr",
     "output_type": "stream",
     "text": [
      "Training XGBoost Models:  81%|████████▏ | 39/48 [1:06:42<16:10, 107.81s/it]2025/09/18 15:31:07 WARNING mlflow.models.model: `artifact_path` is deprecated. Please use `name` instead.\n"
     ]
    },
    {
     "data": {
      "application/vnd.jupyter.widget-view+json": {
       "model_id": "61b2ead267ca48d5be7733461673a560",
       "version_major": 2,
       "version_minor": 0
      },
      "text/plain": [
       "Downloading artifacts:   0%|          | 0/7 [00:00<?, ?it/s]"
      ]
     },
     "metadata": {},
     "output_type": "display_data"
    },
    {
     "name": "stderr",
     "output_type": "stream",
     "text": [
      "Training XGBoost Models:  83%|████████▎ | 40/48 [1:09:07<15:51, 118.94s/it]2025/09/18 15:32:50 WARNING mlflow.models.model: `artifact_path` is deprecated. Please use `name` instead.\n"
     ]
    },
    {
     "data": {
      "application/vnd.jupyter.widget-view+json": {
       "model_id": "8ac8ebbf5d1144a2abe90fa32f889b2d",
       "version_major": 2,
       "version_minor": 0
      },
      "text/plain": [
       "Downloading artifacts:   0%|          | 0/7 [00:00<?, ?it/s]"
      ]
     },
     "metadata": {},
     "output_type": "display_data"
    },
    {
     "name": "stderr",
     "output_type": "stream",
     "text": [
      "Training XGBoost Models:  85%|████████▌ | 41/48 [1:10:56<13:30, 115.76s/it]2025/09/18 15:34:59 WARNING mlflow.models.model: `artifact_path` is deprecated. Please use `name` instead.\n"
     ]
    },
    {
     "data": {
      "application/vnd.jupyter.widget-view+json": {
       "model_id": "c8efa76a7e1e4d349596137877372936",
       "version_major": 2,
       "version_minor": 0
      },
      "text/plain": [
       "Downloading artifacts:   0%|          | 0/7 [00:00<?, ?it/s]"
      ]
     },
     "metadata": {},
     "output_type": "display_data"
    },
    {
     "name": "stderr",
     "output_type": "stream",
     "text": [
      "Training XGBoost Models:  88%|████████▊ | 42/48 [1:13:06<12:00, 120.12s/it]2025/09/18 15:37:13 WARNING mlflow.models.model: `artifact_path` is deprecated. Please use `name` instead.\n"
     ]
    },
    {
     "data": {
      "application/vnd.jupyter.widget-view+json": {
       "model_id": "503c1147e4274e719a368eacead2ea1f",
       "version_major": 2,
       "version_minor": 0
      },
      "text/plain": [
       "Downloading artifacts:   0%|          | 0/7 [00:00<?, ?it/s]"
      ]
     },
     "metadata": {},
     "output_type": "display_data"
    },
    {
     "name": "stderr",
     "output_type": "stream",
     "text": [
      "Training XGBoost Models:  90%|████████▉ | 43/48 [1:15:14<10:12, 122.51s/it]2025/09/18 15:39:53 WARNING mlflow.models.model: `artifact_path` is deprecated. Please use `name` instead.\n"
     ]
    },
    {
     "data": {
      "application/vnd.jupyter.widget-view+json": {
       "model_id": "ff81333cd2db47ad8909fc1eec2d70cd",
       "version_major": 2,
       "version_minor": 0
      },
      "text/plain": [
       "Downloading artifacts:   0%|          | 0/7 [00:00<?, ?it/s]"
      ]
     },
     "metadata": {},
     "output_type": "display_data"
    },
    {
     "name": "stderr",
     "output_type": "stream",
     "text": [
      "Training XGBoost Models:  92%|█████████▏| 44/48 [1:17:57<08:58, 134.66s/it]2025/09/18 15:42:41 WARNING mlflow.models.model: `artifact_path` is deprecated. Please use `name` instead.\n"
     ]
    },
    {
     "data": {
      "application/vnd.jupyter.widget-view+json": {
       "model_id": "b3f2865dab274fe4a4209b76f823dfa6",
       "version_major": 2,
       "version_minor": 0
      },
      "text/plain": [
       "Downloading artifacts:   0%|          | 0/7 [00:00<?, ?it/s]"
      ]
     },
     "metadata": {},
     "output_type": "display_data"
    },
    {
     "name": "stderr",
     "output_type": "stream",
     "text": [
      "Training XGBoost Models:  94%|█████████▍| 45/48 [1:20:42<07:11, 143.77s/it]2025/09/18 15:45:49 WARNING mlflow.models.model: `artifact_path` is deprecated. Please use `name` instead.\n"
     ]
    },
    {
     "data": {
      "application/vnd.jupyter.widget-view+json": {
       "model_id": "1761837aed354446bb15dc3999b4902c",
       "version_major": 2,
       "version_minor": 0
      },
      "text/plain": [
       "Downloading artifacts:   0%|          | 0/7 [00:00<?, ?it/s]"
      ]
     },
     "metadata": {},
     "output_type": "display_data"
    },
    {
     "name": "stderr",
     "output_type": "stream",
     "text": [
      "Training XGBoost Models:  96%|█████████▌| 46/48 [1:23:49<05:13, 156.68s/it]2025/09/18 15:48:59 WARNING mlflow.models.model: `artifact_path` is deprecated. Please use `name` instead.\n"
     ]
    },
    {
     "data": {
      "application/vnd.jupyter.widget-view+json": {
       "model_id": "5bad252de92442e681d78453280720c0",
       "version_major": 2,
       "version_minor": 0
      },
      "text/plain": [
       "Downloading artifacts:   0%|          | 0/7 [00:00<?, ?it/s]"
      ]
     },
     "metadata": {},
     "output_type": "display_data"
    },
    {
     "name": "stderr",
     "output_type": "stream",
     "text": [
      "Training XGBoost Models:  98%|█████████▊| 47/48 [1:26:59<02:46, 166.88s/it]"
     ]
    },
    {
     "name": "stdout",
     "output_type": "stream",
     "text": [
      "New best model found! F1 Score: 0.3169\n"
     ]
    },
    {
     "name": "stderr",
     "output_type": "stream",
     "text": [
      "2025/09/18 15:52:34 WARNING mlflow.models.model: `artifact_path` is deprecated. Please use `name` instead.\n"
     ]
    },
    {
     "data": {
      "application/vnd.jupyter.widget-view+json": {
       "model_id": "73f10561c81e454f8d97810385117cfe",
       "version_major": 2,
       "version_minor": 0
      },
      "text/plain": [
       "Downloading artifacts:   0%|          | 0/7 [00:00<?, ?it/s]"
      ]
     },
     "metadata": {},
     "output_type": "display_data"
    },
    {
     "name": "stderr",
     "output_type": "stream",
     "text": [
      "Training XGBoost Models: 100%|██████████| 48/48 [1:30:35<00:00, 113.24s/it]"
     ]
    },
    {
     "name": "stdout",
     "output_type": "stream",
     "text": [
      "\n",
      "--- XGBoost Hyperparameter Search Complete ---\n",
      "Best F1 Score: 0.3169\n",
      "Best Parameters: {'learning_rate': 0.1, 'max_depth': 20, 'n_estimators': 300, 'subsample': 0.7}\n",
      "Best Model Run ID: 839ba65290a346f692d8ebcf2fc02ec6\n",
      "MLflow tracking URI: file:./mlruns\n",
      "Experiment name: XGBoost with embeddings 2\n",
      "To view results, run: mlflow ui\n"
     ]
    },
    {
     "name": "stderr",
     "output_type": "stream",
     "text": [
      "\n"
     ]
    }
   ],
   "source": [
    "print(\"\\n--- Starting XGBoost Hyperparameter Search ---\")\n",
    "\n",
    "results_list_xgb = []\n",
    "best_f1_score = 0\n",
    "best_model = None\n",
    "best_params = None\n",
    "best_run_id = None\n",
    "\n",
    "for i, params in enumerate(tqdm(grid, desc=\"Training XGBoost Models\")):\n",
    "    run_name = f\"xgb_run_{i:03d}\"\n",
    "\n",
    "    # 1. Train and evaluate the XGBoost model\n",
    "    model, metrics = train_and_evaluate_xgb(params, X_train, y_train, X_test, y_test)\n",
    "\n",
    "    # 2. Log everything to MLflow for this run\n",
    "    # The refactored function now handles all MLflow logging\n",
    "    current_run_id = log_to_mlflow(\n",
    "        run_name=run_name,\n",
    "        params=params,\n",
    "        metrics=metrics,\n",
    "        model=model,\n",
    "        X_train_sample=X_train.head(),\n",
    "    )\n",
    "\n",
    "    # 3. Track the best model based on F1 score\n",
    "    if metrics[\"f1\"] > best_f1_score:\n",
    "        best_f1_score = metrics[\"f1\"]\n",
    "        best_model = model\n",
    "        best_params = params\n",
    "        best_run_id = current_run_id  # Use the run ID from the logging function\n",
    "        print(f\"New best model found! F1 Score: {best_f1_score:.4f}\")\n",
    "        # Tag the best run in MLflow\n",
    "        with mlflow.start_run(run_id=current_run_id):\n",
    "            mlflow.set_tag(\"best_model\", \"True\")\n",
    "\n",
    "    # 4. Store results for the final summary table\n",
    "    run_results = {\"run_name\": run_name, **params, **metrics}\n",
    "    results_list_xgb.append(run_results)\n",
    "\n",
    "print(\"\\n--- XGBoost Hyperparameter Search Complete ---\")\n",
    "print(f\"Best F1 Score: {best_f1_score:.4f}\")\n",
    "print(f\"Best Parameters: {best_params}\")\n",
    "print(f\"Best Model Run ID: {best_run_id}\")\n",
    "print(f\"MLflow tracking URI: {mlflow.get_tracking_uri()}\")\n",
    "print(f\"Experiment name: {experiment_name}\")\n",
    "print(\"To view results, run: mlflow ui\")\n"
   ]
  },
  {
   "cell_type": "code",
   "execution_count": 13,
   "id": "0c204df4",
   "metadata": {},
   "outputs": [
    {
     "name": "stdout",
     "output_type": "stream",
     "text": [
      "\n",
      "📈 XGBoost Results Summary Table:\n",
      "\n",
      "Results saved to: logs\\xgboost_results\\results_summary.csv\n",
      "Best model saved to: logs\\xgboost_results\\best_xgboost_model.pkl\n"
     ]
    },
    {
     "name": "stderr",
     "output_type": "stream",
     "text": [
      "Registered model 'XGBoost_Bug_Prediction_Embeddings' already exists. Creating a new version of this model...\n",
      "2025/09/18 15:52:55 WARNING mlflow.tracking._model_registry.fluent: Run with id 839ba65290a346f692d8ebcf2fc02ec6 has no artifacts at artifact path 'model', registering model based on models:/m-37fd0556206c48af95abf20b62fa1647 instead\n",
      "Created version '4' of model 'XGBoost_Bug_Prediction_Embeddings'.\n"
     ]
    },
    {
     "name": "stdout",
     "output_type": "stream",
     "text": [
      "Best model registered in MLflow Model Registry as: XGBoost_Bug_Prediction_Embeddings\n",
      "Best model info saved to: logs\\xgboost_results\\best_model_info.json\n",
      "\n",
      "🎯 Best Model Summary:\n",
      "F1 Score: 0.3169\n",
      "Parameters: {'learning_rate': 0.1, 'max_depth': 20, 'n_estimators': 300, 'subsample': 0.7}\n",
      "Run ID: 839ba65290a346f692d8ebcf2fc02ec6\n"
     ]
    },
    {
     "data": {
      "application/vnd.microsoft.datawrangler.viewer.v0+json": {
       "columns": [
        {
         "name": "index",
         "rawType": "int64",
         "type": "integer"
        },
        {
         "name": "run_name",
         "rawType": "object",
         "type": "string"
        },
        {
         "name": "learning_rate",
         "rawType": "float64",
         "type": "float"
        },
        {
         "name": "max_depth",
         "rawType": "float64",
         "type": "float"
        },
        {
         "name": "n_estimators",
         "rawType": "int64",
         "type": "integer"
        },
        {
         "name": "subsample",
         "rawType": "float64",
         "type": "float"
        },
        {
         "name": "accuracy",
         "rawType": "float64",
         "type": "float"
        },
        {
         "name": "precision",
         "rawType": "float64",
         "type": "float"
        },
        {
         "name": "recall",
         "rawType": "float64",
         "type": "float"
        },
        {
         "name": "f1",
         "rawType": "float64",
         "type": "float"
        },
        {
         "name": "roc_auc",
         "rawType": "float64",
         "type": "float"
        },
        {
         "name": "training_duration",
         "rawType": "float64",
         "type": "float"
        }
       ],
       "ref": "1e567587-b622-4de0-aa11-32c315cf73d1",
       "rows": [
        [
         "46",
         "xgb_run_046",
         "0.1",
         "20.0",
         "300",
         "0.7",
         "0.5001984914648671",
         "0.1931216931216931",
         "0.8821752265861027",
         "0.3168746608790016",
         "0.7141742655627786",
         "173.37682700157166"
        ],
        [
         "14",
         "xgb_run_014",
         "0.05",
         "10.0",
         "300",
         "0.7",
         "0.49146486701071856",
         "0.19115734720416125",
         "0.8882175226586103",
         "0.3146067415730337",
         "0.7124406954715917",
         "164.3024606704712"
        ],
        [
         "44",
         "xgb_run_044",
         "0.1",
         "20.0",
         "200",
         "0.7",
         "0.4982135768161969",
         "0.1912640635340834",
         "0.8731117824773413",
         "0.31378935939196523",
         "0.7133602953765941",
         "147.49383926391602"
        ],
        [
         "6",
         "xgb_run_006",
         "0.05",
         null,
         "300",
         "0.7",
         "0.5121079793568877",
         "0.19204389574759945",
         "0.8459214501510574",
         "0.31302403577417554",
         "0.7046717332110882",
         "62.66777729988098"
        ],
        [
         "27",
         "xgb_run_027",
         "0.1",
         null,
         "100",
         "1.0",
         "0.5113140134974196",
         "0.19135802469135801",
         "0.8429003021148036",
         "0.31190609278926773",
         "0.6982649110501113",
         "21.15904951095581"
        ],
        [
         "22",
         "xgb_run_022",
         "0.05",
         "20.0",
         "300",
         "0.7",
         "0.49861055974593094",
         "0.1901595744680851",
         "0.8640483383685801",
         "0.311716621253406",
         "0.7053918103138791",
         "246.4153130054474"
        ],
        [
         "4",
         "xgb_run_004",
         "0.05",
         null,
         "200",
         "0.7",
         "0.5160778086542279",
         "0.19123783031988872",
         "0.8308157099697885",
         "0.3109101187111362",
         "0.7026551030890825",
         "34.307451009750366"
        ],
        [
         "40",
         "xgb_run_040",
         "0.1",
         "20.0",
         "50",
         "0.7",
         "0.49027391822151645",
         "0.18876551273677336",
         "0.8731117824773413",
         "0.3104189044038668",
         "0.7026682205051449",
         "85.86725735664368"
        ],
        [
         "47",
         "xgb_run_047",
         "0.1",
         "20.0",
         "300",
         "1.0",
         "0.5109170305676856",
         "0.1899518238128011",
         "0.8338368580060423",
         "0.3094170403587444",
         "0.6954101470807535",
         "197.8104977607727"
        ],
        [
         "30",
         "xgb_run_030",
         "0.1",
         null,
         "300",
         "0.7",
         "0.5037713378324732",
         "0.18931710615280595",
         "0.8459214501510574",
         "0.30939226519337015",
         "0.7014600374467709",
         "56.40729522705078"
        ],
        [
         "42",
         "xgb_run_042",
         "0.1",
         "20.0",
         "100",
         "0.7",
         "0.4982135768161969",
         "0.1887925283522348",
         "0.8549848942598187",
         "0.3092896174863388",
         "0.7088161462964702",
         "110.2554726600647"
        ],
        [
         "2",
         "xgb_run_002",
         "0.05",
         null,
         "100",
         "0.7",
         "0.5105200476379516",
         "0.18982118294360384",
         "0.8338368580060423",
         "0.3092436974789916",
         "0.6947874150129517",
         "18.44745135307312"
        ],
        [
         "25",
         "xgb_run_025",
         "0.1",
         null,
         "50",
         "1.0",
         "0.5117109964271537",
         "0.18978605935127674",
         "0.8308157099697885",
         "0.3089887640449438",
         "0.6856645973367502",
         "11.159835577011108"
        ],
        [
         "12",
         "xgb_run_012",
         "0.05",
         "10.0",
         "200",
         "0.7",
         "0.48670107185391026",
         "0.18766233766233767",
         "0.8731117824773413",
         "0.3089257081774452",
         "0.7078454575078567",
         "110.74415588378906"
        ],
        [
         "20",
         "xgb_run_020",
         "0.05",
         "20.0",
         "200",
         "0.7",
         "0.49146486701071856",
         "0.1875",
         "0.8610271903323263",
         "0.3079416531604538",
         "0.7033330663824099",
         "205.78916478157043"
        ],
        [
         "38",
         "xgb_run_038",
         "0.1",
         "10.0",
         "300",
         "0.7",
         "0.4910678840809845",
         "0.1873767258382643",
         "0.8610271903323263",
         "0.3077753779697624",
         "0.7050866577928496",
         "126.91578102111816"
        ],
        [
         "29",
         "xgb_run_029",
         "0.1",
         null,
         "200",
         "1.0",
         "0.49186184994045257",
         "0.1872116018457482",
         "0.8580060422960725",
         "0.30735930735930733",
         "0.6976994813787922",
         "35.991400480270386"
        ],
        [
         "37",
         "xgb_run_037",
         "0.1",
         "10.0",
         "200",
         "1.0",
         "0.5013894402540691",
         "0.18771100607697502",
         "0.8398791540785498",
         "0.3068432671081678",
         "0.6958968722556985",
         "94.9008276462555"
        ],
        [
         "31",
         "xgb_run_031",
         "0.1",
         null,
         "300",
         "1.0",
         "0.49344978165938863",
         "0.18687872763419483",
         "0.851963746223565",
         "0.3065217391304348",
         "0.6926913900042528",
         "53.89806246757507"
        ],
        [
         "28",
         "xgb_run_028",
         "0.1",
         null,
         "200",
         "0.7",
         "0.5077411671298134",
         "0.1880576527110501",
         "0.8277945619335347",
         "0.30648769574944074",
         "0.698925614585462",
         "40.73696994781494"
        ],
        [
         "36",
         "xgb_run_036",
         "0.1",
         "10.0",
         "200",
         "0.7",
         "0.4855101230647082",
         "0.18566775244299674",
         "0.8610271903323263",
         "0.3054662379421222",
         "0.700281541172117",
         "97.9128999710083"
        ],
        [
         "39",
         "xgb_run_039",
         "0.1",
         "10.0",
         "300",
         "1.0",
         "0.4966256450972608",
         "0.18620227729403885",
         "0.8398791540785498",
         "0.3048245614035088",
         "0.6968420166025063",
         "127.87344098091125"
        ],
        [
         "18",
         "xgb_run_018",
         "0.05",
         "20.0",
         "100",
         "0.7",
         "0.4874950377133783",
         "0.1854521625163827",
         "0.8549848942598187",
         "0.30479267635971996",
         "0.692450443782897",
         "141.91324973106384"
        ],
        [
         "10",
         "xgb_run_010",
         "0.05",
         "10.0",
         "100",
         "0.7",
         "0.4910678840809845",
         "0.18572372769332451",
         "0.8489425981873112",
         "0.3047722342733189",
         "0.7027110247049272",
         "60.57261109352112"
        ],
        [
         "13",
         "xgb_run_013",
         "0.05",
         "10.0",
         "200",
         "1.0",
         "0.4978165938864629",
         "0.18615591397849462",
         "0.8368580060422961",
         "0.3045629466739967",
         "0.6851447334264901",
         "124.5539915561676"
        ],
        [
         "15",
         "xgb_run_015",
         "0.05",
         "10.0",
         "300",
         "1.0",
         "0.4962286621675268",
         "0.18565683646112602",
         "0.8368580060422961",
         "0.303894679100384",
         "0.6881210060920041",
         "167.65007710456848"
        ],
        [
         "26",
         "xgb_run_026",
         "0.1",
         null,
         "100",
         "0.7",
         "0.5132989281460897",
         "0.1868439468159552",
         "0.8066465256797583",
         "0.3034090909090909",
         "0.6980481284899229",
         "21.39245843887329"
        ],
        [
         "7",
         "xgb_run_007",
         "0.05",
         null,
         "300",
         "1.0",
         "0.5041683207622072",
         "0.18604651162790697",
         "0.8217522658610272",
         "0.3034021193530396",
         "0.6859621555642699",
         "64.60975813865662"
        ],
        [
         "5",
         "xgb_run_005",
         "0.05",
         null,
         "200",
         "1.0",
         "0.5117109964271537",
         "0.18632240055826937",
         "0.8066465256797583",
         "0.30272108843537415",
         "0.6857702270555681",
         "34.88870143890381"
        ],
        [
         "35",
         "xgb_run_035",
         "0.1",
         "10.0",
         "100",
         "1.0",
         "0.4970226280269948",
         "0.18506056527590847",
         "0.8308157099697885",
         "0.3026967528893781",
         "0.6913941465947189",
         "57.159305810928345"
        ],
        [
         "45",
         "xgb_run_045",
         "0.1",
         "20.0",
         "200",
         "1.0",
         "0.5041683207622072",
         "0.18561643835616437",
         "0.8187311178247734",
         "0.3026242322724735",
         "0.6922585152741955",
         "169.53414916992188"
        ],
        [
         "21",
         "xgb_run_021",
         "0.05",
         "20.0",
         "200",
         "1.0",
         "0.5005954743946011",
         "0.1849082256968049",
         "0.8217522658610272",
         "0.3018867924528302",
         "0.6934604848196976",
         "228.45240926742554"
        ],
        [
         "23",
         "xgb_run_023",
         "0.05",
         "20.0",
         "300",
         "1.0",
         "0.5061532354108773",
         "0.1849551414768806",
         "0.8096676737160121",
         "0.30112359550561796",
         "0.6981537582087409",
         "276.6339211463928"
        ],
        [
         "34",
         "xgb_run_034",
         "0.1",
         "10.0",
         "100",
         "0.7",
         "0.4827312425565701",
         "0.18276762402088773",
         "0.8459214501510574",
         "0.30059044551798175",
         "0.6980508900511992",
         "55.9440495967865"
        ],
        [
         "19",
         "xgb_run_019",
         "0.05",
         "20.0",
         "100",
         "1.0",
         "0.49305279872965463",
         "0.18340026773761714",
         "0.8277945619335347",
         "0.30027397260273975",
         "0.6860070309350095",
         "167.7420678138733"
        ],
        [
         "43",
         "xgb_run_043",
         "0.1",
         "20.0",
         "100",
         "1.0",
         "0.4982135768161969",
         "0.18329938900203666",
         "0.8157099697885196",
         "0.29933481152993346",
         "0.687300822392948",
         "142.09657096862793"
        ],
        [
         "3",
         "xgb_run_003",
         "0.05",
         null,
         "100",
         "1.0",
         "0.5117109964271537",
         "0.18411806043569923",
         "0.7915407854984894",
         "0.29874572405929306",
         "0.6786315911563762",
         "17.582682371139526"
        ],
        [
         "8",
         "xgb_run_008",
         "0.05",
         "10.0",
         "50",
         "0.7",
         "0.47876141325922983",
         "0.18116883116883117",
         "0.8429003021148036",
         "0.2982362373062533",
         "0.6901983905620882",
         "38.194390058517456"
        ],
        [
         "16",
         "xgb_run_016",
         "0.05",
         "20.0",
         "50",
         "0.7",
         "0.46764589122667727",
         "0.17997465145754118",
         "0.8580060422960725",
         "0.2975379779989523",
         "0.6820635214324771",
         "104.32989478111267"
        ],
        [
         "32",
         "xgb_run_032",
         "0.1",
         "10.0",
         "50",
         "0.7",
         "0.49305279872965463",
         "0.18083670715249664",
         "0.8096676737160121",
         "0.29564258135686705",
         "0.6855292808342124",
         "33.286847829818726"
        ],
        [
         "11",
         "xgb_run_011",
         "0.05",
         "10.0",
         "100",
         "1.0",
         "0.4886859865025804",
         "0.18036072144288579",
         "0.8157099697885196",
         "0.29540481400437635",
         "0.6741109153471005",
         "71.4098436832428"
        ],
        [
         "33",
         "xgb_run_033",
         "0.1",
         "10.0",
         "50",
         "1.0",
         "0.4890829694323144",
         "0.18005354752342703",
         "0.8126888217522659",
         "0.2947945205479452",
         "0.6806516732299773",
         "36.68342041969299"
        ],
        [
         "0",
         "xgb_run_000",
         "0.05",
         null,
         "50",
         "0.7",
         "0.4890829694323144",
         "0.18005354752342703",
         "0.8126888217522659",
         "0.2947945205479452",
         "0.6868106452664078",
         "17.47177028656006"
        ],
        [
         "41",
         "xgb_run_041",
         "0.1",
         "20.0",
         "50",
         "1.0",
         "0.4874950377133783",
         "0.17914438502673796",
         "0.8096676737160121",
         "0.29337712096332785",
         "0.6767392312918031",
         "106.73040127754211"
        ],
        [
         "24",
         "xgb_run_024",
         "0.1",
         null,
         "50",
         "0.7",
         "0.5113140134974196",
         "0.18039772727272727",
         "0.7673716012084593",
         "0.29212190914318575",
         "0.6927680233296698",
         "12.387425661087036"
        ],
        [
         "1",
         "xgb_run_001",
         "0.05",
         null,
         "50",
         "1.0",
         "0.4890829694323144",
         "0.17833109017496634",
         "0.8006042296072508",
         "0.29168959823885526",
         "0.6786267584241427",
         "10.692075729370117"
        ],
        [
         "17",
         "xgb_run_017",
         "0.05",
         "20.0",
         "50",
         "1.0",
         "0.46248511314013496",
         "0.17606079797340088",
         "0.8398791540785498",
         "0.29109947643979056",
         "0.6788842740131561",
         "122.06913161277771"
        ],
        [
         "9",
         "xgb_run_009",
         "0.05",
         "10.0",
         "50",
         "1.0",
         "0.4668519253672092",
         "0.1735483870967742",
         "0.8126888217522659",
         "0.2860180754917597",
         "0.6643784830191597",
         "40.73656392097473"
        ]
       ],
       "shape": {
        "columns": 11,
        "rows": 48
       }
      },
      "text/html": [
       "<div>\n",
       "<style scoped>\n",
       "    .dataframe tbody tr th:only-of-type {\n",
       "        vertical-align: middle;\n",
       "    }\n",
       "\n",
       "    .dataframe tbody tr th {\n",
       "        vertical-align: top;\n",
       "    }\n",
       "\n",
       "    .dataframe thead th {\n",
       "        text-align: right;\n",
       "    }\n",
       "</style>\n",
       "<table border=\"1\" class=\"dataframe\">\n",
       "  <thead>\n",
       "    <tr style=\"text-align: right;\">\n",
       "      <th></th>\n",
       "      <th>run_name</th>\n",
       "      <th>learning_rate</th>\n",
       "      <th>max_depth</th>\n",
       "      <th>n_estimators</th>\n",
       "      <th>subsample</th>\n",
       "      <th>accuracy</th>\n",
       "      <th>precision</th>\n",
       "      <th>recall</th>\n",
       "      <th>f1</th>\n",
       "      <th>roc_auc</th>\n",
       "      <th>training_duration</th>\n",
       "    </tr>\n",
       "  </thead>\n",
       "  <tbody>\n",
       "    <tr>\n",
       "      <th>46</th>\n",
       "      <td>xgb_run_046</td>\n",
       "      <td>0.10</td>\n",
       "      <td>20.0</td>\n",
       "      <td>300</td>\n",
       "      <td>0.7</td>\n",
       "      <td>0.500198</td>\n",
       "      <td>0.193122</td>\n",
       "      <td>0.882175</td>\n",
       "      <td>0.316875</td>\n",
       "      <td>0.714174</td>\n",
       "      <td>173.376827</td>\n",
       "    </tr>\n",
       "    <tr>\n",
       "      <th>14</th>\n",
       "      <td>xgb_run_014</td>\n",
       "      <td>0.05</td>\n",
       "      <td>10.0</td>\n",
       "      <td>300</td>\n",
       "      <td>0.7</td>\n",
       "      <td>0.491465</td>\n",
       "      <td>0.191157</td>\n",
       "      <td>0.888218</td>\n",
       "      <td>0.314607</td>\n",
       "      <td>0.712441</td>\n",
       "      <td>164.302461</td>\n",
       "    </tr>\n",
       "    <tr>\n",
       "      <th>44</th>\n",
       "      <td>xgb_run_044</td>\n",
       "      <td>0.10</td>\n",
       "      <td>20.0</td>\n",
       "      <td>200</td>\n",
       "      <td>0.7</td>\n",
       "      <td>0.498214</td>\n",
       "      <td>0.191264</td>\n",
       "      <td>0.873112</td>\n",
       "      <td>0.313789</td>\n",
       "      <td>0.713360</td>\n",
       "      <td>147.493839</td>\n",
       "    </tr>\n",
       "    <tr>\n",
       "      <th>6</th>\n",
       "      <td>xgb_run_006</td>\n",
       "      <td>0.05</td>\n",
       "      <td>NaN</td>\n",
       "      <td>300</td>\n",
       "      <td>0.7</td>\n",
       "      <td>0.512108</td>\n",
       "      <td>0.192044</td>\n",
       "      <td>0.845921</td>\n",
       "      <td>0.313024</td>\n",
       "      <td>0.704672</td>\n",
       "      <td>62.667777</td>\n",
       "    </tr>\n",
       "    <tr>\n",
       "      <th>27</th>\n",
       "      <td>xgb_run_027</td>\n",
       "      <td>0.10</td>\n",
       "      <td>NaN</td>\n",
       "      <td>100</td>\n",
       "      <td>1.0</td>\n",
       "      <td>0.511314</td>\n",
       "      <td>0.191358</td>\n",
       "      <td>0.842900</td>\n",
       "      <td>0.311906</td>\n",
       "      <td>0.698265</td>\n",
       "      <td>21.159050</td>\n",
       "    </tr>\n",
       "    <tr>\n",
       "      <th>22</th>\n",
       "      <td>xgb_run_022</td>\n",
       "      <td>0.05</td>\n",
       "      <td>20.0</td>\n",
       "      <td>300</td>\n",
       "      <td>0.7</td>\n",
       "      <td>0.498611</td>\n",
       "      <td>0.190160</td>\n",
       "      <td>0.864048</td>\n",
       "      <td>0.311717</td>\n",
       "      <td>0.705392</td>\n",
       "      <td>246.415313</td>\n",
       "    </tr>\n",
       "    <tr>\n",
       "      <th>4</th>\n",
       "      <td>xgb_run_004</td>\n",
       "      <td>0.05</td>\n",
       "      <td>NaN</td>\n",
       "      <td>200</td>\n",
       "      <td>0.7</td>\n",
       "      <td>0.516078</td>\n",
       "      <td>0.191238</td>\n",
       "      <td>0.830816</td>\n",
       "      <td>0.310910</td>\n",
       "      <td>0.702655</td>\n",
       "      <td>34.307451</td>\n",
       "    </tr>\n",
       "    <tr>\n",
       "      <th>40</th>\n",
       "      <td>xgb_run_040</td>\n",
       "      <td>0.10</td>\n",
       "      <td>20.0</td>\n",
       "      <td>50</td>\n",
       "      <td>0.7</td>\n",
       "      <td>0.490274</td>\n",
       "      <td>0.188766</td>\n",
       "      <td>0.873112</td>\n",
       "      <td>0.310419</td>\n",
       "      <td>0.702668</td>\n",
       "      <td>85.867257</td>\n",
       "    </tr>\n",
       "    <tr>\n",
       "      <th>47</th>\n",
       "      <td>xgb_run_047</td>\n",
       "      <td>0.10</td>\n",
       "      <td>20.0</td>\n",
       "      <td>300</td>\n",
       "      <td>1.0</td>\n",
       "      <td>0.510917</td>\n",
       "      <td>0.189952</td>\n",
       "      <td>0.833837</td>\n",
       "      <td>0.309417</td>\n",
       "      <td>0.695410</td>\n",
       "      <td>197.810498</td>\n",
       "    </tr>\n",
       "    <tr>\n",
       "      <th>30</th>\n",
       "      <td>xgb_run_030</td>\n",
       "      <td>0.10</td>\n",
       "      <td>NaN</td>\n",
       "      <td>300</td>\n",
       "      <td>0.7</td>\n",
       "      <td>0.503771</td>\n",
       "      <td>0.189317</td>\n",
       "      <td>0.845921</td>\n",
       "      <td>0.309392</td>\n",
       "      <td>0.701460</td>\n",
       "      <td>56.407295</td>\n",
       "    </tr>\n",
       "    <tr>\n",
       "      <th>42</th>\n",
       "      <td>xgb_run_042</td>\n",
       "      <td>0.10</td>\n",
       "      <td>20.0</td>\n",
       "      <td>100</td>\n",
       "      <td>0.7</td>\n",
       "      <td>0.498214</td>\n",
       "      <td>0.188793</td>\n",
       "      <td>0.854985</td>\n",
       "      <td>0.309290</td>\n",
       "      <td>0.708816</td>\n",
       "      <td>110.255473</td>\n",
       "    </tr>\n",
       "    <tr>\n",
       "      <th>2</th>\n",
       "      <td>xgb_run_002</td>\n",
       "      <td>0.05</td>\n",
       "      <td>NaN</td>\n",
       "      <td>100</td>\n",
       "      <td>0.7</td>\n",
       "      <td>0.510520</td>\n",
       "      <td>0.189821</td>\n",
       "      <td>0.833837</td>\n",
       "      <td>0.309244</td>\n",
       "      <td>0.694787</td>\n",
       "      <td>18.447451</td>\n",
       "    </tr>\n",
       "    <tr>\n",
       "      <th>25</th>\n",
       "      <td>xgb_run_025</td>\n",
       "      <td>0.10</td>\n",
       "      <td>NaN</td>\n",
       "      <td>50</td>\n",
       "      <td>1.0</td>\n",
       "      <td>0.511711</td>\n",
       "      <td>0.189786</td>\n",
       "      <td>0.830816</td>\n",
       "      <td>0.308989</td>\n",
       "      <td>0.685665</td>\n",
       "      <td>11.159836</td>\n",
       "    </tr>\n",
       "    <tr>\n",
       "      <th>12</th>\n",
       "      <td>xgb_run_012</td>\n",
       "      <td>0.05</td>\n",
       "      <td>10.0</td>\n",
       "      <td>200</td>\n",
       "      <td>0.7</td>\n",
       "      <td>0.486701</td>\n",
       "      <td>0.187662</td>\n",
       "      <td>0.873112</td>\n",
       "      <td>0.308926</td>\n",
       "      <td>0.707845</td>\n",
       "      <td>110.744156</td>\n",
       "    </tr>\n",
       "    <tr>\n",
       "      <th>20</th>\n",
       "      <td>xgb_run_020</td>\n",
       "      <td>0.05</td>\n",
       "      <td>20.0</td>\n",
       "      <td>200</td>\n",
       "      <td>0.7</td>\n",
       "      <td>0.491465</td>\n",
       "      <td>0.187500</td>\n",
       "      <td>0.861027</td>\n",
       "      <td>0.307942</td>\n",
       "      <td>0.703333</td>\n",
       "      <td>205.789165</td>\n",
       "    </tr>\n",
       "    <tr>\n",
       "      <th>38</th>\n",
       "      <td>xgb_run_038</td>\n",
       "      <td>0.10</td>\n",
       "      <td>10.0</td>\n",
       "      <td>300</td>\n",
       "      <td>0.7</td>\n",
       "      <td>0.491068</td>\n",
       "      <td>0.187377</td>\n",
       "      <td>0.861027</td>\n",
       "      <td>0.307775</td>\n",
       "      <td>0.705087</td>\n",
       "      <td>126.915781</td>\n",
       "    </tr>\n",
       "    <tr>\n",
       "      <th>29</th>\n",
       "      <td>xgb_run_029</td>\n",
       "      <td>0.10</td>\n",
       "      <td>NaN</td>\n",
       "      <td>200</td>\n",
       "      <td>1.0</td>\n",
       "      <td>0.491862</td>\n",
       "      <td>0.187212</td>\n",
       "      <td>0.858006</td>\n",
       "      <td>0.307359</td>\n",
       "      <td>0.697699</td>\n",
       "      <td>35.991400</td>\n",
       "    </tr>\n",
       "    <tr>\n",
       "      <th>37</th>\n",
       "      <td>xgb_run_037</td>\n",
       "      <td>0.10</td>\n",
       "      <td>10.0</td>\n",
       "      <td>200</td>\n",
       "      <td>1.0</td>\n",
       "      <td>0.501389</td>\n",
       "      <td>0.187711</td>\n",
       "      <td>0.839879</td>\n",
       "      <td>0.306843</td>\n",
       "      <td>0.695897</td>\n",
       "      <td>94.900828</td>\n",
       "    </tr>\n",
       "    <tr>\n",
       "      <th>31</th>\n",
       "      <td>xgb_run_031</td>\n",
       "      <td>0.10</td>\n",
       "      <td>NaN</td>\n",
       "      <td>300</td>\n",
       "      <td>1.0</td>\n",
       "      <td>0.493450</td>\n",
       "      <td>0.186879</td>\n",
       "      <td>0.851964</td>\n",
       "      <td>0.306522</td>\n",
       "      <td>0.692691</td>\n",
       "      <td>53.898062</td>\n",
       "    </tr>\n",
       "    <tr>\n",
       "      <th>28</th>\n",
       "      <td>xgb_run_028</td>\n",
       "      <td>0.10</td>\n",
       "      <td>NaN</td>\n",
       "      <td>200</td>\n",
       "      <td>0.7</td>\n",
       "      <td>0.507741</td>\n",
       "      <td>0.188058</td>\n",
       "      <td>0.827795</td>\n",
       "      <td>0.306488</td>\n",
       "      <td>0.698926</td>\n",
       "      <td>40.736970</td>\n",
       "    </tr>\n",
       "    <tr>\n",
       "      <th>36</th>\n",
       "      <td>xgb_run_036</td>\n",
       "      <td>0.10</td>\n",
       "      <td>10.0</td>\n",
       "      <td>200</td>\n",
       "      <td>0.7</td>\n",
       "      <td>0.485510</td>\n",
       "      <td>0.185668</td>\n",
       "      <td>0.861027</td>\n",
       "      <td>0.305466</td>\n",
       "      <td>0.700282</td>\n",
       "      <td>97.912900</td>\n",
       "    </tr>\n",
       "    <tr>\n",
       "      <th>39</th>\n",
       "      <td>xgb_run_039</td>\n",
       "      <td>0.10</td>\n",
       "      <td>10.0</td>\n",
       "      <td>300</td>\n",
       "      <td>1.0</td>\n",
       "      <td>0.496626</td>\n",
       "      <td>0.186202</td>\n",
       "      <td>0.839879</td>\n",
       "      <td>0.304825</td>\n",
       "      <td>0.696842</td>\n",
       "      <td>127.873441</td>\n",
       "    </tr>\n",
       "    <tr>\n",
       "      <th>18</th>\n",
       "      <td>xgb_run_018</td>\n",
       "      <td>0.05</td>\n",
       "      <td>20.0</td>\n",
       "      <td>100</td>\n",
       "      <td>0.7</td>\n",
       "      <td>0.487495</td>\n",
       "      <td>0.185452</td>\n",
       "      <td>0.854985</td>\n",
       "      <td>0.304793</td>\n",
       "      <td>0.692450</td>\n",
       "      <td>141.913250</td>\n",
       "    </tr>\n",
       "    <tr>\n",
       "      <th>10</th>\n",
       "      <td>xgb_run_010</td>\n",
       "      <td>0.05</td>\n",
       "      <td>10.0</td>\n",
       "      <td>100</td>\n",
       "      <td>0.7</td>\n",
       "      <td>0.491068</td>\n",
       "      <td>0.185724</td>\n",
       "      <td>0.848943</td>\n",
       "      <td>0.304772</td>\n",
       "      <td>0.702711</td>\n",
       "      <td>60.572611</td>\n",
       "    </tr>\n",
       "    <tr>\n",
       "      <th>13</th>\n",
       "      <td>xgb_run_013</td>\n",
       "      <td>0.05</td>\n",
       "      <td>10.0</td>\n",
       "      <td>200</td>\n",
       "      <td>1.0</td>\n",
       "      <td>0.497817</td>\n",
       "      <td>0.186156</td>\n",
       "      <td>0.836858</td>\n",
       "      <td>0.304563</td>\n",
       "      <td>0.685145</td>\n",
       "      <td>124.553992</td>\n",
       "    </tr>\n",
       "    <tr>\n",
       "      <th>15</th>\n",
       "      <td>xgb_run_015</td>\n",
       "      <td>0.05</td>\n",
       "      <td>10.0</td>\n",
       "      <td>300</td>\n",
       "      <td>1.0</td>\n",
       "      <td>0.496229</td>\n",
       "      <td>0.185657</td>\n",
       "      <td>0.836858</td>\n",
       "      <td>0.303895</td>\n",
       "      <td>0.688121</td>\n",
       "      <td>167.650077</td>\n",
       "    </tr>\n",
       "    <tr>\n",
       "      <th>26</th>\n",
       "      <td>xgb_run_026</td>\n",
       "      <td>0.10</td>\n",
       "      <td>NaN</td>\n",
       "      <td>100</td>\n",
       "      <td>0.7</td>\n",
       "      <td>0.513299</td>\n",
       "      <td>0.186844</td>\n",
       "      <td>0.806647</td>\n",
       "      <td>0.303409</td>\n",
       "      <td>0.698048</td>\n",
       "      <td>21.392458</td>\n",
       "    </tr>\n",
       "    <tr>\n",
       "      <th>7</th>\n",
       "      <td>xgb_run_007</td>\n",
       "      <td>0.05</td>\n",
       "      <td>NaN</td>\n",
       "      <td>300</td>\n",
       "      <td>1.0</td>\n",
       "      <td>0.504168</td>\n",
       "      <td>0.186047</td>\n",
       "      <td>0.821752</td>\n",
       "      <td>0.303402</td>\n",
       "      <td>0.685962</td>\n",
       "      <td>64.609758</td>\n",
       "    </tr>\n",
       "    <tr>\n",
       "      <th>5</th>\n",
       "      <td>xgb_run_005</td>\n",
       "      <td>0.05</td>\n",
       "      <td>NaN</td>\n",
       "      <td>200</td>\n",
       "      <td>1.0</td>\n",
       "      <td>0.511711</td>\n",
       "      <td>0.186322</td>\n",
       "      <td>0.806647</td>\n",
       "      <td>0.302721</td>\n",
       "      <td>0.685770</td>\n",
       "      <td>34.888701</td>\n",
       "    </tr>\n",
       "    <tr>\n",
       "      <th>35</th>\n",
       "      <td>xgb_run_035</td>\n",
       "      <td>0.10</td>\n",
       "      <td>10.0</td>\n",
       "      <td>100</td>\n",
       "      <td>1.0</td>\n",
       "      <td>0.497023</td>\n",
       "      <td>0.185061</td>\n",
       "      <td>0.830816</td>\n",
       "      <td>0.302697</td>\n",
       "      <td>0.691394</td>\n",
       "      <td>57.159306</td>\n",
       "    </tr>\n",
       "    <tr>\n",
       "      <th>45</th>\n",
       "      <td>xgb_run_045</td>\n",
       "      <td>0.10</td>\n",
       "      <td>20.0</td>\n",
       "      <td>200</td>\n",
       "      <td>1.0</td>\n",
       "      <td>0.504168</td>\n",
       "      <td>0.185616</td>\n",
       "      <td>0.818731</td>\n",
       "      <td>0.302624</td>\n",
       "      <td>0.692259</td>\n",
       "      <td>169.534149</td>\n",
       "    </tr>\n",
       "    <tr>\n",
       "      <th>21</th>\n",
       "      <td>xgb_run_021</td>\n",
       "      <td>0.05</td>\n",
       "      <td>20.0</td>\n",
       "      <td>200</td>\n",
       "      <td>1.0</td>\n",
       "      <td>0.500595</td>\n",
       "      <td>0.184908</td>\n",
       "      <td>0.821752</td>\n",
       "      <td>0.301887</td>\n",
       "      <td>0.693460</td>\n",
       "      <td>228.452409</td>\n",
       "    </tr>\n",
       "    <tr>\n",
       "      <th>23</th>\n",
       "      <td>xgb_run_023</td>\n",
       "      <td>0.05</td>\n",
       "      <td>20.0</td>\n",
       "      <td>300</td>\n",
       "      <td>1.0</td>\n",
       "      <td>0.506153</td>\n",
       "      <td>0.184955</td>\n",
       "      <td>0.809668</td>\n",
       "      <td>0.301124</td>\n",
       "      <td>0.698154</td>\n",
       "      <td>276.633921</td>\n",
       "    </tr>\n",
       "    <tr>\n",
       "      <th>34</th>\n",
       "      <td>xgb_run_034</td>\n",
       "      <td>0.10</td>\n",
       "      <td>10.0</td>\n",
       "      <td>100</td>\n",
       "      <td>0.7</td>\n",
       "      <td>0.482731</td>\n",
       "      <td>0.182768</td>\n",
       "      <td>0.845921</td>\n",
       "      <td>0.300590</td>\n",
       "      <td>0.698051</td>\n",
       "      <td>55.944050</td>\n",
       "    </tr>\n",
       "    <tr>\n",
       "      <th>19</th>\n",
       "      <td>xgb_run_019</td>\n",
       "      <td>0.05</td>\n",
       "      <td>20.0</td>\n",
       "      <td>100</td>\n",
       "      <td>1.0</td>\n",
       "      <td>0.493053</td>\n",
       "      <td>0.183400</td>\n",
       "      <td>0.827795</td>\n",
       "      <td>0.300274</td>\n",
       "      <td>0.686007</td>\n",
       "      <td>167.742068</td>\n",
       "    </tr>\n",
       "    <tr>\n",
       "      <th>43</th>\n",
       "      <td>xgb_run_043</td>\n",
       "      <td>0.10</td>\n",
       "      <td>20.0</td>\n",
       "      <td>100</td>\n",
       "      <td>1.0</td>\n",
       "      <td>0.498214</td>\n",
       "      <td>0.183299</td>\n",
       "      <td>0.815710</td>\n",
       "      <td>0.299335</td>\n",
       "      <td>0.687301</td>\n",
       "      <td>142.096571</td>\n",
       "    </tr>\n",
       "    <tr>\n",
       "      <th>3</th>\n",
       "      <td>xgb_run_003</td>\n",
       "      <td>0.05</td>\n",
       "      <td>NaN</td>\n",
       "      <td>100</td>\n",
       "      <td>1.0</td>\n",
       "      <td>0.511711</td>\n",
       "      <td>0.184118</td>\n",
       "      <td>0.791541</td>\n",
       "      <td>0.298746</td>\n",
       "      <td>0.678632</td>\n",
       "      <td>17.582682</td>\n",
       "    </tr>\n",
       "    <tr>\n",
       "      <th>8</th>\n",
       "      <td>xgb_run_008</td>\n",
       "      <td>0.05</td>\n",
       "      <td>10.0</td>\n",
       "      <td>50</td>\n",
       "      <td>0.7</td>\n",
       "      <td>0.478761</td>\n",
       "      <td>0.181169</td>\n",
       "      <td>0.842900</td>\n",
       "      <td>0.298236</td>\n",
       "      <td>0.690198</td>\n",
       "      <td>38.194390</td>\n",
       "    </tr>\n",
       "    <tr>\n",
       "      <th>16</th>\n",
       "      <td>xgb_run_016</td>\n",
       "      <td>0.05</td>\n",
       "      <td>20.0</td>\n",
       "      <td>50</td>\n",
       "      <td>0.7</td>\n",
       "      <td>0.467646</td>\n",
       "      <td>0.179975</td>\n",
       "      <td>0.858006</td>\n",
       "      <td>0.297538</td>\n",
       "      <td>0.682064</td>\n",
       "      <td>104.329895</td>\n",
       "    </tr>\n",
       "    <tr>\n",
       "      <th>32</th>\n",
       "      <td>xgb_run_032</td>\n",
       "      <td>0.10</td>\n",
       "      <td>10.0</td>\n",
       "      <td>50</td>\n",
       "      <td>0.7</td>\n",
       "      <td>0.493053</td>\n",
       "      <td>0.180837</td>\n",
       "      <td>0.809668</td>\n",
       "      <td>0.295643</td>\n",
       "      <td>0.685529</td>\n",
       "      <td>33.286848</td>\n",
       "    </tr>\n",
       "    <tr>\n",
       "      <th>11</th>\n",
       "      <td>xgb_run_011</td>\n",
       "      <td>0.05</td>\n",
       "      <td>10.0</td>\n",
       "      <td>100</td>\n",
       "      <td>1.0</td>\n",
       "      <td>0.488686</td>\n",
       "      <td>0.180361</td>\n",
       "      <td>0.815710</td>\n",
       "      <td>0.295405</td>\n",
       "      <td>0.674111</td>\n",
       "      <td>71.409844</td>\n",
       "    </tr>\n",
       "    <tr>\n",
       "      <th>33</th>\n",
       "      <td>xgb_run_033</td>\n",
       "      <td>0.10</td>\n",
       "      <td>10.0</td>\n",
       "      <td>50</td>\n",
       "      <td>1.0</td>\n",
       "      <td>0.489083</td>\n",
       "      <td>0.180054</td>\n",
       "      <td>0.812689</td>\n",
       "      <td>0.294795</td>\n",
       "      <td>0.680652</td>\n",
       "      <td>36.683420</td>\n",
       "    </tr>\n",
       "    <tr>\n",
       "      <th>0</th>\n",
       "      <td>xgb_run_000</td>\n",
       "      <td>0.05</td>\n",
       "      <td>NaN</td>\n",
       "      <td>50</td>\n",
       "      <td>0.7</td>\n",
       "      <td>0.489083</td>\n",
       "      <td>0.180054</td>\n",
       "      <td>0.812689</td>\n",
       "      <td>0.294795</td>\n",
       "      <td>0.686811</td>\n",
       "      <td>17.471770</td>\n",
       "    </tr>\n",
       "    <tr>\n",
       "      <th>41</th>\n",
       "      <td>xgb_run_041</td>\n",
       "      <td>0.10</td>\n",
       "      <td>20.0</td>\n",
       "      <td>50</td>\n",
       "      <td>1.0</td>\n",
       "      <td>0.487495</td>\n",
       "      <td>0.179144</td>\n",
       "      <td>0.809668</td>\n",
       "      <td>0.293377</td>\n",
       "      <td>0.676739</td>\n",
       "      <td>106.730401</td>\n",
       "    </tr>\n",
       "    <tr>\n",
       "      <th>24</th>\n",
       "      <td>xgb_run_024</td>\n",
       "      <td>0.10</td>\n",
       "      <td>NaN</td>\n",
       "      <td>50</td>\n",
       "      <td>0.7</td>\n",
       "      <td>0.511314</td>\n",
       "      <td>0.180398</td>\n",
       "      <td>0.767372</td>\n",
       "      <td>0.292122</td>\n",
       "      <td>0.692768</td>\n",
       "      <td>12.387426</td>\n",
       "    </tr>\n",
       "    <tr>\n",
       "      <th>1</th>\n",
       "      <td>xgb_run_001</td>\n",
       "      <td>0.05</td>\n",
       "      <td>NaN</td>\n",
       "      <td>50</td>\n",
       "      <td>1.0</td>\n",
       "      <td>0.489083</td>\n",
       "      <td>0.178331</td>\n",
       "      <td>0.800604</td>\n",
       "      <td>0.291690</td>\n",
       "      <td>0.678627</td>\n",
       "      <td>10.692076</td>\n",
       "    </tr>\n",
       "    <tr>\n",
       "      <th>17</th>\n",
       "      <td>xgb_run_017</td>\n",
       "      <td>0.05</td>\n",
       "      <td>20.0</td>\n",
       "      <td>50</td>\n",
       "      <td>1.0</td>\n",
       "      <td>0.462485</td>\n",
       "      <td>0.176061</td>\n",
       "      <td>0.839879</td>\n",
       "      <td>0.291099</td>\n",
       "      <td>0.678884</td>\n",
       "      <td>122.069132</td>\n",
       "    </tr>\n",
       "    <tr>\n",
       "      <th>9</th>\n",
       "      <td>xgb_run_009</td>\n",
       "      <td>0.05</td>\n",
       "      <td>10.0</td>\n",
       "      <td>50</td>\n",
       "      <td>1.0</td>\n",
       "      <td>0.466852</td>\n",
       "      <td>0.173548</td>\n",
       "      <td>0.812689</td>\n",
       "      <td>0.286018</td>\n",
       "      <td>0.664378</td>\n",
       "      <td>40.736564</td>\n",
       "    </tr>\n",
       "  </tbody>\n",
       "</table>\n",
       "</div>"
      ],
      "text/plain": [
       "       run_name  learning_rate  max_depth  n_estimators  subsample  accuracy  \\\n",
       "46  xgb_run_046           0.10       20.0           300        0.7  0.500198   \n",
       "14  xgb_run_014           0.05       10.0           300        0.7  0.491465   \n",
       "44  xgb_run_044           0.10       20.0           200        0.7  0.498214   \n",
       "6   xgb_run_006           0.05        NaN           300        0.7  0.512108   \n",
       "27  xgb_run_027           0.10        NaN           100        1.0  0.511314   \n",
       "22  xgb_run_022           0.05       20.0           300        0.7  0.498611   \n",
       "4   xgb_run_004           0.05        NaN           200        0.7  0.516078   \n",
       "40  xgb_run_040           0.10       20.0            50        0.7  0.490274   \n",
       "47  xgb_run_047           0.10       20.0           300        1.0  0.510917   \n",
       "30  xgb_run_030           0.10        NaN           300        0.7  0.503771   \n",
       "42  xgb_run_042           0.10       20.0           100        0.7  0.498214   \n",
       "2   xgb_run_002           0.05        NaN           100        0.7  0.510520   \n",
       "25  xgb_run_025           0.10        NaN            50        1.0  0.511711   \n",
       "12  xgb_run_012           0.05       10.0           200        0.7  0.486701   \n",
       "20  xgb_run_020           0.05       20.0           200        0.7  0.491465   \n",
       "38  xgb_run_038           0.10       10.0           300        0.7  0.491068   \n",
       "29  xgb_run_029           0.10        NaN           200        1.0  0.491862   \n",
       "37  xgb_run_037           0.10       10.0           200        1.0  0.501389   \n",
       "31  xgb_run_031           0.10        NaN           300        1.0  0.493450   \n",
       "28  xgb_run_028           0.10        NaN           200        0.7  0.507741   \n",
       "36  xgb_run_036           0.10       10.0           200        0.7  0.485510   \n",
       "39  xgb_run_039           0.10       10.0           300        1.0  0.496626   \n",
       "18  xgb_run_018           0.05       20.0           100        0.7  0.487495   \n",
       "10  xgb_run_010           0.05       10.0           100        0.7  0.491068   \n",
       "13  xgb_run_013           0.05       10.0           200        1.0  0.497817   \n",
       "15  xgb_run_015           0.05       10.0           300        1.0  0.496229   \n",
       "26  xgb_run_026           0.10        NaN           100        0.7  0.513299   \n",
       "7   xgb_run_007           0.05        NaN           300        1.0  0.504168   \n",
       "5   xgb_run_005           0.05        NaN           200        1.0  0.511711   \n",
       "35  xgb_run_035           0.10       10.0           100        1.0  0.497023   \n",
       "45  xgb_run_045           0.10       20.0           200        1.0  0.504168   \n",
       "21  xgb_run_021           0.05       20.0           200        1.0  0.500595   \n",
       "23  xgb_run_023           0.05       20.0           300        1.0  0.506153   \n",
       "34  xgb_run_034           0.10       10.0           100        0.7  0.482731   \n",
       "19  xgb_run_019           0.05       20.0           100        1.0  0.493053   \n",
       "43  xgb_run_043           0.10       20.0           100        1.0  0.498214   \n",
       "3   xgb_run_003           0.05        NaN           100        1.0  0.511711   \n",
       "8   xgb_run_008           0.05       10.0            50        0.7  0.478761   \n",
       "16  xgb_run_016           0.05       20.0            50        0.7  0.467646   \n",
       "32  xgb_run_032           0.10       10.0            50        0.7  0.493053   \n",
       "11  xgb_run_011           0.05       10.0           100        1.0  0.488686   \n",
       "33  xgb_run_033           0.10       10.0            50        1.0  0.489083   \n",
       "0   xgb_run_000           0.05        NaN            50        0.7  0.489083   \n",
       "41  xgb_run_041           0.10       20.0            50        1.0  0.487495   \n",
       "24  xgb_run_024           0.10        NaN            50        0.7  0.511314   \n",
       "1   xgb_run_001           0.05        NaN            50        1.0  0.489083   \n",
       "17  xgb_run_017           0.05       20.0            50        1.0  0.462485   \n",
       "9   xgb_run_009           0.05       10.0            50        1.0  0.466852   \n",
       "\n",
       "    precision    recall        f1   roc_auc  training_duration  \n",
       "46   0.193122  0.882175  0.316875  0.714174         173.376827  \n",
       "14   0.191157  0.888218  0.314607  0.712441         164.302461  \n",
       "44   0.191264  0.873112  0.313789  0.713360         147.493839  \n",
       "6    0.192044  0.845921  0.313024  0.704672          62.667777  \n",
       "27   0.191358  0.842900  0.311906  0.698265          21.159050  \n",
       "22   0.190160  0.864048  0.311717  0.705392         246.415313  \n",
       "4    0.191238  0.830816  0.310910  0.702655          34.307451  \n",
       "40   0.188766  0.873112  0.310419  0.702668          85.867257  \n",
       "47   0.189952  0.833837  0.309417  0.695410         197.810498  \n",
       "30   0.189317  0.845921  0.309392  0.701460          56.407295  \n",
       "42   0.188793  0.854985  0.309290  0.708816         110.255473  \n",
       "2    0.189821  0.833837  0.309244  0.694787          18.447451  \n",
       "25   0.189786  0.830816  0.308989  0.685665          11.159836  \n",
       "12   0.187662  0.873112  0.308926  0.707845         110.744156  \n",
       "20   0.187500  0.861027  0.307942  0.703333         205.789165  \n",
       "38   0.187377  0.861027  0.307775  0.705087         126.915781  \n",
       "29   0.187212  0.858006  0.307359  0.697699          35.991400  \n",
       "37   0.187711  0.839879  0.306843  0.695897          94.900828  \n",
       "31   0.186879  0.851964  0.306522  0.692691          53.898062  \n",
       "28   0.188058  0.827795  0.306488  0.698926          40.736970  \n",
       "36   0.185668  0.861027  0.305466  0.700282          97.912900  \n",
       "39   0.186202  0.839879  0.304825  0.696842         127.873441  \n",
       "18   0.185452  0.854985  0.304793  0.692450         141.913250  \n",
       "10   0.185724  0.848943  0.304772  0.702711          60.572611  \n",
       "13   0.186156  0.836858  0.304563  0.685145         124.553992  \n",
       "15   0.185657  0.836858  0.303895  0.688121         167.650077  \n",
       "26   0.186844  0.806647  0.303409  0.698048          21.392458  \n",
       "7    0.186047  0.821752  0.303402  0.685962          64.609758  \n",
       "5    0.186322  0.806647  0.302721  0.685770          34.888701  \n",
       "35   0.185061  0.830816  0.302697  0.691394          57.159306  \n",
       "45   0.185616  0.818731  0.302624  0.692259         169.534149  \n",
       "21   0.184908  0.821752  0.301887  0.693460         228.452409  \n",
       "23   0.184955  0.809668  0.301124  0.698154         276.633921  \n",
       "34   0.182768  0.845921  0.300590  0.698051          55.944050  \n",
       "19   0.183400  0.827795  0.300274  0.686007         167.742068  \n",
       "43   0.183299  0.815710  0.299335  0.687301         142.096571  \n",
       "3    0.184118  0.791541  0.298746  0.678632          17.582682  \n",
       "8    0.181169  0.842900  0.298236  0.690198          38.194390  \n",
       "16   0.179975  0.858006  0.297538  0.682064         104.329895  \n",
       "32   0.180837  0.809668  0.295643  0.685529          33.286848  \n",
       "11   0.180361  0.815710  0.295405  0.674111          71.409844  \n",
       "33   0.180054  0.812689  0.294795  0.680652          36.683420  \n",
       "0    0.180054  0.812689  0.294795  0.686811          17.471770  \n",
       "41   0.179144  0.809668  0.293377  0.676739         106.730401  \n",
       "24   0.180398  0.767372  0.292122  0.692768          12.387426  \n",
       "1    0.178331  0.800604  0.291690  0.678627          10.692076  \n",
       "17   0.176061  0.839879  0.291099  0.678884         122.069132  \n",
       "9    0.173548  0.812689  0.286018  0.664378          40.736564  "
      ]
     },
     "execution_count": 13,
     "metadata": {},
     "output_type": "execute_result"
    }
   ],
   "source": [
    "# --- Display the final results table ---\n",
    "print(\"\\n📈 XGBoost Results Summary Table:\\n\")\n",
    "results_df_xgb = pd.DataFrame(results_list_xgb).sort_values(by=\"f1\", ascending=False)\n",
    "\n",
    "# Create results directory\n",
    "results_dir = os.path.join(\"logs\", \"xgboost_results\")\n",
    "os.makedirs(results_dir, exist_ok=True)\n",
    "\n",
    "# Save results summary\n",
    "results_path = os.path.join(results_dir, \"results_summary.csv\")\n",
    "results_df_xgb.to_csv(results_path, index=False)\n",
    "print(f\"Results saved to: {results_path}\")\n",
    "\n",
    "# Save the best model locally\n",
    "if best_model is not None:\n",
    "    import joblib\n",
    "\n",
    "    best_model_path = os.path.join(results_dir, \"best_xgboost_model.pkl\")\n",
    "    joblib.dump(best_model, best_model_path)\n",
    "    print(f\"Best model saved to: {best_model_path}\")\n",
    "\n",
    "    # Register the best model in MLflow Model Registry\n",
    "    model_name = \"XGBoost_Bug_Prediction_Embeddings\"\n",
    "    try:\n",
    "        # Register the model from the best run\n",
    "        model_uri = f\"runs:/{best_run_id}/model\"\n",
    "        mlflow.register_model(model_uri, model_name)\n",
    "        print(f\"Best model registered in MLflow Model Registry as: {model_name}\")\n",
    "    except Exception as e:\n",
    "        print(f\"Warning: Could not register model in MLflow Model Registry: {e}\")\n",
    "\n",
    "    # Save best model info\n",
    "    best_model_info = {\n",
    "        \"best_f1_score\": best_f1_score,\n",
    "        \"best_params\": best_params,\n",
    "        \"best_run_id\": best_run_id,\n",
    "        \"model_path\": best_model_path,\n",
    "        \"timestamp\": pd.Timestamp.now().strftime(\"%Y-%m-%d %H:%M:%S\"),\n",
    "    }\n",
    "\n",
    "    import json\n",
    "\n",
    "    best_info_path = os.path.join(results_dir, \"best_model_info.json\")\n",
    "    with open(best_info_path, \"w\") as f:\n",
    "        json.dump(best_model_info, f, indent=2)\n",
    "    print(f\"Best model info saved to: {best_info_path}\")\n",
    "\n",
    "print(f\"\\n🎯 Best Model Summary:\")\n",
    "print(f\"F1 Score: {best_f1_score:.4f}\")\n",
    "print(f\"Parameters: {best_params}\")\n",
    "print(f\"Run ID: {best_run_id}\")\n",
    "\n",
    "results_df_xgb"
   ]
  },
  {
   "cell_type": "markdown",
   "id": "3c70ad99",
   "metadata": {},
   "source": [
    "## Best Model Usage Example\n",
    "\n",
    "The following cell demonstrates how to load and use the best model for predictions.\n"
   ]
  },
  {
   "cell_type": "code",
   "execution_count": 14,
   "id": "7604c189",
   "metadata": {},
   "outputs": [
    {
     "name": "stdout",
     "output_type": "stream",
     "text": [
      "Sample predictions from best model:\n",
      "Predictions: [1 0 1 0 1]\n",
      "Probabilities: [[0.03010416 0.96989584]\n",
      " [0.9971662  0.00283376]\n",
      " [0.16670108 0.8332989 ]\n",
      " [0.8340855  0.16591449]\n",
      " [0.17400992 0.8259901 ]]\n",
      "\n",
      "Verification - Loaded model predictions: [1 0 1 0 1]\n",
      "Predictions match: True\n"
     ]
    },
    {
     "data": {
      "application/vnd.jupyter.widget-view+json": {
       "model_id": "a4a7e5b0eebb48f1bc5a1c9b92980fdf",
       "version_major": 2,
       "version_minor": 0
      },
      "text/plain": [
       "Downloading artifacts:   0%|          | 0/1 [00:00<?, ?it/s]"
      ]
     },
     "metadata": {},
     "output_type": "display_data"
    },
    {
     "data": {
      "application/vnd.jupyter.widget-view+json": {
       "model_id": "5cf4f609285c460fa074abfa3e3a25c3",
       "version_major": 2,
       "version_minor": 0
      },
      "text/plain": [
       "Downloading artifacts:   0%|          | 0/7 [00:00<?, ?it/s]"
      ]
     },
     "metadata": {},
     "output_type": "display_data"
    },
    {
     "name": "stdout",
     "output_type": "stream",
     "text": [
      "MLflow model predictions: [1 0 1 0 1]\n",
      "MLflow predictions match: True\n"
     ]
    }
   ],
   "source": [
    "# Example: Load and use the best model for predictions\n",
    "if best_model is not None:\n",
    "    # Option 1: Use the model that's already in memory\n",
    "    sample_predictions = best_model.predict(X_test[:5])\n",
    "    sample_probabilities = best_model.predict_proba(X_test[:5])\n",
    "\n",
    "    print(\"Sample predictions from best model:\")\n",
    "    print(f\"Predictions: {sample_predictions}\")\n",
    "    print(f\"Probabilities: {sample_probabilities}\")\n",
    "\n",
    "    # Option 2: Load the saved model from file\n",
    "    import joblib\n",
    "\n",
    "    loaded_model = joblib.load(os.path.join(results_dir, \"best_xgboost_model.pkl\"))\n",
    "    loaded_predictions = loaded_model.predict(X_test[:5])\n",
    "    print(f\"\\nVerification - Loaded model predictions: {loaded_predictions}\")\n",
    "    print(f\"Predictions match: {all(sample_predictions == loaded_predictions)}\")\n",
    "\n",
    "    # Option 3: Load model from MLflow\n",
    "    try:\n",
    "        model_uri = f\"runs:/{best_run_id}/model\"\n",
    "        mlflow_model = mlflow.xgboost.load_model(model_uri)\n",
    "        mlflow_predictions = mlflow_model.predict(X_test[:5])\n",
    "        print(f\"MLflow model predictions: {mlflow_predictions}\")\n",
    "        print(\n",
    "            f\"MLflow predictions match: {all(sample_predictions == mlflow_predictions)}\"\n",
    "        )\n",
    "    except Exception as e:\n",
    "        print(f\"Could not load from MLflow: {e}\")\n",
    "else:\n",
    "    print(\"No best model available. Please run the training cells first.\")"
   ]
  }
 ],
 "metadata": {
  "kernelspec": {
   "display_name": ".venv",
   "language": "python",
   "name": "python3"
  },
  "language_info": {
   "codemirror_mode": {
    "name": "ipython",
    "version": 3
   },
   "file_extension": ".py",
   "mimetype": "text/x-python",
   "name": "python",
   "nbconvert_exporter": "python",
   "pygments_lexer": "ipython3",
   "version": "3.9.0"
  }
 },
 "nbformat": 4,
 "nbformat_minor": 5
}
