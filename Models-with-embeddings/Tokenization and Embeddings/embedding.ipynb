{
 "cells": [
  {
   "cell_type": "code",
   "execution_count": null,
   "id": "522cb9ab",
   "metadata": {},
   "outputs": [],
   "source": [
    "import torch\n",
    "import pandas as pd\n",
    "from transformers import AutoTokenizer, AutoModel\n",
    "from tqdm.notebook import tqdm\n",
    "import os\n",
    "import gc\n",
    "import numpy as np\n",
    "import glob\n",
    "\n",
    "# --- Configuration ---\n",
    "TOKENIZED_INPUT_DIR = \"../data/tokenized_data_test/small_diffs\"\n",
    "EMBEDDINGS_OUTPUT_DIR = \"../data/codebert_embeddings/small_diffs\" # New directory for final embeddings\n",
    "MODEL_NAME = \"microsoft/codebert-base\""
   ]
  },
  {
   "cell_type": "code",
   "execution_count": 3,
   "id": "12ac67c4",
   "metadata": {},
   "outputs": [
    {
     "name": "stdout",
     "output_type": "stream",
     "text": [
      "Using device: cpu\n"
     ]
    },
    {
     "name": "stderr",
     "output_type": "stream",
     "text": [
      "Xet Storage is enabled for this repo, but the 'hf_xet' package is not installed. Falling back to regular HTTP download. For better performance, install the package with: `pip install huggingface_hub[hf_xet]` or `pip install hf_xet`\n"
     ]
    },
    {
     "data": {
      "application/vnd.jupyter.widget-view+json": {
       "model_id": "2bee6c7385af4cdd8c0f27028c46b573",
       "version_major": 2,
       "version_minor": 0
      },
      "text/plain": [
       "pytorch_model.bin:   0%|          | 0.00/499M [00:00<?, ?B/s]"
      ]
     },
     "metadata": {},
     "output_type": "display_data"
    },
    {
     "name": "stderr",
     "output_type": "stream",
     "text": [
      "c:\\Users\\pradishan\\code\\wso2-AI-Tool\\.venv\\lib\\site-packages\\huggingface_hub\\file_download.py:143: UserWarning: `huggingface_hub` cache-system uses symlinks by default to efficiently store duplicated files but your machine does not support them in C:\\Users\\pradishan\\.cache\\huggingface\\hub\\models--microsoft--codebert-base. Caching files will still work but in a degraded version that might require more space on your disk. This warning can be disabled by setting the `HF_HUB_DISABLE_SYMLINKS_WARNING` environment variable. For more details, see https://huggingface.co/docs/huggingface_hub/how-to-cache#limitations.\n",
      "To support symlinks on Windows, you either need to activate Developer Mode or to run Python as an administrator. In order to activate developer mode, see this article: https://docs.microsoft.com/en-us/windows/apps/get-started/enable-your-device-for-development\n",
      "  warnings.warn(message)\n"
     ]
    },
    {
     "name": "stdout",
     "output_type": "stream",
     "text": [
      "Found 251 tokenized chunks to process.\n"
     ]
    },
    {
     "data": {
      "application/vnd.jupyter.widget-view+json": {
       "model_id": "1ff100a0aa9145ba84207f9ca3e2db4d",
       "version_major": 2,
       "version_minor": 0
      },
      "text/plain": [
       "Generating Embeddings from Chunks:   0%|          | 0/251 [00:00<?, ?it/s]"
      ]
     },
     "metadata": {},
     "output_type": "display_data"
    },
    {
     "name": "stderr",
     "output_type": "stream",
     "text": [
      "Xet Storage is enabled for this repo, but the 'hf_xet' package is not installed. Falling back to regular HTTP download. For better performance, install the package with: `pip install huggingface_hub[hf_xet]` or `pip install hf_xet`\n"
     ]
    },
    {
     "data": {
      "application/vnd.jupyter.widget-view+json": {
       "model_id": "cabb757f631f480fa5fcfbe9522c63db",
       "version_major": 2,
       "version_minor": 0
      },
      "text/plain": [
       "model.safetensors:   0%|          | 0.00/499M [00:00<?, ?B/s]"
      ]
     },
     "metadata": {},
     "output_type": "display_data"
    },
    {
     "name": "stdout",
     "output_type": "stream",
     "text": [
      "\n",
      "--- Embedding Generation Complete --- ✅\n",
      "Final embeddings have been saved incrementally to the 'data/codebert_embeddings/small_diffs' directory.\n"
     ]
    }
   ],
   "source": [
    "# --- Setup ---\n",
    "os.makedirs(EMBEDDINGS_OUTPUT_DIR, exist_ok=True)\n",
    "device = torch.device(\"cuda\" if torch.cuda.is_available() else \"cpu\")\n",
    "print(f\"Using device: {device}\")\n",
    "\n",
    "# Load the base CodeBERT model (without the classification head)\n",
    "tokenizer = AutoTokenizer.from_pretrained(MODEL_NAME)\n",
    "model = AutoModel.from_pretrained(MODEL_NAME).to(device)\n",
    "model.eval() # Set model to evaluation mode (important for inference)\n",
    "\n",
    "# --- Get the list of tokenized chunk files to process ---\n",
    "tokenized_files = sorted(glob.glob(os.path.join(TOKENIZED_INPUT_DIR, 'chunk_*.pt')))\n",
    "print(f\"Found {len(tokenized_files)} tokenized chunks to process.\")\n",
    "\n",
    "\n",
    "# --- Main Loop: Stream Chunks, Generate Embeddings, Save Incrementally ---\n",
    "for chunk_path in tqdm(tokenized_files, desc=\"Generating Embeddings from Chunks\"):\n",
    "    try:\n",
    "        # 1. Load one chunk of tokenized data\n",
    "        data = torch.load(chunk_path)\n",
    "        \n",
    "        # Prepare inputs and move to the GPU/CPU\n",
    "        inputs = {\n",
    "            'input_ids': data['input_ids'].to(device),\n",
    "            'attention_mask': data['attention_mask'].to(device)\n",
    "        }\n",
    "        labels = data['labels']\n",
    "        \n",
    "        # 2. Get embeddings from the model\n",
    "        # torch.no_grad() is a crucial optimization for speed and memory\n",
    "        with torch.no_grad():\n",
    "            outputs = model(**inputs)\n",
    "        \n",
    "        # 3. Extract the [CLS] token embedding for each item in the batch\n",
    "        embeddings = outputs.last_hidden_state[:, 0, :].cpu().numpy()\n",
    "        \n",
    "        # 4. Save the resulting embeddings and labels for this batch\n",
    "        # This naturally saves the output \"batch vice\"\n",
    "        output_filename = os.path.basename(chunk_path).replace('chunk_', 'embeddings_') + '.npz'\n",
    "        output_path = os.path.join(EMBEDDINGS_OUTPUT_DIR, output_filename)\n",
    "        np.savez_compressed(output_path, embeddings=embeddings, labels=labels.numpy())\n",
    "\n",
    "        # 5. Clean up memory\n",
    "        del data, inputs, labels, outputs, embeddings\n",
    "        gc.collect()\n",
    "        if torch.cuda.is_available():\n",
    "            torch.cuda.empty_cache()\n",
    "            \n",
    "    except Exception as e:\n",
    "        print(f\"Error processing file {chunk_path}: {e}\")\n",
    "\n",
    "\n",
    "print(\"\\n--- Embedding Generation Complete --- ✅\")\n",
    "print(f\"Final embeddings have been saved incrementally to the '{EMBEDDINGS_OUTPUT_DIR}' directory.\")"
   ]
  }
 ],
 "metadata": {
  "kernelspec": {
   "display_name": ".venv",
   "language": "python",
   "name": "python3"
  },
  "language_info": {
   "codemirror_mode": {
    "name": "ipython",
    "version": 3
   },
   "file_extension": ".py",
   "mimetype": "text/x-python",
   "name": "python",
   "nbconvert_exporter": "python",
   "pygments_lexer": "ipython3",
   "version": "3.9.0"
  }
 },
 "nbformat": 4,
 "nbformat_minor": 5
}
