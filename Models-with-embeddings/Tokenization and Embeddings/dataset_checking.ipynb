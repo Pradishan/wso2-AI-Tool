{
 "cells": [
  {
   "cell_type": "code",
   "execution_count": 1,
   "id": "7426741f",
   "metadata": {},
   "outputs": [],
   "source": [
    "import pandas as pd\n",
    "import os\n",
    "from tqdm import tqdm\n",
    "from loguru import logger\n",
    "from typing import List"
   ]
  },
  {
   "cell_type": "markdown",
   "id": "3aae6e34",
   "metadata": {},
   "source": [
    "### Configuration\n"
   ]
  },
  {
   "cell_type": "code",
   "execution_count": null,
   "id": "28372e24",
   "metadata": {},
   "outputs": [
    {
     "data": {
      "text/plain": [
       "1"
      ]
     },
     "execution_count": 2,
     "metadata": {},
     "output_type": "execute_result"
    }
   ],
   "source": [
    "# This helps in keeping track of the script's execution and debugging.\n",
    "logger.add(\"../logs/missing_value_analysis.log\", rotation=\"500 MB\")"
   ]
  },
  {
   "cell_type": "markdown",
   "id": "eaf5f047",
   "metadata": {},
   "source": [
    "### function"
   ]
  },
  {
   "cell_type": "code",
   "execution_count": 3,
   "id": "2423edf4",
   "metadata": {},
   "outputs": [],
   "source": [
    "# --- Missing Value Analysis ---\n",
    "def analyze_missing_values(file_path: str, chunk_size: int = 10000):\n",
    "    if os.path.exists(file_path):\n",
    "        try:\n",
    "            logger.info(f\"Starting missing value analysis for {file_path}...\")\n",
    "            # Initialize a list to store the summary of missing values from each chunk.\n",
    "            missing_values_summary: List[pd.Series] = []\n",
    "            total = 0\n",
    "\n",
    "            # Create an iterator to read the CSV file in chunks.\n",
    "            # Using a 'with' statement ensures the file handler is properly closed.\n",
    "            with pd.read_csv(\n",
    "                file_path, chunksize=chunk_size, low_memory=False\n",
    "            ) as chunk_iterator:\n",
    "                # Use tqdm to create a progress bar for iterating through chunks.\n",
    "                for chunk in tqdm(chunk_iterator, desc=\"Processing chunks\"):\n",
    "                    # For each column in the chunk, count the number of NA (missing) values.\n",
    "                    na_counts = chunk.isnull().sum()\n",
    "                    total += chunk.shape[0]\n",
    "                    # Append the result to the summary list.\n",
    "                    missing_values_summary.append(na_counts)\n",
    "\n",
    "            # --- Aggregation and Display ---\n",
    "            if missing_values_summary:\n",
    "                # Combine the results from all chunks into a single DataFrame.\n",
    "                # Each series from the list becomes a column in the new DataFrame.\n",
    "                total_missing_df = pd.concat(missing_values_summary, axis=1)\n",
    "\n",
    "                # Calculate the total number of missing values for each column across all chunks.\n",
    "                total_missing_counts = total_missing_df.sum(axis=1)\n",
    "\n",
    "                # Filter to show only columns that have missing values.\n",
    "                missing_columns = total_missing_counts[total_missing_counts > 0]\n",
    "\n",
    "                # Log the total missing values for each column.\n",
    "                logger.info(\n",
    "                    \"Total Missing Values per Column:\\n\" + missing_columns.to_string()\n",
    "                )\n",
    "                logger.info(f\"Total processed Values: {total}\")\n",
    "\n",
    "                # Optional: Save the missing value summary to a file in the 'data' directory\n",
    "                # output_path = \"data/missing_values_summary.csv\"\n",
    "                # missing_columns.to_csv(output_path)\n",
    "                # logger.info(f\"Missing value summary saved to {output_path}\")\n",
    "\n",
    "            else:\n",
    "                logger.warning(\"File is empty or no data was processed.\")\n",
    "\n",
    "        except Exception as e:\n",
    "            # If an error occurs during file processing, log the error message.\n",
    "            logger.error(f\"An error occurred while processing the file: {e}\")\n",
    "    else:\n",
    "        # If the file does not exist, log an error message.\n",
    "        logger.error(f\"Error: File not found at the specified path: {file_path}\")\n",
    "        logger.error(\n",
    "            \"Please update the 'file_path' variable with the correct location of your dataset.\"\n",
    "        )"
   ]
  },
  {
   "cell_type": "code",
   "execution_count": 4,
   "id": "7ab29c53",
   "metadata": {},
   "outputs": [
    {
     "name": "stderr",
     "output_type": "stream",
     "text": [
      "\u001b[32m2025-08-19 11:55:34.319\u001b[0m | \u001b[1mINFO    \u001b[0m | \u001b[36m__main__\u001b[0m:\u001b[36manalyze_missing_values\u001b[0m:\u001b[36m5\u001b[0m - \u001b[1mStarting missing value analysis for data/final_dataset_with_diffs.csv...\u001b[0m\n",
      "Processing chunks: 13it [09:04, 41.91s/it]\n",
      "\u001b[32m2025-08-19 12:04:39.260\u001b[0m | \u001b[1mINFO    \u001b[0m | \u001b[36m__main__\u001b[0m:\u001b[36manalyze_missing_values\u001b[0m:\u001b[36m36\u001b[0m - \u001b[1mTotal Missing Values per Column:\n",
      "diff    482\u001b[0m\n",
      "\u001b[32m2025-08-19 12:04:39.279\u001b[0m | \u001b[1mINFO    \u001b[0m | \u001b[36m__main__\u001b[0m:\u001b[36manalyze_missing_values\u001b[0m:\u001b[36m39\u001b[0m - \u001b[1mTotal processed Values: 125825\u001b[0m\n"
     ]
    }
   ],
   "source": [
    "file_path: str = \"data/final_dataset_with_diffs.csv\"\n",
    "analyze_missing_values(file_path)"
   ]
  },
  {
   "cell_type": "code",
   "execution_count": 5,
   "id": "336408f4",
   "metadata": {},
   "outputs": [
    {
     "name": "stderr",
     "output_type": "stream",
     "text": [
      "\u001b[32m2025-08-19 12:04:39.776\u001b[0m | \u001b[1mINFO    \u001b[0m | \u001b[36m__main__\u001b[0m:\u001b[36manalyze_missing_values\u001b[0m:\u001b[36m5\u001b[0m - \u001b[1mStarting missing value analysis for data/final_dataset_with_full_diffs_CLEANED.csv...\u001b[0m\n",
      "Processing chunks: 13it [10:00, 46.20s/it]\n",
      "\u001b[32m2025-08-19 12:14:40.489\u001b[0m | \u001b[1mINFO    \u001b[0m | \u001b[36m__main__\u001b[0m:\u001b[36manalyze_missing_values\u001b[0m:\u001b[36m36\u001b[0m - \u001b[1mTotal Missing Values per Column:\n",
      "diff    482\u001b[0m\n",
      "\u001b[32m2025-08-19 12:14:40.502\u001b[0m | \u001b[1mINFO    \u001b[0m | \u001b[36m__main__\u001b[0m:\u001b[36manalyze_missing_values\u001b[0m:\u001b[36m39\u001b[0m - \u001b[1mTotal processed Values: 125825\u001b[0m\n"
     ]
    }
   ],
   "source": [
    "file_path: str = \"data/final_dataset_with_full_diffs_CLEANED.csv\"\n",
    "analyze_missing_values(file_path)"
   ]
  },
  {
   "cell_type": "code",
   "execution_count": 6,
   "id": "2a6b82b7",
   "metadata": {},
   "outputs": [
    {
     "name": "stderr",
     "output_type": "stream",
     "text": [
      "\u001b[32m2025-08-19 12:14:40.907\u001b[0m | \u001b[1mINFO    \u001b[0m | \u001b[36m__main__\u001b[0m:\u001b[36manalyze_missing_values\u001b[0m:\u001b[36m5\u001b[0m - \u001b[1mStarting missing value analysis for data/final_embedding_dataset.csv...\u001b[0m\n",
      "Processing chunks: 13it [01:37,  7.52s/it]\n",
      "\u001b[32m2025-08-19 12:16:18.677\u001b[0m | \u001b[1mINFO    \u001b[0m | \u001b[36m__main__\u001b[0m:\u001b[36manalyze_missing_values\u001b[0m:\u001b[36m36\u001b[0m - \u001b[1mTotal Missing Values per Column:\n",
      "commit_hash                                100246\n",
      "author_email                               100246\n",
      "commit_date                                100246\n",
      "lines_added                                100246\n",
      "lines_deleted                              100246\n",
      "files_changed                              100246\n",
      "num_modified_subsystems                    100246\n",
      "num_modified_dirs                          100246\n",
      "entropy                                    100246\n",
      "previous_total_size                        100246\n",
      "author_total_commits                       100246\n",
      "time_since_last_commit                     100246\n",
      "recent_commits                             100246\n",
      "prior_committers                           100246\n",
      "number_of_highly_coupled_files             100246\n",
      "number_of_coupled_files_for all_degrees    100246\n",
      "number_of_non_modified_coupled_files       100246\n",
      "is_bug_introducing                         100246\n",
      "diff                                       100308\u001b[0m\n",
      "\u001b[32m2025-08-19 12:16:18.678\u001b[0m | \u001b[1mINFO    \u001b[0m | \u001b[36m__main__\u001b[0m:\u001b[36manalyze_missing_values\u001b[0m:\u001b[36m39\u001b[0m - \u001b[1mTotal processed Values: 125346\u001b[0m\n"
     ]
    }
   ],
   "source": [
    "file_path: str = \"data/final_embedding_dataset.csv\"\n",
    "analyze_missing_values(file_path)"
   ]
  },
  {
   "cell_type": "code",
   "execution_count": 7,
   "id": "a1d17ce0",
   "metadata": {},
   "outputs": [
    {
     "name": "stderr",
     "output_type": "stream",
     "text": [
      "\u001b[32m2025-08-19 12:22:09.620\u001b[0m | \u001b[1mINFO    \u001b[0m | \u001b[36m__main__\u001b[0m:\u001b[36manalyze_missing_values\u001b[0m:\u001b[36m5\u001b[0m - \u001b[1mStarting missing value analysis for data/small_diffs.csv...\u001b[0m\n",
      "Processing chunks: 13it [04:00, 18.54s/it]\n",
      "\u001b[32m2025-08-19 12:26:10.646\u001b[0m | \u001b[1mINFO    \u001b[0m | \u001b[36m__main__\u001b[0m:\u001b[36manalyze_missing_values\u001b[0m:\u001b[36m36\u001b[0m - \u001b[1mTotal Missing Values per Column:\n",
      "diff    482\u001b[0m\n",
      "\u001b[32m2025-08-19 12:26:10.652\u001b[0m | \u001b[1mINFO    \u001b[0m | \u001b[36m__main__\u001b[0m:\u001b[36manalyze_missing_values\u001b[0m:\u001b[36m39\u001b[0m - \u001b[1mTotal processed Values: 125346\u001b[0m\n"
     ]
    }
   ],
   "source": [
    "file_path: str = \"data/small_diffs.csv\"\n",
    "analyze_missing_values(file_path)"
   ]
  },
  {
   "cell_type": "code",
   "execution_count": 11,
   "id": "c524d299",
   "metadata": {},
   "outputs": [
    {
     "name": "stderr",
     "output_type": "stream",
     "text": [
      "\u001b[32m2025-08-19 12:43:31.379\u001b[0m | \u001b[1mINFO    \u001b[0m | \u001b[36m__main__\u001b[0m:\u001b[36manalyze_missing_values\u001b[0m:\u001b[36m5\u001b[0m - \u001b[1mStarting missing value analysis for data/headerlarge.csv...\u001b[0m\n",
      "Processing chunks: 48it [03:43,  4.66s/it]\n",
      "\u001b[32m2025-08-19 12:47:15.356\u001b[0m | \u001b[1mINFO    \u001b[0m | \u001b[36m__main__\u001b[0m:\u001b[36manalyze_missing_values\u001b[0m:\u001b[36m36\u001b[0m - \u001b[1mTotal Missing Values per Column:\n",
      "Series([], )\u001b[0m\n",
      "\u001b[32m2025-08-19 12:47:15.363\u001b[0m | \u001b[1mINFO    \u001b[0m | \u001b[36m__main__\u001b[0m:\u001b[36manalyze_missing_values\u001b[0m:\u001b[36m39\u001b[0m - \u001b[1mTotal processed Values: 478\u001b[0m\n"
     ]
    }
   ],
   "source": [
    "file_path: str = \"data/headerlarge.csv\"\n",
    "analyze_missing_values(file_path,chunk_size=10)"
   ]
  },
  {
   "cell_type": "code",
   "execution_count": 12,
   "id": "8e1f2821",
   "metadata": {},
   "outputs": [
    {
     "name": "stderr",
     "output_type": "stream",
     "text": [
      "\u001b[32m2025-08-19 12:47:54.645\u001b[0m | \u001b[1mINFO    \u001b[0m | \u001b[36m__main__\u001b[0m:\u001b[36manalyze_missing_values\u001b[0m:\u001b[36m5\u001b[0m - \u001b[1mStarting missing value analysis for data/large_diffs.csv...\u001b[0m\n",
      "Processing chunks: 48it [03:35,  4.49s/it]\n",
      "\u001b[32m2025-08-19 12:51:30.653\u001b[0m | \u001b[1mINFO    \u001b[0m | \u001b[36m__main__\u001b[0m:\u001b[36manalyze_missing_values\u001b[0m:\u001b[36m36\u001b[0m - \u001b[1mTotal Missing Values per Column:\n",
      "Series([], )\u001b[0m\n",
      "\u001b[32m2025-08-19 12:51:30.655\u001b[0m | \u001b[1mINFO    \u001b[0m | \u001b[36m__main__\u001b[0m:\u001b[36manalyze_missing_values\u001b[0m:\u001b[36m39\u001b[0m - \u001b[1mTotal processed Values: 478\u001b[0m\n"
     ]
    }
   ],
   "source": [
    "file_path: str = \"data/large_diffs.csv\"\n",
    "analyze_missing_values(file_path,chunk_size=10)"
   ]
  }
 ],
 "metadata": {
  "kernelspec": {
   "display_name": ".venv",
   "language": "python",
   "name": "python3"
  },
  "language_info": {
   "codemirror_mode": {
    "name": "ipython",
    "version": 3
   },
   "file_extension": ".py",
   "mimetype": "text/x-python",
   "name": "python",
   "nbconvert_exporter": "python",
   "pygments_lexer": "ipython3",
   "version": "3.9.0"
  }
 },
 "nbformat": 4,
 "nbformat_minor": 5
}
