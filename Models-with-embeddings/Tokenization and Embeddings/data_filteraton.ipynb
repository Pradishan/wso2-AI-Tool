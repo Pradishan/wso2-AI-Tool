{
 "cells": [
  {
   "cell_type": "code",
   "execution_count": null,
   "id": "16739f78",
   "metadata": {},
   "outputs": [
    {
     "name": "stdout",
     "output_type": "stream",
     "text": [
      "Processing 15000 rows from 'data\\final_dataset_with_full_diffs_CLEANED.csv' starting after 8000 rows...\n"
     ]
    },
    {
     "data": {
      "application/vnd.jupyter.widget-view+json": {
       "model_id": "3f6791ac2dd146ca83232306e877b334",
       "version_major": 2,
       "version_minor": 0
      },
      "text/plain": [
       "Filtering chunks:   0%|          | 0/150 [00:00<?, ?it/s]"
      ]
     },
     "metadata": {},
     "output_type": "display_data"
    },
    {
     "name": "stdout",
     "output_type": "stream",
     "text": [
      "\n",
      "Successfully saved 5412 filtered rows to 'data\\filtered_output.csv'\n"
     ]
    }
   ],
   "source": [
    "import pandas as pd\n",
    "from tqdm.auto import tqdm\n",
    "from pathlib import Path\n",
    "import math\n",
    "\n",
    "# Use pathlib for better path management\n",
    "input_file = Path(\"../data/final_dataset_with_full_diffs_CLEANED.csv\")\n",
    "output_file = Path(\"../data/filtered_output.csv\")\n",
    "\n",
    "# Ensure the output directory exists\n",
    "output_file.parent.mkdir(parents=True, exist_ok=True)\n",
    "\n",
    "# --- Parameters ---\n",
    "chunk_size = 100  # You can adjust this based on your system\n",
    "skip_rows = 8000\n",
    "process_limit = 15000\n",
    "\n",
    "# --- Data Processing ---\n",
    "filtered_rows = []\n",
    "\n",
    "# Calculate the total number of chunks to process for tqdm\n",
    "total_chunks = math.ceil(process_limit / chunk_size)\n",
    "\n",
    "# Create a TextFileReader iterator with skiprows and nrows to read only the desired window of data\n",
    "# This is more efficient than manually skipping rows inside the loop.\n",
    "# We add 1 to skip_rows to account for the header row.\n",
    "chunk_iterator = pd.read_csv(\n",
    "    input_file,\n",
    "    chunksize=chunk_size,\n",
    "    skiprows=range(1, skip_rows + 1),  # Skip rows from the beginning (1-based index)\n",
    "    nrows=process_limit,  # Limit the number of rows to read after skipping\n",
    "    low_memory=False,  # Recommended for chunk processing\n",
    ")\n",
    "\n",
    "print(\n",
    "    f\"Processing {process_limit} rows from '{input_file}' starting after {skip_rows} rows...\"\n",
    ")\n",
    "\n",
    "# Use tqdm to create a progress bar\n",
    "for chunk in tqdm(chunk_iterator, total=total_chunks, desc=\"Filtering chunks\"):\n",
    "    # Filter condition\n",
    "    filtered_chunk = chunk[chunk[\"is_bug_introducing\"] == True]\n",
    "    if not filtered_chunk.empty:\n",
    "        filtered_rows.append(filtered_chunk)\n",
    "\n",
    "# --- Save Results ---\n",
    "if filtered_rows:\n",
    "    # Concatenate all filtered chunks into a single DataFrame\n",
    "    result_df = pd.concat(filtered_rows, ignore_index=True)\n",
    "\n",
    "    # Save the filtered DataFrame to a new CSV file\n",
    "    result_df.to_csv(output_file, index=False)\n",
    "\n",
    "    print(f\"\\nSuccessfully saved {len(result_df)} filtered rows to '{output_file}'\")\n",
    "else:\n",
    "    print(\"\\nNo rows matched the filter condition. No output file was created.\")\n"
   ]
  },
  {
   "cell_type": "code",
   "execution_count": null,
   "id": "bb02d4fe",
   "metadata": {},
   "outputs": [
    {
     "name": "stdout",
     "output_type": "stream",
     "text": [
      "Reading the first 10000 rows from './data/final_dataset_with_full_diffs_CLEANED.csv'...\n",
      "--- Success! ---\n",
      "A small sample file has been created at: './data/data_subset_10k.csv'\n",
      "You can now upload this small file to RunPod.\n"
     ]
    }
   ],
   "source": [
    "import pandas as pd\n",
    "\n",
    "# --- Configuration (on your local machine) ---\n",
    "CLEAN_SOURCE_CSV = \"../data/final_dataset_with_full_diffs_CLEANED.csv\" # Path to your large clean file\n",
    "DATA_SUBSET_PATH = \"../data/data_subset_10k.csv\"     # The new, small file we are creating\n",
    "NUM_ROWS = 10000\n",
    "\n",
    "print(f\"Reading the first {NUM_ROWS} rows from '{CLEAN_SOURCE_CSV}'...\")\n",
    "\n",
    "# Read only the first N rows\n",
    "df_subset = pd.read_csv(CLEAN_SOURCE_CSV, nrows=NUM_ROWS)\n",
    "\n",
    "# Save the subset to a new file\n",
    "df_subset.to_csv(DATA_SUBSET_PATH, index=False)\n",
    "\n",
    "print(f\"--- Success! ---\")\n",
    "print(f\"A small sample file has been created at: '{DATA_SUBSET_PATH}'\")\n",
    "print(\"You can now upload this small file to RunPod.\")"
   ]
  }
 ],
 "metadata": {
  "kernelspec": {
   "display_name": ".venv",
   "language": "python",
   "name": "python3"
  },
  "language_info": {
   "codemirror_mode": {
    "name": "ipython",
    "version": 3
   },
   "file_extension": ".py",
   "mimetype": "text/x-python",
   "name": "python",
   "nbconvert_exporter": "python",
   "pygments_lexer": "ipython3",
   "version": "3.9.0"
  }
 },
 "nbformat": 4,
 "nbformat_minor": 5
}
