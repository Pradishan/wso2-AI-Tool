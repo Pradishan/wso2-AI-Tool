{
 "cells": [
  {
   "cell_type": "code",
   "execution_count": null,
   "id": "6cda3ad6",
   "metadata": {},
   "outputs": [],
   "source": [
    "import pandas as pd\n",
    "import numpy as np\n",
    "import glob\n",
    "import os\n",
    "from tqdm.notebook import tqdm\n",
    "\n",
    "# --- Configuration ---\n",
    "ORIGINAL_DATA_CSV = \"../data/small_diffs.csv\"\n",
    "EMBEDDINGS_DIR = \"../data/codebert_embeddings/small_diffs\"\n",
    "FINAL_EMBEDDING_CSV_PATH = \"../data/final_embedding_dataset.csv\"\n",
    "CHUNK_SIZE = 100 # Must match the chunk size used to create the embeddings"
   ]
  },
  {
   "cell_type": "code",
   "execution_count": null,
   "id": "3c5addf5",
   "metadata": {},
   "outputs": [
    {
     "name": "stdout",
     "output_type": "stream",
     "text": [
      "Starting the process to create the final CSV with embeddings...\n"
     ]
    },
    {
     "data": {
      "application/vnd.jupyter.widget-view+json": {
       "model_id": "a7e4c1bc08b44d79aa5f02a1088ea7ef",
       "version_major": 2,
       "version_minor": 0
      },
      "text/plain": [
       "Combining Data: 0it [00:00, ?it/s]"
      ]
     },
     "metadata": {},
     "output_type": "display_data"
    },
    {
     "name": "stdout",
     "output_type": "stream",
     "text": [
      "\n",
      "--- Process Complete --- ✅\n",
      "Final dataset with commit hashes, labels, and embeddings saved to 'final_embedding_dataset.csv'.\n"
     ]
    }
   ],
   "source": [
    "print(\"Starting the process to create the final CSV with embeddings...\")\n",
    "\n",
    "# --- Step 1: Prepare the CSV Reader and Get File Lists ---\n",
    "try:\n",
    "    # This reader will process the original CSV in chunks\n",
    "    csv_reader = pd.read_csv(ORIGINAL_DATA_CSV, chunksize=CHUNK_SIZE ,nrows=10000)\n",
    "    # Get the list of all embedding files, sorted to ensure correct order\n",
    "    embedding_files = sorted(glob.glob(os.path.join(EMBEDDINGS_DIR, '*.npz')))\n",
    "    \n",
    "    if not embedding_files:\n",
    "        print(f\"ERROR: No embedding files found in '{EMBEDDINGS_DIR}'. Please generate embeddings first.\")\n",
    "        raise FileNotFoundError(\"No embedding files found. Please generate embeddings first.\")\n",
    "\n",
    "except FileNotFoundError:\n",
    "    print(f\"ERROR: Could not find '{ORIGINAL_DATA_CSV}' or embedding files. Please check paths.\")\n",
    "    # Stop if files are missing\n",
    "    raise\n",
    "\n",
    "# --- Step 2: Process Chunks and Append to Final CSV ---\n",
    "# This loop reads one chunk of the original CSV and one corresponding embedding file at a time\n",
    "is_first_chunk = True\n",
    "for i, (original_chunk_df, embedding_file_path) in enumerate(tqdm(zip(csv_reader, embedding_files), desc=\"Combining Data\")):\n",
    "    # Load the embeddings and labels for the current chunk\n",
    "    with np.load(embedding_file_path) as data:\n",
    "        embeddings = data['embeddings']\n",
    "        # The labels are already in the original_chunk_df, so we don't need them here.\n",
    "    \n",
    "    # Create a new DataFrame for the embeddings\n",
    "    # The columns will be named 'emb_0', 'emb_1', ..., 'emb_767'\n",
    "    embedding_df = pd.DataFrame(embeddings, columns=[f'emb_{j}' for j in range(embeddings.shape[1])])\n",
    "    \n",
    "    # Reset indices on both DataFrames to ensure they align correctly\n",
    "    original_chunk_df.reset_index(drop=True, inplace=True)\n",
    "    embedding_df.reset_index(drop=True, inplace=True)\n",
    "    \n",
    "    # Combine the original data chunk with its embeddings\n",
    "    combined_chunk_df = pd.concat([original_chunk_df, embedding_df], axis=1)\n",
    "    \n",
    "    # Append the combined chunk to the final CSV file\n",
    "    # The header is written only for the first chunk\n",
    "    combined_chunk_df.to_csv(FINAL_EMBEDDING_CSV_PATH, mode='a', header=is_first_chunk, index=False)\n",
    "    \n",
    "    is_first_chunk = False\n",
    "\n",
    "\n",
    "print(\"\\n--- Process Complete --- ✅\")\n",
    "print(f\"Final dataset with commit hashes, labels, and embeddings saved to '{FINAL_EMBEDDING_CSV_PATH}'.\")\n",
    "\n",
    "# You can now load this new CSV to train your XGBoost or other models.\n",
    "# For example, to check the first few rows and columns:\n",
    "# final_df = pd.read_csv(FINAL_EMBEDDING_CSV_PATH)\n",
    "# display(final_df.head())"
   ]
  }
 ],
 "metadata": {
  "kernelspec": {
   "display_name": ".venv",
   "language": "python",
   "name": "python3"
  },
  "language_info": {
   "codemirror_mode": {
    "name": "ipython",
    "version": 3
   },
   "file_extension": ".py",
   "mimetype": "text/x-python",
   "name": "python",
   "nbconvert_exporter": "python",
   "pygments_lexer": "ipython3",
   "version": "3.9.0"
  }
 },
 "nbformat": 4,
 "nbformat_minor": 5
}
