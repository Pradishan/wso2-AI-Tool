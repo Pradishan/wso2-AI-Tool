{
 "cells": [
  {
   "cell_type": "code",
   "execution_count": 3,
   "id": "b7ddb91f",
   "metadata": {},
   "outputs": [
    {
     "name": "stderr",
     "output_type": "stream",
     "text": [
      "\u001b[32m2025-06-26 14:13:58.470\u001b[0m | \u001b[1mINFO    \u001b[0m | \u001b[36m__main__\u001b[0m:\u001b[36m<module>\u001b[0m:\u001b[36m10\u001b[0m - \u001b[1mLibraries imported and logger configured for Feature Extraction.\u001b[0m\n"
     ]
    }
   ],
   "source": [
    "import pandas as pd\n",
    "import git\n",
    "import os\n",
    "from loguru import logger\n",
    "from tqdm import tqdm\n",
    "\n",
    "# Logger config\n",
    "logger.add(\"logs/precomputing.log\")\n",
    "\n",
    "logger.info(\"Libraries imported and logger configured for Feature Extraction.\")"
   ]
  },
  {
   "cell_type": "code",
   "execution_count": 7,
   "id": "dcdf5047",
   "metadata": {},
   "outputs": [
    {
     "name": "stderr",
     "output_type": "stream",
     "text": [
      "\u001b[32m2025-06-26 14:15:37.223\u001b[0m | \u001b[1mINFO    \u001b[0m | \u001b[36m__main__\u001b[0m:\u001b[36m<module>\u001b[0m:\u001b[36m40\u001b[0m - \u001b[1mNo cached history file found. Starting full pre-computation...\u001b[0m\n",
      "Building Author & File History: 100%|██████████| 126808/126808 [20:30:36<00:00,  1.72it/s]      \n",
      "\u001b[32m2025-06-27 10:46:15.303\u001b[0m | \u001b[32m\u001b[1mSUCCESS \u001b[0m | \u001b[36m__main__\u001b[0m:\u001b[36m<module>\u001b[0m:\u001b[36m86\u001b[0m - \u001b[32m\u001b[1mHistory pre-computation complete and saved to 'author_history_cache.pkl'.\u001b[0m\n"
     ]
    }
   ],
   "source": [
    "# Final Optimized Cell: Pre-computation with Caching\n",
    "\n",
    "import pickle\n",
    "from collections import defaultdict\n",
    "import bisect\n",
    "\n",
    "# 1. The local file path to the Git repository you want to analyze.\n",
    "REPO_PATH = \"../../ballerina-lang/\"\n",
    "\n",
    "# --- New Configuration for Caching ---\n",
    "PRECOMPUTED_DATA_FILE = \"author_history_cache.pkl\"\n",
    "\n",
    "# 2. The branch you want to analyze (e.g., 'main', 'master', 'develop').\n",
    "TARGET_BRANCH = 'master' \n",
    "\n",
    "# 4. (Optional) List of file extensions to analyze.\n",
    "SOURCE_CODE_EXTENSIONS = [\n",
    "    # Primary programming languages\n",
    "    '.java', '.bal', '.js', '.py', \n",
    "    \n",
    "    # Configuration files\n",
    "    '.yml', '.yaml', '.xml', '.json', '.toml', '.properties',\n",
    "    \n",
    "    # Documentation and markup\n",
    "    '.md', '.html', '.css',\n",
    "    \n",
    "    # Build and script files\n",
    "    '.gradle', '.sh', '.bat'\n",
    "]\n",
    "\n",
    "precomputed_data = {}\n",
    "\n",
    "# --- Step 1: Check for a cached version first ---\n",
    "if os.path.exists(PRECOMPUTED_DATA_FILE):\n",
    "    logger.info(f\"Found cached history file at '{PRECOMPUTED_DATA_FILE}'. Loading...\")\n",
    "    with open(PRECOMPUTED_DATA_FILE, 'rb') as f:\n",
    "        precomputed_data = pickle.load(f)\n",
    "    logger.success(\"Successfully loaded pre-computed history from cache.\")\n",
    "else:\n",
    "    logger.info(f\"No cached history file found. Starting full pre-computation...\")\n",
    "    \n",
    "    # --- Step 2: Run the one-time computation if no cache exists ---\n",
    "    repo = git.Repo(REPO_PATH)\n",
    "    commits_in_order = list(repo.iter_commits(TARGET_BRANCH, reverse=True))\n",
    "\n",
    "    author_history = defaultdict(list)\n",
    "    file_history = defaultdict(set)\n",
    "\n",
    "    for commit in tqdm(commits_in_order, desc=\"Building Author & File History\"):\n",
    "        author_email = commit.author.email\n",
    "        commit_time = commit.authored_datetime\n",
    "        \n",
    "        # Calculate metrics based on history *before* this commit\n",
    "        past_commits_timestamps = author_history[author_email]\n",
    "        time_since_last = (commit_time - past_commits_timestamps[-1]).total_seconds() if past_commits_timestamps else 0\n",
    "        \n",
    "        sixty_days_ago = commit_time - pd.Timedelta(days=60)\n",
    "        start_index = bisect.bisect_left(past_commits_timestamps, sixty_days_ago)\n",
    "        recent_commits_count = len(past_commits_timestamps) - start_index\n",
    "\n",
    "        previous_committers = set()\n",
    "        if commit.parents:\n",
    "            for diff in commit.diff(commit.parents[0]):\n",
    "                file_path = diff.a_path or diff.b_path\n",
    "                if file_path:\n",
    "                    previous_committers.update(file_history[file_path])\n",
    "        \n",
    "        precomputed_data[commit.hexsha] = {\n",
    "            'author_total_commits': len(past_commits_timestamps),\n",
    "            'time_since_last_commit_seconds': time_since_last,\n",
    "            'recent_commits_60d': recent_commits_count,\n",
    "            'unique_prior_committers_on_files': len(previous_committers),\n",
    "        }\n",
    "        \n",
    "        # Update the history databases *after* processing\n",
    "        author_history[author_email].append(commit_time)\n",
    "        if commit.parents:\n",
    "            for diff in commit.diff(commit.parents[0]):\n",
    "                file_path = diff.a_path or diff.b_path\n",
    "                if file_path:\n",
    "                    file_history[file_path].add(author_email)\n",
    "\n",
    "    # --- Step 3: Save the results to the cache file for next time ---\n",
    "    with open(PRECOMPUTED_DATA_FILE, 'wb') as f:\n",
    "        pickle.dump(precomputed_data, f)\n",
    "    logger.success(f\"History pre-computation complete and saved to '{PRECOMPUTED_DATA_FILE}'.\")"
   ]
  }
 ],
 "metadata": {
  "kernelspec": {
   "display_name": ".venv",
   "language": "python",
   "name": "python3"
  },
  "language_info": {
   "codemirror_mode": {
    "name": "ipython",
    "version": 3
   },
   "file_extension": ".py",
   "mimetype": "text/x-python",
   "name": "python",
   "nbconvert_exporter": "python",
   "pygments_lexer": "ipython3",
   "version": "3.9.0"
  }
 },
 "nbformat": 4,
 "nbformat_minor": 5
}
